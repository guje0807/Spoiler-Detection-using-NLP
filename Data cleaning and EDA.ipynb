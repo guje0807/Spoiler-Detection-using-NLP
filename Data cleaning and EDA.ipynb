{
 "cells": [
  {
   "cell_type": "code",
   "execution_count": 8,
   "id": "21506443",
   "metadata": {},
   "outputs": [],
   "source": [
    "import pandas as pd\n",
    "import re,html\n",
    "from sklearn.feature_extraction.text import TfidfVectorizer\n",
    "from sklearn.metrics.pairwise import cosine_similarity\n",
    "import glob as g\n",
    "import re,html\n",
    "import matplotlib.pyplot as plt\n",
    "from scipy.stats import mannwhitneyu\n",
    "from gensim.models.doc2vec import Doc2Vec, TaggedDocument"
   ]
  },
  {
   "cell_type": "code",
   "execution_count": 9,
   "id": "b07bf4ef",
   "metadata": {},
   "outputs": [],
   "source": [
    "#loading data"
   ]
  },
  {
   "cell_type": "code",
   "execution_count": 10,
   "id": "b22327cf",
   "metadata": {},
   "outputs": [],
   "source": [
    "def read_datasets(filepath):\n",
    "    columns=['Index','Review','Title']\n",
    "    df_main = pd.DataFrame()\n",
    "    filenames = g.glob(filepath + '/*')\n",
    "    for name in filenames:\n",
    "        print(name)\n",
    "        df = pd.read_excel(name)\n",
    "        df_main = pd.concat([df_main,df])\n",
    "    df_main.columns = columns\n",
    "    return df_main"
   ]
  },
  {
   "cell_type": "code",
   "execution_count": 11,
   "id": "0b519bf7",
   "metadata": {},
   "outputs": [
    {
     "name": "stdout",
     "output_type": "stream",
     "text": [
      "./Spoiler Data Sets\\Spoiler_list1.xlsx\n",
      "./Spoiler Data Sets\\Spoiler_list10.xlsx\n",
      "./Spoiler Data Sets\\Spoiler_list2.xlsx\n",
      "./Spoiler Data Sets\\Spoiler_list3.xlsx\n",
      "./Spoiler Data Sets\\Spoiler_list4.xlsx\n",
      "./Spoiler Data Sets\\Spoiler_list5.xlsx\n",
      "./Spoiler Data Sets\\Spoiler_list6.xlsx\n",
      "./Spoiler Data Sets\\Spoiler_list7.xlsx\n",
      "./Spoiler Data Sets\\Spoiler_list8.xlsx\n",
      "./Spoiler Data Sets\\Spoiler_list9.xlsx\n"
     ]
    }
   ],
   "source": [
    "df_spoilers = read_datasets(\"./Spoiler Data Sets/\")"
   ]
  },
  {
   "cell_type": "code",
   "execution_count": 12,
   "id": "8005d4b1",
   "metadata": {},
   "outputs": [
    {
     "data": {
      "text/plain": [
       "Index     2001\n",
       "Review    6336\n",
       "Title      222\n",
       "dtype: int64"
      ]
     },
     "execution_count": 12,
     "metadata": {},
     "output_type": "execute_result"
    }
   ],
   "source": [
    "df_spoilers.nunique()"
   ]
  },
  {
   "cell_type": "code",
   "execution_count": 13,
   "id": "ede36cc4",
   "metadata": {},
   "outputs": [
    {
     "name": "stdout",
     "output_type": "stream",
     "text": [
      "Non-Spoiler Data Sets\\Non_Spoiler_list1.xlsx\n",
      "Non-Spoiler Data Sets\\Non_Spoiler_list2.xlsx\n",
      "Non-Spoiler Data Sets\\Non_Spoiler_list3.xlsx\n",
      "Non-Spoiler Data Sets\\Non_Spoiler_list4.xlsx\n",
      "Non-Spoiler Data Sets\\Non_Spoiler_list5.xlsx\n",
      "Non-Spoiler Data Sets\\Non_Spoiler_list6.xlsx\n",
      "Non-Spoiler Data Sets\\Non_Spoiler_list7.xlsx\n"
     ]
    }
   ],
   "source": [
    "df_non_spoilers = read_datasets(\"Non-Spoiler Data Sets/\")"
   ]
  },
  {
   "cell_type": "code",
   "execution_count": 14,
   "id": "9ece78c5",
   "metadata": {},
   "outputs": [
    {
     "data": {
      "text/plain": [
       "Index      6499\n",
       "Review    16543\n",
       "Title       174\n",
       "dtype: int64"
      ]
     },
     "execution_count": 14,
     "metadata": {},
     "output_type": "execute_result"
    }
   ],
   "source": [
    "df_non_spoilers.nunique()"
   ]
  },
  {
   "cell_type": "code",
   "execution_count": 15,
   "id": "b001997b",
   "metadata": {},
   "outputs": [],
   "source": [
    "#Data cleaning"
   ]
  },
  {
   "cell_type": "code",
   "execution_count": 16,
   "id": "2126e983",
   "metadata": {},
   "outputs": [],
   "source": [
    "#checking for duplicate values"
   ]
  },
  {
   "cell_type": "code",
   "execution_count": 17,
   "id": "337c4b8f",
   "metadata": {},
   "outputs": [
    {
     "data": {
      "text/plain": [
       "(7189, 3)"
      ]
     },
     "execution_count": 17,
     "metadata": {},
     "output_type": "execute_result"
    }
   ],
   "source": [
    "df_spoilers.shape"
   ]
  },
  {
   "cell_type": "code",
   "execution_count": 18,
   "id": "bd87e929",
   "metadata": {},
   "outputs": [],
   "source": [
    "df_spoilers = df_spoilers.drop_duplicates(subset=\"Review\")"
   ]
  },
  {
   "cell_type": "code",
   "execution_count": 19,
   "id": "f6631e7b",
   "metadata": {},
   "outputs": [
    {
     "data": {
      "text/plain": [
       "(6336, 3)"
      ]
     },
     "execution_count": 19,
     "metadata": {},
     "output_type": "execute_result"
    }
   ],
   "source": [
    "df_spoilers.shape"
   ]
  },
  {
   "cell_type": "code",
   "execution_count": 20,
   "id": "c690ed31",
   "metadata": {},
   "outputs": [
    {
     "data": {
      "text/plain": [
       "(16559, 3)"
      ]
     },
     "execution_count": 20,
     "metadata": {},
     "output_type": "execute_result"
    }
   ],
   "source": [
    "df_non_spoilers.shape"
   ]
  },
  {
   "cell_type": "code",
   "execution_count": 21,
   "id": "2764ca74",
   "metadata": {},
   "outputs": [],
   "source": [
    "df_non_spoilers = df_non_spoilers.drop_duplicates(subset=\"Review\")"
   ]
  },
  {
   "cell_type": "code",
   "execution_count": 22,
   "id": "e45d7efd",
   "metadata": {},
   "outputs": [
    {
     "data": {
      "text/plain": [
       "(16543, 3)"
      ]
     },
     "execution_count": 22,
     "metadata": {},
     "output_type": "execute_result"
    }
   ],
   "source": [
    "df_non_spoilers.shape"
   ]
  },
  {
   "cell_type": "code",
   "execution_count": 23,
   "id": "d9760085",
   "metadata": {},
   "outputs": [],
   "source": [
    "#dropping index columns"
   ]
  },
  {
   "cell_type": "code",
   "execution_count": 24,
   "id": "cca54e2a",
   "metadata": {},
   "outputs": [],
   "source": [
    "df_spoilers.drop(\"Index\",axis=1,inplace=True)\n",
    "df_non_spoilers.drop(\"Index\",axis=1,inplace=True)"
   ]
  },
  {
   "cell_type": "code",
   "execution_count": 25,
   "id": "cadca5ff",
   "metadata": {},
   "outputs": [],
   "source": [
    "#adding target column in spoiler and non spoilers dataframe\n",
    "#1: spoiler and 0: non spoiler"
   ]
  },
  {
   "cell_type": "code",
   "execution_count": 26,
   "id": "950e35b9",
   "metadata": {},
   "outputs": [],
   "source": [
    "df_spoilers[\"Spoiler_flag\"] = 1\n",
    "df_non_spoilers[\"Spoiler_flag\"] = 0"
   ]
  },
  {
   "cell_type": "code",
   "execution_count": 27,
   "id": "5751ee29",
   "metadata": {},
   "outputs": [],
   "source": [
    "#cleaning data"
   ]
  },
  {
   "cell_type": "code",
   "execution_count": 28,
   "id": "0f1b4d38",
   "metadata": {},
   "outputs": [],
   "source": [
    "def clean(text):\n",
    "    #tags like <tag>\n",
    "    text = re.sub(r'<[^<>]*>', ' ',text)\n",
    "    #Markdown Urls\n",
    "    text = re.sub(r'\\[([^\\[\\]]*)\\]\\([^\\(\\)]*\\)',r'\\1',text)\n",
    "    #Remove Punctuation\n",
    "    text = re.sub(r'([!?,])\\1+', r'\\1', text)\n",
    "    #Remove all URL's\n",
    "    text = re.sub(r'http.*', ' ', text)\n",
    "    #Remove @\n",
    "    text = re.sub(r'@\\w*', ' ', text)\n",
    "    #text or code in brackets\n",
    "    text = re.sub(r'\\[[^\\[\\]]*\\]',' ',text)\n",
    "    # remove b\"\n",
    "    text = text.replace('b\\\"',' ') \n",
    "    # remove b'\n",
    "    text = text.replace(\"b\\'\",' ') \n",
    "    # remove \\\\n\n",
    "    text = text.replace('\\\\n',' ')\n",
    "    #Remove &amp\n",
    "    text = text.replace('&amp',' ') \n",
    "    # remove UTF-8 code like \\\\xe2\n",
    "    text = re.sub(r'(\\\\x(.){2})', ' ',text) \n",
    "    #Standalone sequences for specials\n",
    "    text = re.sub(r'(?:^|\\s)[;.\\'\\\"&#<>{}\\[\\]+|\\\\:-]{1,}(?:\\s|$)', ' ',text)\n",
    "    #stand alone sequence of hyphens \n",
    "    text= re.sub(r'(?:^|\\s)[\\-=\\+]{2,}(?:\\s|$)', ' ',text)\n",
    "    # Sequence of white spaces\n",
    "    text = re.sub(r'\\s+',' ',text)\n",
    "    return text.strip()"
   ]
  },
  {
   "cell_type": "code",
   "execution_count": 29,
   "id": "0aaeec41",
   "metadata": {
    "scrolled": true
   },
   "outputs": [],
   "source": [
    "df_spoilers[\"Review\"] = df_spoilers[\"Review\"].map(clean)\n",
    "df_non_spoilers[\"Review\"] = df_non_spoilers[\"Review\"].map(clean)"
   ]
  },
  {
   "cell_type": "code",
   "execution_count": 30,
   "id": "82d02384",
   "metadata": {},
   "outputs": [],
   "source": [
    "#loading Synopsis dataset"
   ]
  },
  {
   "cell_type": "code",
   "execution_count": 31,
   "id": "5076dce8",
   "metadata": {},
   "outputs": [],
   "source": [
    "plot = pd.read_excel(\"Plot_synopsis.xlsx\")"
   ]
  },
  {
   "cell_type": "code",
   "execution_count": 32,
   "id": "e50961f7",
   "metadata": {},
   "outputs": [
    {
     "data": {
      "text/html": [
       "<div>\n",
       "<style scoped>\n",
       "    .dataframe tbody tr th:only-of-type {\n",
       "        vertical-align: middle;\n",
       "    }\n",
       "\n",
       "    .dataframe tbody tr th {\n",
       "        vertical-align: top;\n",
       "    }\n",
       "\n",
       "    .dataframe thead th {\n",
       "        text-align: right;\n",
       "    }\n",
       "</style>\n",
       "<table border=\"1\" class=\"dataframe\">\n",
       "  <thead>\n",
       "    <tr style=\"text-align: right;\">\n",
       "      <th></th>\n",
       "      <th>Unnamed: 0</th>\n",
       "      <th>titles</th>\n",
       "      <th>plot_Synopsis</th>\n",
       "    </tr>\n",
       "  </thead>\n",
       "  <tbody>\n",
       "    <tr>\n",
       "      <th>0</th>\n",
       "      <td>0</td>\n",
       "      <td>/title/tt0111161/</td>\n",
       "      <td>&lt;div class=\"ipc-html-content-inner-div\"&gt;In 194...</td>\n",
       "    </tr>\n",
       "    <tr>\n",
       "      <th>1</th>\n",
       "      <td>1</td>\n",
       "      <td>/title/tt0068646/</td>\n",
       "      <td>&lt;div class=\"ipc-html-content-inner-div\"&gt;In lat...</td>\n",
       "    </tr>\n",
       "    <tr>\n",
       "      <th>2</th>\n",
       "      <td>2</td>\n",
       "      <td>/title/tt0468569/</td>\n",
       "      <td>&lt;div class=\"ipc-html-content-inner-div\"&gt;The mo...</td>\n",
       "    </tr>\n",
       "    <tr>\n",
       "      <th>3</th>\n",
       "      <td>3</td>\n",
       "      <td>/title/tt0071562/</td>\n",
       "      <td>&lt;div class=\"ipc-html-content-inner-div\"&gt;The Go...</td>\n",
       "    </tr>\n",
       "    <tr>\n",
       "      <th>4</th>\n",
       "      <td>4</td>\n",
       "      <td>/title/tt0050083/</td>\n",
       "      <td>&lt;div class=\"ipc-html-content-inner-div\"&gt;In a N...</td>\n",
       "    </tr>\n",
       "  </tbody>\n",
       "</table>\n",
       "</div>"
      ],
      "text/plain": [
       "   Unnamed: 0             titles  \\\n",
       "0           0  /title/tt0111161/   \n",
       "1           1  /title/tt0068646/   \n",
       "2           2  /title/tt0468569/   \n",
       "3           3  /title/tt0071562/   \n",
       "4           4  /title/tt0050083/   \n",
       "\n",
       "                                       plot_Synopsis  \n",
       "0  <div class=\"ipc-html-content-inner-div\">In 194...  \n",
       "1  <div class=\"ipc-html-content-inner-div\">In lat...  \n",
       "2  <div class=\"ipc-html-content-inner-div\">The mo...  \n",
       "3  <div class=\"ipc-html-content-inner-div\">The Go...  \n",
       "4  <div class=\"ipc-html-content-inner-div\">In a N...  "
      ]
     },
     "execution_count": 32,
     "metadata": {},
     "output_type": "execute_result"
    }
   ],
   "source": [
    "plot.head()"
   ]
  },
  {
   "cell_type": "code",
   "execution_count": 33,
   "id": "89652fbb",
   "metadata": {},
   "outputs": [
    {
     "data": {
      "text/plain": [
       "(250, 3)"
      ]
     },
     "execution_count": 33,
     "metadata": {},
     "output_type": "execute_result"
    }
   ],
   "source": [
    "plot.shape"
   ]
  },
  {
   "cell_type": "code",
   "execution_count": 34,
   "id": "73f31c95",
   "metadata": {},
   "outputs": [],
   "source": [
    "plot.drop(\"Unnamed: 0\",axis=1,inplace=True)"
   ]
  },
  {
   "cell_type": "code",
   "execution_count": 35,
   "id": "4dbc58a3",
   "metadata": {},
   "outputs": [],
   "source": [
    "plot = plot.rename(columns={\"titles\":'Title', \"plot_Synopsis\":'Synopsis'})"
   ]
  },
  {
   "cell_type": "code",
   "execution_count": 36,
   "id": "22930983",
   "metadata": {},
   "outputs": [
    {
     "data": {
      "text/html": [
       "<div>\n",
       "<style scoped>\n",
       "    .dataframe tbody tr th:only-of-type {\n",
       "        vertical-align: middle;\n",
       "    }\n",
       "\n",
       "    .dataframe tbody tr th {\n",
       "        vertical-align: top;\n",
       "    }\n",
       "\n",
       "    .dataframe thead th {\n",
       "        text-align: right;\n",
       "    }\n",
       "</style>\n",
       "<table border=\"1\" class=\"dataframe\">\n",
       "  <thead>\n",
       "    <tr style=\"text-align: right;\">\n",
       "      <th></th>\n",
       "      <th>Title</th>\n",
       "      <th>Synopsis</th>\n",
       "    </tr>\n",
       "  </thead>\n",
       "  <tbody>\n",
       "    <tr>\n",
       "      <th>0</th>\n",
       "      <td>/title/tt0111161/</td>\n",
       "      <td>&lt;div class=\"ipc-html-content-inner-div\"&gt;In 194...</td>\n",
       "    </tr>\n",
       "    <tr>\n",
       "      <th>1</th>\n",
       "      <td>/title/tt0068646/</td>\n",
       "      <td>&lt;div class=\"ipc-html-content-inner-div\"&gt;In lat...</td>\n",
       "    </tr>\n",
       "    <tr>\n",
       "      <th>2</th>\n",
       "      <td>/title/tt0468569/</td>\n",
       "      <td>&lt;div class=\"ipc-html-content-inner-div\"&gt;The mo...</td>\n",
       "    </tr>\n",
       "    <tr>\n",
       "      <th>3</th>\n",
       "      <td>/title/tt0071562/</td>\n",
       "      <td>&lt;div class=\"ipc-html-content-inner-div\"&gt;The Go...</td>\n",
       "    </tr>\n",
       "    <tr>\n",
       "      <th>4</th>\n",
       "      <td>/title/tt0050083/</td>\n",
       "      <td>&lt;div class=\"ipc-html-content-inner-div\"&gt;In a N...</td>\n",
       "    </tr>\n",
       "  </tbody>\n",
       "</table>\n",
       "</div>"
      ],
      "text/plain": [
       "               Title                                           Synopsis\n",
       "0  /title/tt0111161/  <div class=\"ipc-html-content-inner-div\">In 194...\n",
       "1  /title/tt0068646/  <div class=\"ipc-html-content-inner-div\">In lat...\n",
       "2  /title/tt0468569/  <div class=\"ipc-html-content-inner-div\">The mo...\n",
       "3  /title/tt0071562/  <div class=\"ipc-html-content-inner-div\">The Go...\n",
       "4  /title/tt0050083/  <div class=\"ipc-html-content-inner-div\">In a N..."
      ]
     },
     "execution_count": 36,
     "metadata": {},
     "output_type": "execute_result"
    }
   ],
   "source": [
    "plot.head()"
   ]
  },
  {
   "cell_type": "code",
   "execution_count": 37,
   "id": "a9e7afa8",
   "metadata": {},
   "outputs": [],
   "source": [
    "plot[\"Synopsis\"] = plot[\"Synopsis\"].map(clean)"
   ]
  },
  {
   "cell_type": "code",
   "execution_count": 38,
   "id": "9c71fe45",
   "metadata": {},
   "outputs": [
    {
     "data": {
      "text/html": [
       "<div>\n",
       "<style scoped>\n",
       "    .dataframe tbody tr th:only-of-type {\n",
       "        vertical-align: middle;\n",
       "    }\n",
       "\n",
       "    .dataframe tbody tr th {\n",
       "        vertical-align: top;\n",
       "    }\n",
       "\n",
       "    .dataframe thead th {\n",
       "        text-align: right;\n",
       "    }\n",
       "</style>\n",
       "<table border=\"1\" class=\"dataframe\">\n",
       "  <thead>\n",
       "    <tr style=\"text-align: right;\">\n",
       "      <th></th>\n",
       "      <th>Title</th>\n",
       "      <th>Synopsis</th>\n",
       "    </tr>\n",
       "  </thead>\n",
       "  <tbody>\n",
       "    <tr>\n",
       "      <th>0</th>\n",
       "      <td>/title/tt0111161/</td>\n",
       "      <td>In 1947, Andy Dufresne ( Tim Robbins ), a bank...</td>\n",
       "    </tr>\n",
       "    <tr>\n",
       "      <th>1</th>\n",
       "      <td>/title/tt0068646/</td>\n",
       "      <td>In late summer 1945, guests are gathered for t...</td>\n",
       "    </tr>\n",
       "    <tr>\n",
       "      <th>2</th>\n",
       "      <td>/title/tt0468569/</td>\n",
       "      <td>The movie begins with a gang of men with clown...</td>\n",
       "    </tr>\n",
       "    <tr>\n",
       "      <th>3</th>\n",
       "      <td>/title/tt0071562/</td>\n",
       "      <td>The Godfather Part II presents two parallel st...</td>\n",
       "    </tr>\n",
       "    <tr>\n",
       "      <th>4</th>\n",
       "      <td>/title/tt0050083/</td>\n",
       "      <td>In a New York City courthouse, an eighteen-yea...</td>\n",
       "    </tr>\n",
       "  </tbody>\n",
       "</table>\n",
       "</div>"
      ],
      "text/plain": [
       "               Title                                           Synopsis\n",
       "0  /title/tt0111161/  In 1947, Andy Dufresne ( Tim Robbins ), a bank...\n",
       "1  /title/tt0068646/  In late summer 1945, guests are gathered for t...\n",
       "2  /title/tt0468569/  The movie begins with a gang of men with clown...\n",
       "3  /title/tt0071562/  The Godfather Part II presents two parallel st...\n",
       "4  /title/tt0050083/  In a New York City courthouse, an eighteen-yea..."
      ]
     },
     "execution_count": 38,
     "metadata": {},
     "output_type": "execute_result"
    }
   ],
   "source": [
    "plot.head()"
   ]
  },
  {
   "cell_type": "code",
   "execution_count": 39,
   "id": "92c0b00c",
   "metadata": {},
   "outputs": [],
   "source": [
    "#merging spoilers, non_spoiler with synopsis for text similarity"
   ]
  },
  {
   "cell_type": "code",
   "execution_count": 40,
   "id": "106ccd62",
   "metadata": {},
   "outputs": [],
   "source": [
    "spoilers_synopsis = pd.merge(df_spoilers, plot, on=['Title','Title'],how=\"left\")\n",
    "non_spoiler_synopsis  = pd.merge(df_non_spoilers, plot, on=['Title','Title'],how=\"left\")"
   ]
  },
  {
   "cell_type": "code",
   "execution_count": 41,
   "id": "66b064d4",
   "metadata": {},
   "outputs": [
    {
     "data": {
      "text/plain": [
       "(6336, 4)"
      ]
     },
     "execution_count": 41,
     "metadata": {},
     "output_type": "execute_result"
    }
   ],
   "source": [
    "spoilers_synopsis.shape"
   ]
  },
  {
   "cell_type": "code",
   "execution_count": 42,
   "id": "dba44f16",
   "metadata": {},
   "outputs": [
    {
     "data": {
      "text/plain": [
       "(16543, 4)"
      ]
     },
     "execution_count": 42,
     "metadata": {},
     "output_type": "execute_result"
    }
   ],
   "source": [
    "non_spoiler_synopsis.shape"
   ]
  },
  {
   "cell_type": "code",
   "execution_count": 43,
   "id": "87c2ec45",
   "metadata": {},
   "outputs": [],
   "source": [
    "#finding the similarity in spoilers-synopsis texts and non-spoiler-synopsis texts (similarity check)"
   ]
  },
  {
   "cell_type": "markdown",
   "id": "17f00808",
   "metadata": {},
   "source": [
    "# Cosine Similarity"
   ]
  },
  {
   "cell_type": "code",
   "execution_count": 44,
   "id": "8d25f36e",
   "metadata": {},
   "outputs": [],
   "source": [
    "#for spoiler-synopsis"
   ]
  },
  {
   "cell_type": "code",
   "execution_count": 45,
   "id": "8a4e3b18",
   "metadata": {},
   "outputs": [],
   "source": [
    "tfidf = TfidfVectorizer()"
   ]
  },
  {
   "cell_type": "code",
   "execution_count": 46,
   "id": "3b54ec7a",
   "metadata": {},
   "outputs": [],
   "source": [
    "text_matrix1 = tfidf.fit_transform(spoilers_synopsis['Review'].values.astype('U'))\n",
    "text_matrix2 = tfidf.transform(spoilers_synopsis['Synopsis'].values.astype('U'))\n"
   ]
  },
  {
   "cell_type": "code",
   "execution_count": 47,
   "id": "357b3423",
   "metadata": {},
   "outputs": [],
   "source": [
    "similarity_matrix = cosine_similarity(text_matrix1, text_matrix2)\n"
   ]
  },
  {
   "cell_type": "code",
   "execution_count": 48,
   "id": "9a0ba004",
   "metadata": {},
   "outputs": [],
   "source": [
    "spoilers_synopsis['Cosine_Similarity'] = similarity_matrix.diagonal()\n"
   ]
  },
  {
   "cell_type": "code",
   "execution_count": 49,
   "id": "da33adb9",
   "metadata": {},
   "outputs": [
    {
     "data": {
      "text/html": [
       "<div>\n",
       "<style scoped>\n",
       "    .dataframe tbody tr th:only-of-type {\n",
       "        vertical-align: middle;\n",
       "    }\n",
       "\n",
       "    .dataframe tbody tr th {\n",
       "        vertical-align: top;\n",
       "    }\n",
       "\n",
       "    .dataframe thead th {\n",
       "        text-align: right;\n",
       "    }\n",
       "</style>\n",
       "<table border=\"1\" class=\"dataframe\">\n",
       "  <thead>\n",
       "    <tr style=\"text-align: right;\">\n",
       "      <th></th>\n",
       "      <th>Review</th>\n",
       "      <th>Title</th>\n",
       "      <th>Spoiler_flag</th>\n",
       "      <th>Synopsis</th>\n",
       "      <th>Cosine_Similarity</th>\n",
       "    </tr>\n",
       "  </thead>\n",
       "  <tbody>\n",
       "    <tr>\n",
       "      <th>0</th>\n",
       "      <td>The Shawshank Redemption is written and direct...</td>\n",
       "      <td>/title/tt0111161/</td>\n",
       "      <td>1</td>\n",
       "      <td>In 1947, Andy Dufresne ( Tim Robbins ), a bank...</td>\n",
       "      <td>0.438682</td>\n",
       "    </tr>\n",
       "    <tr>\n",
       "      <th>1</th>\n",
       "      <td>In its Oscar year, Shawshank Redemption (writt...</td>\n",
       "      <td>/title/tt0111161/</td>\n",
       "      <td>1</td>\n",
       "      <td>In 1947, Andy Dufresne ( Tim Robbins ), a bank...</td>\n",
       "      <td>0.429616</td>\n",
       "    </tr>\n",
       "    <tr>\n",
       "      <th>2</th>\n",
       "      <td>Based on a novella by Stephen King, this is be...</td>\n",
       "      <td>/title/tt0111161/</td>\n",
       "      <td>1</td>\n",
       "      <td>In 1947, Andy Dufresne ( Tim Robbins ), a bank...</td>\n",
       "      <td>0.177022</td>\n",
       "    </tr>\n",
       "    <tr>\n",
       "      <th>3</th>\n",
       "      <td>The Shawshank Redemption is without a doubt on...</td>\n",
       "      <td>/title/tt0111161/</td>\n",
       "      <td>1</td>\n",
       "      <td>In 1947, Andy Dufresne ( Tim Robbins ), a bank...</td>\n",
       "      <td>0.429847</td>\n",
       "    </tr>\n",
       "    <tr>\n",
       "      <th>4</th>\n",
       "      <td>None of the usual otherworld creatures that po...</td>\n",
       "      <td>/title/tt0111161/</td>\n",
       "      <td>1</td>\n",
       "      <td>In 1947, Andy Dufresne ( Tim Robbins ), a bank...</td>\n",
       "      <td>0.308884</td>\n",
       "    </tr>\n",
       "  </tbody>\n",
       "</table>\n",
       "</div>"
      ],
      "text/plain": [
       "                                              Review              Title  \\\n",
       "0  The Shawshank Redemption is written and direct...  /title/tt0111161/   \n",
       "1  In its Oscar year, Shawshank Redemption (writt...  /title/tt0111161/   \n",
       "2  Based on a novella by Stephen King, this is be...  /title/tt0111161/   \n",
       "3  The Shawshank Redemption is without a doubt on...  /title/tt0111161/   \n",
       "4  None of the usual otherworld creatures that po...  /title/tt0111161/   \n",
       "\n",
       "   Spoiler_flag                                           Synopsis  \\\n",
       "0             1  In 1947, Andy Dufresne ( Tim Robbins ), a bank...   \n",
       "1             1  In 1947, Andy Dufresne ( Tim Robbins ), a bank...   \n",
       "2             1  In 1947, Andy Dufresne ( Tim Robbins ), a bank...   \n",
       "3             1  In 1947, Andy Dufresne ( Tim Robbins ), a bank...   \n",
       "4             1  In 1947, Andy Dufresne ( Tim Robbins ), a bank...   \n",
       "\n",
       "   Cosine_Similarity  \n",
       "0           0.438682  \n",
       "1           0.429616  \n",
       "2           0.177022  \n",
       "3           0.429847  \n",
       "4           0.308884  "
      ]
     },
     "execution_count": 49,
     "metadata": {},
     "output_type": "execute_result"
    }
   ],
   "source": [
    "spoilers_synopsis.head()"
   ]
  },
  {
   "cell_type": "code",
   "execution_count": 50,
   "id": "ba357115",
   "metadata": {},
   "outputs": [
    {
     "data": {
      "text/plain": [
       "count    6336.000000\n",
       "mean        0.317273\n",
       "std         0.158347\n",
       "min         0.000000\n",
       "25%         0.193635\n",
       "50%         0.299407\n",
       "75%         0.424775\n",
       "max         0.941571\n",
       "Name: Cosine_Similarity, dtype: float64"
      ]
     },
     "execution_count": 50,
     "metadata": {},
     "output_type": "execute_result"
    }
   ],
   "source": [
    "spoilers_synopsis.Cosine_Similarity.describe()"
   ]
  },
  {
   "cell_type": "code",
   "execution_count": 51,
   "id": "e0e012b1",
   "metadata": {},
   "outputs": [],
   "source": [
    "#for non_spoiler-synopsis"
   ]
  },
  {
   "cell_type": "code",
   "execution_count": 52,
   "id": "6b8f4a7d",
   "metadata": {},
   "outputs": [],
   "source": [
    "text_matrix3 = tfidf.fit_transform(non_spoiler_synopsis['Review'].values.astype('U'))\n",
    "text_matrix4 = tfidf.transform(non_spoiler_synopsis['Synopsis'].values.astype('U'))\n"
   ]
  },
  {
   "cell_type": "code",
   "execution_count": 53,
   "id": "06aa8b60",
   "metadata": {},
   "outputs": [],
   "source": [
    "similarity_matrix = cosine_similarity(text_matrix3, text_matrix4)\n"
   ]
  },
  {
   "cell_type": "code",
   "execution_count": 54,
   "id": "14c6e3ff",
   "metadata": {},
   "outputs": [],
   "source": [
    "non_spoiler_synopsis['Cosine_Similarity'] = similarity_matrix.diagonal()\n"
   ]
  },
  {
   "cell_type": "code",
   "execution_count": 55,
   "id": "bf7a9f26",
   "metadata": {},
   "outputs": [
    {
     "data": {
      "text/html": [
       "<div>\n",
       "<style scoped>\n",
       "    .dataframe tbody tr th:only-of-type {\n",
       "        vertical-align: middle;\n",
       "    }\n",
       "\n",
       "    .dataframe tbody tr th {\n",
       "        vertical-align: top;\n",
       "    }\n",
       "\n",
       "    .dataframe thead th {\n",
       "        text-align: right;\n",
       "    }\n",
       "</style>\n",
       "<table border=\"1\" class=\"dataframe\">\n",
       "  <thead>\n",
       "    <tr style=\"text-align: right;\">\n",
       "      <th></th>\n",
       "      <th>Review</th>\n",
       "      <th>Title</th>\n",
       "      <th>Spoiler_flag</th>\n",
       "      <th>Synopsis</th>\n",
       "      <th>Cosine_Similarity</th>\n",
       "    </tr>\n",
       "  </thead>\n",
       "  <tbody>\n",
       "    <tr>\n",
       "      <th>0</th>\n",
       "      <td>It is no wonder that the film has such a high ...</td>\n",
       "      <td>/title/tt0111161/</td>\n",
       "      <td>0</td>\n",
       "      <td>In 1947, Andy Dufresne ( Tim Robbins ), a bank...</td>\n",
       "      <td>0.124905</td>\n",
       "    </tr>\n",
       "    <tr>\n",
       "      <th>1</th>\n",
       "      <td>I'm trying to save you money; this is the last...</td>\n",
       "      <td>/title/tt0111161/</td>\n",
       "      <td>0</td>\n",
       "      <td>In 1947, Andy Dufresne ( Tim Robbins ), a bank...</td>\n",
       "      <td>0.272517</td>\n",
       "    </tr>\n",
       "    <tr>\n",
       "      <th>2</th>\n",
       "      <td>This movie is not your ordinary Hollywood flic...</td>\n",
       "      <td>/title/tt0111161/</td>\n",
       "      <td>0</td>\n",
       "      <td>In 1947, Andy Dufresne ( Tim Robbins ), a bank...</td>\n",
       "      <td>0.450186</td>\n",
       "    </tr>\n",
       "    <tr>\n",
       "      <th>3</th>\n",
       "      <td>One of the finest films made in recent years. ...</td>\n",
       "      <td>/title/tt0111161/</td>\n",
       "      <td>0</td>\n",
       "      <td>In 1947, Andy Dufresne ( Tim Robbins ), a bank...</td>\n",
       "      <td>0.179424</td>\n",
       "    </tr>\n",
       "    <tr>\n",
       "      <th>4</th>\n",
       "      <td>Misery and Stand By Me were the best adaptatio...</td>\n",
       "      <td>/title/tt0111161/</td>\n",
       "      <td>0</td>\n",
       "      <td>In 1947, Andy Dufresne ( Tim Robbins ), a bank...</td>\n",
       "      <td>0.289352</td>\n",
       "    </tr>\n",
       "  </tbody>\n",
       "</table>\n",
       "</div>"
      ],
      "text/plain": [
       "                                              Review              Title  \\\n",
       "0  It is no wonder that the film has such a high ...  /title/tt0111161/   \n",
       "1  I'm trying to save you money; this is the last...  /title/tt0111161/   \n",
       "2  This movie is not your ordinary Hollywood flic...  /title/tt0111161/   \n",
       "3  One of the finest films made in recent years. ...  /title/tt0111161/   \n",
       "4  Misery and Stand By Me were the best adaptatio...  /title/tt0111161/   \n",
       "\n",
       "   Spoiler_flag                                           Synopsis  \\\n",
       "0             0  In 1947, Andy Dufresne ( Tim Robbins ), a bank...   \n",
       "1             0  In 1947, Andy Dufresne ( Tim Robbins ), a bank...   \n",
       "2             0  In 1947, Andy Dufresne ( Tim Robbins ), a bank...   \n",
       "3             0  In 1947, Andy Dufresne ( Tim Robbins ), a bank...   \n",
       "4             0  In 1947, Andy Dufresne ( Tim Robbins ), a bank...   \n",
       "\n",
       "   Cosine_Similarity  \n",
       "0           0.124905  \n",
       "1           0.272517  \n",
       "2           0.450186  \n",
       "3           0.179424  \n",
       "4           0.289352  "
      ]
     },
     "execution_count": 55,
     "metadata": {},
     "output_type": "execute_result"
    }
   ],
   "source": [
    "non_spoiler_synopsis.head()"
   ]
  },
  {
   "cell_type": "code",
   "execution_count": 56,
   "id": "630c7d05",
   "metadata": {},
   "outputs": [
    {
     "data": {
      "text/plain": [
       "count    16543.000000\n",
       "mean         0.218163\n",
       "std          0.133921\n",
       "min          0.000000\n",
       "25%          0.114300\n",
       "50%          0.188936\n",
       "75%          0.298386\n",
       "max          0.907798\n",
       "Name: Cosine_Similarity, dtype: float64"
      ]
     },
     "execution_count": 56,
     "metadata": {},
     "output_type": "execute_result"
    }
   ],
   "source": [
    "non_spoiler_synopsis.Cosine_Similarity.describe()"
   ]
  },
  {
   "cell_type": "code",
   "execution_count": 57,
   "id": "9731e82c",
   "metadata": {},
   "outputs": [
    {
     "data": {
      "text/plain": [
       "Text(1, 0.18893582485025923, 'Median value = 0.19')"
      ]
     },
     "execution_count": 57,
     "metadata": {},
     "output_type": "execute_result"
    },
    {
     "data": {
      "image/png": "[encoded data removed]",
      "text/plain": [
       "<Figure size 1440x720 with 1 Axes>"
      ]
     },
     "metadata": {
      "needs_background": "light"
     },
     "output_type": "display_data"
    }
   ],
   "source": [
    "#non spoiler\n",
    "mediann = non_spoiler_synopsis.Cosine_Similarity.median()\n",
    "plt.figure(figsize=(20,10))\n",
    "plt.plot(non_spoiler_synopsis.Cosine_Similarity)\n",
    "plt.axhline(y=non_spoiler_synopsis.Cosine_Similarity.median(),color=\"r\", linestyle='--',)\n",
    "plt.text(1,mediann, f\"Median value = {mediann:.2f}\", color='r',fontsize=20)"
   ]
  },
  {
   "cell_type": "code",
   "execution_count": 58,
   "id": "579236d0",
   "metadata": {},
   "outputs": [
    {
     "data": {
      "text/plain": [
       "Text(1, 0.299406963279483, 'Median value = 0.30')"
      ]
     },
     "execution_count": 58,
     "metadata": {},
     "output_type": "execute_result"
    },
    {
     "data": {
      "image/png": "[encoded data removed]",
      "text/plain": [
       "<Figure size 1440x720 with 1 Axes>"
      ]
     },
     "metadata": {
      "needs_background": "light"
     },
     "output_type": "display_data"
    }
   ],
   "source": [
    "#spoiler\n",
    "\n",
    "mediann = spoilers_synopsis.Cosine_Similarity.median()\n",
    "plt.figure(figsize=(20,10))\n",
    "plt.plot(spoilers_synopsis.Cosine_Similarity)\n",
    "plt.axhline(y=spoilers_synopsis.Cosine_Similarity.median(),color=\"r\", linestyle='--',)\n",
    "plt.text(1,mediann, f\"Median value = {mediann:.2f}\", color='r',fontsize=20)"
   ]
  },
  {
   "cell_type": "markdown",
   "id": "8471705c",
   "metadata": {},
   "source": [
    "From the above graphs we can see that for non spoilers data, the median cosine similarity value is around 19 and for spoilers\n",
    "data this value is around 30. But can we consider similarity as a feature to be included in identifying a review as\n",
    "a spoiler or not? To verify this we can perform Hypothesis testing. "
   ]
  },
  {
   "cell_type": "markdown",
   "id": "98292990",
   "metadata": {},
   "source": [
    "# Hypothesis Testing"
   ]
  },
  {
   "cell_type": "markdown",
   "id": "0c0b481d",
   "metadata": {},
   "source": [
    "The above mentioned assumptions can be concluded using Hypothesis testing. \n",
    "\n",
    "lets verify whether similarity score can be considered as a feature to identify whether a review a spoiler or not. \n"
   ]
  },
  {
   "cell_type": "markdown",
   "id": "612e3f4e",
   "metadata": {},
   "source": [
    "Null hypothesis (H0): there is no significant difference between the text similarity scores of reviews that contain spoilers \n",
    "and those that do not.\n",
    "\n",
    "Alternative hypothesis (H1): there is a significant difference between the text similarity scores of reviews that contain \n",
    "spoilers and those that do not.\n",
    "\n",
    "Alpha: 0.05"
   ]
  },
  {
   "cell_type": "code",
   "execution_count": 59,
   "id": "8b9507da",
   "metadata": {},
   "outputs": [],
   "source": [
    "#Mann-Whitney U Test"
   ]
  },
  {
   "cell_type": "code",
   "execution_count": 60,
   "id": "ee505db6",
   "metadata": {},
   "outputs": [
    {
     "data": {
      "text/plain": [
       "MannwhitneyuResult(statistic=72045184.0, pvalue=0.0)"
      ]
     },
     "execution_count": 60,
     "metadata": {},
     "output_type": "execute_result"
    }
   ],
   "source": [
    "mannwhitneyu(spoilers_synopsis.Cosine_Similarity,non_spoiler_synopsis.Cosine_Similarity,alternative=\"two-sided\")"
   ]
  },
  {
   "cell_type": "markdown",
   "id": "48e574be",
   "metadata": {},
   "source": [
    "Since the p-value is less than 0.05, we can conclude that there is a significant difference in the similarity score between Spoilers dataset and non spoilers dataset allowing us to reject the null hypothesis. \n",
    "\n",
    "This means that the distribution of similarity score between spoilers dataset and non spoilers dataset are different and this feature can be used to identify whether a review is a spoiler or not"
   ]
  },
  {
   "cell_type": "markdown",
   "id": "c9f6ce2b",
   "metadata": {},
   "source": [
    "# Data manupilation in Non spoiler dataset (Outlier Detection)"
   ]
  },
  {
   "cell_type": "markdown",
   "id": "fd7745aa",
   "metadata": {},
   "source": [
    "An Important factor to notice in non spoiler dataset is that, there are reviews in non spoiler dataset that has a high\n",
    "similarity score yet classified as non spoiler. Let's look at one of those reviews"
   ]
  },
  {
   "cell_type": "code",
   "execution_count": 61,
   "id": "56276f12",
   "metadata": {},
   "outputs": [
    {
     "data": {
      "text/plain": [
       "3327"
      ]
     },
     "execution_count": 61,
     "metadata": {},
     "output_type": "execute_result"
    }
   ],
   "source": [
    "non_spoiler_synopsis.Cosine_Similarity.argmax()"
   ]
  },
  {
   "cell_type": "code",
   "execution_count": 62,
   "id": "8b85f627",
   "metadata": {},
   "outputs": [
    {
     "name": "stdout",
     "output_type": "stream",
     "text": [
      "/title/tt0110413/ \n",
      "\n",
      "the cosine similarity of a review in non spoiler dataset is 0.9077978387523011 \n",
      "\n",
      "This is the first Jean Reno film I saw. After this one, I saw many of his other films as well. BUT THIS ONE IS MY FAVORITE! The role fits him like a glove, and it seems to me to be made only for him. He gives us his emotional best in the film. The other great star in this film that complements him is Natalie Portman who plays her film debut at 12 years of age. Natalie plays the role of Mathilda, Leon's (Jean Reno) neighbour. Her acting is simply phenomenal. But like most child stars (a good example is Macaulay Culkin (Home Alone)) she does not do well as an adult actress. Anyway this IS HER BEST FILM. Now we are going to say something about the super actor called Gary Oldman. He is SUPER! My god I haven't seen anyone act like this before. This guy really gets into the act! This is ALSO HIS BEST FILM. Now when the 3 actors above all give their best, enough is said. Full Plot: Leone \"Léon\" Montana (Jean Reno) is a hit-man (or \"cleaner,\" as he refers to himself) living a solitary life in New York City's Little Italy. His work comes from a mafioso named Tony (Danny Aiello), who operates from the \"Supreme Macaroni Company\" restaurant. Léon spends his idle time engaging in calisthenics, nurturing a houseplant that early on he describes as his \"best friend,\" and (in one scene) watching old Gene Kelly musicals. On a particular day, he meets Mathilda Lando (Natalie Portman), a twelve-year-old girl with a black eye and smoking a cigarette, living with her dysfunctional family in an apartment down the hallway. Her abusive father and self-involved mother aren't even aware that Mathilda has stopped attending class at her upscale school. Mathilda's father (Michael Badalucco) attracts the ire of corrupt DEA agents, who have been paying him to store cocaine in his residence, after they discover that he has been stealing some of the drugs for himself. A cadre of DEA agents storm the building, led by a sharp-suited and drug-addicted Norman \"Stan\" Stansfield (Gary Oldman), who murders Mathilda's entire family, missing her only because she was out shopping when they arrived. When she returns and notices the carnage, she calmly continues down the hallway and receives sanctuary from a reluctant Léon. Mathilda discovers that Léon is a hit-man. She begs him to become her caretaker and to teach her his skills as a \"cleaner;\" she wants to avenge the murder of her four-year-old brother, the only member of her family she loved. Léon shows her how to use firearms, including a scoped rifle. In return, she offers her services as a maid and teacher, remedying Léon's illiteracy. Mathilda admits to Léon several times that she is falling in love with him, but he says nothing back. After increasing her experience with firearms, Mathilda fills a shopping bag with guns from Léon's collection and sets out to kill Stansfield. She bluffs her way into the DEA office by posing as a delivery person, only to be ambushed by Stansfield in a bathroom. Léon, discovering her intentions in a note left for him, rushes to rescue Mathilda, shooting two of Stansfield's men in the process. Stansfield is enraged that what he calls the \"Italian hit-man\" has gone rogue. He threatens Tony, coercing him into surrendering Léon's whereabouts. As soon as Mathilda returns home from grocery shopping, an NYPD ESU team, sent by Stansfield, takes her hostage and attempts to infiltrate Léon's apartment. Léon ambushes the ESU team and barters one agent for Mathilda's freedom. In the apartment, Léon creates a quick escape for Matilda by chopping a hole in a slender air shaft. He reassures her and tells her that he loves her, moments before the police come for him. In the chaos that follows, Léon sneaks out of the apartment building disguised as a wounded ESU officer. He is unnoticed save for Stansfield, who recognizes the hit-man and shoots him. Stansfield jeers him haughtily. Léon places an object in Stansfield's hands, which he explains is \"from Mathilda,\" then he dies. Opening his hands, Stansfield recognizes it as the pin from a grenade. He rips open Léon's vest to discover several grenades on his chest, right before a massive explosion kills him. Mathilda heads to Tony's place as she was instructed to do by Léon. Tony will not give Mathilda more than a small amount of the fortune Léon had amassed, which Tony was holding for him. He offers a monthly allowance and says school should be her priority for now. Mathilda asks Tony to give her a job, insisting that she can \"clean\" as Léon had. Tony sternly informs her that he \"ain't got no work for a 12-year-old kid!\" Having nowhere else to go, Mathilda makes her way to New Jersey in an attempt to return to school. After telling her and Léon's story to the headmistress, and seemingly being readmitted, Mathilda walks into a field near the school with Léon's houseplant in hand. She digs a hole and plants it, as she had told Léon he should, \"to give it roots.\" Verdict: 10/10. Buy the FULL UNCUT EDITION on DVD\n"
     ]
    }
   ],
   "source": [
    "print(non_spoiler_synopsis.Title.iloc[3327],\"\\n\")\n",
    "print(\"the cosine similarity of a review in non spoiler dataset is\",non_spoiler_synopsis.Cosine_Similarity.iloc[3327],\"\\n\")\n",
    "print(non_spoiler_synopsis.Review.iloc[3327])"
   ]
  },
  {
   "cell_type": "markdown",
   "id": "12cd6656",
   "metadata": {},
   "source": [
    "From a user point of view and from a model point of view, It is important for the model to identify non spoilers\n",
    "as spoilers than classifying spoiler as non spoilers. If a review is classified as non spoiler but \n",
    "contains spoiler(false negative) is bigger problem than classifying a review as spoiler even if it is \n",
    "not a spoiler(false positive)"
   ]
  },
  {
   "cell_type": "markdown",
   "id": "294919f8",
   "metadata": {},
   "source": [
    "So we are going to set a threshold on similarity score beyond which if there are any reviews, will classify them as\n",
    "spoilers as that is the priority of this model. "
   ]
  },
  {
   "cell_type": "code",
   "execution_count": 63,
   "id": "62358790",
   "metadata": {},
   "outputs": [
    {
     "data": {
      "text/plain": [
       "count    16543.000000\n",
       "mean         0.218163\n",
       "std          0.133921\n",
       "min          0.000000\n",
       "25%          0.114300\n",
       "50%          0.188936\n",
       "75%          0.298386\n",
       "max          0.907798\n",
       "Name: Cosine_Similarity, dtype: float64"
      ]
     },
     "execution_count": 63,
     "metadata": {},
     "output_type": "execute_result"
    }
   ],
   "source": [
    "non_spoiler_synopsis.Cosine_Similarity.describe()"
   ]
  },
  {
   "cell_type": "code",
   "execution_count": 64,
   "id": "a4d1e467",
   "metadata": {},
   "outputs": [
    {
     "data": {
      "text/html": [
       "<div>\n",
       "<style scoped>\n",
       "    .dataframe tbody tr th:only-of-type {\n",
       "        vertical-align: middle;\n",
       "    }\n",
       "\n",
       "    .dataframe tbody tr th {\n",
       "        vertical-align: top;\n",
       "    }\n",
       "\n",
       "    .dataframe thead th {\n",
       "        text-align: right;\n",
       "    }\n",
       "</style>\n",
       "<table border=\"1\" class=\"dataframe\">\n",
       "  <thead>\n",
       "    <tr style=\"text-align: right;\">\n",
       "      <th></th>\n",
       "      <th>Review</th>\n",
       "      <th>Title</th>\n",
       "      <th>Spoiler_flag</th>\n",
       "      <th>Synopsis</th>\n",
       "      <th>Cosine_Similarity</th>\n",
       "    </tr>\n",
       "  </thead>\n",
       "  <tbody>\n",
       "    <tr>\n",
       "      <th>2</th>\n",
       "      <td>This movie is not your ordinary Hollywood flic...</td>\n",
       "      <td>/title/tt0111161/</td>\n",
       "      <td>0</td>\n",
       "      <td>In 1947, Andy Dufresne ( Tim Robbins ), a bank...</td>\n",
       "      <td>0.450186</td>\n",
       "    </tr>\n",
       "    <tr>\n",
       "      <th>11</th>\n",
       "      <td>Can Hollywood, usually creating things for ent...</td>\n",
       "      <td>/title/tt0111161/</td>\n",
       "      <td>0</td>\n",
       "      <td>In 1947, Andy Dufresne ( Tim Robbins ), a bank...</td>\n",
       "      <td>0.385156</td>\n",
       "    </tr>\n",
       "    <tr>\n",
       "      <th>13</th>\n",
       "      <td>\"The Shawshank Redemption\" should have won Bes...</td>\n",
       "      <td>/title/tt0111161/</td>\n",
       "      <td>0</td>\n",
       "      <td>In 1947, Andy Dufresne ( Tim Robbins ), a bank...</td>\n",
       "      <td>0.468377</td>\n",
       "    </tr>\n",
       "    <tr>\n",
       "      <th>14</th>\n",
       "      <td>One of my favorite movies ever,The Shawshank R...</td>\n",
       "      <td>/title/tt0111161/</td>\n",
       "      <td>0</td>\n",
       "      <td>In 1947, Andy Dufresne ( Tim Robbins ), a bank...</td>\n",
       "      <td>0.291248</td>\n",
       "    </tr>\n",
       "    <tr>\n",
       "      <th>15</th>\n",
       "      <td>The story of this film takes place over a twen...</td>\n",
       "      <td>/title/tt0111161/</td>\n",
       "      <td>0</td>\n",
       "      <td>In 1947, Andy Dufresne ( Tim Robbins ), a bank...</td>\n",
       "      <td>0.677959</td>\n",
       "    </tr>\n",
       "    <tr>\n",
       "      <th>...</th>\n",
       "      <td>...</td>\n",
       "      <td>...</td>\n",
       "      <td>...</td>\n",
       "      <td>...</td>\n",
       "      <td>...</td>\n",
       "    </tr>\n",
       "    <tr>\n",
       "      <th>16509</th>\n",
       "      <td>Bong Joon-Ho is a director that I knew a littl...</td>\n",
       "      <td>/title/tt0353969/</td>\n",
       "      <td>0</td>\n",
       "      <td>In October 1986, two women are found raped and...</td>\n",
       "      <td>0.371534</td>\n",
       "    </tr>\n",
       "    <tr>\n",
       "      <th>16513</th>\n",
       "      <td>It's 1986 in South Korea. Women's bodies are b...</td>\n",
       "      <td>/title/tt0353969/</td>\n",
       "      <td>0</td>\n",
       "      <td>In October 1986, two women are found raped and...</td>\n",
       "      <td>0.337382</td>\n",
       "    </tr>\n",
       "    <tr>\n",
       "      <th>16514</th>\n",
       "      <td>1986. In a rural district of South Korea, two ...</td>\n",
       "      <td>/title/tt0353969/</td>\n",
       "      <td>0</td>\n",
       "      <td>In October 1986, two women are found raped and...</td>\n",
       "      <td>0.301739</td>\n",
       "    </tr>\n",
       "    <tr>\n",
       "      <th>16520</th>\n",
       "      <td>There's no other way to say it: this is outsta...</td>\n",
       "      <td>/title/tt0353969/</td>\n",
       "      <td>0</td>\n",
       "      <td>In October 1986, two women are found raped and...</td>\n",
       "      <td>0.355138</td>\n",
       "    </tr>\n",
       "    <tr>\n",
       "      <th>16533</th>\n",
       "      <td>Based on an actual series of murders in South ...</td>\n",
       "      <td>/title/tt0353969/</td>\n",
       "      <td>0</td>\n",
       "      <td>In October 1986, two women are found raped and...</td>\n",
       "      <td>0.425614</td>\n",
       "    </tr>\n",
       "  </tbody>\n",
       "</table>\n",
       "<p>4405 rows × 5 columns</p>\n",
       "</div>"
      ],
      "text/plain": [
       "                                                  Review              Title  \\\n",
       "2      This movie is not your ordinary Hollywood flic...  /title/tt0111161/   \n",
       "11     Can Hollywood, usually creating things for ent...  /title/tt0111161/   \n",
       "13     \"The Shawshank Redemption\" should have won Bes...  /title/tt0111161/   \n",
       "14     One of my favorite movies ever,The Shawshank R...  /title/tt0111161/   \n",
       "15     The story of this film takes place over a twen...  /title/tt0111161/   \n",
       "...                                                  ...                ...   \n",
       "16509  Bong Joon-Ho is a director that I knew a littl...  /title/tt0353969/   \n",
       "16513  It's 1986 in South Korea. Women's bodies are b...  /title/tt0353969/   \n",
       "16514  1986. In a rural district of South Korea, two ...  /title/tt0353969/   \n",
       "16520  There's no other way to say it: this is outsta...  /title/tt0353969/   \n",
       "16533  Based on an actual series of murders in South ...  /title/tt0353969/   \n",
       "\n",
       "       Spoiler_flag                                           Synopsis  \\\n",
       "2                 0  In 1947, Andy Dufresne ( Tim Robbins ), a bank...   \n",
       "11                0  In 1947, Andy Dufresne ( Tim Robbins ), a bank...   \n",
       "13                0  In 1947, Andy Dufresne ( Tim Robbins ), a bank...   \n",
       "14                0  In 1947, Andy Dufresne ( Tim Robbins ), a bank...   \n",
       "15                0  In 1947, Andy Dufresne ( Tim Robbins ), a bank...   \n",
       "...             ...                                                ...   \n",
       "16509             0  In October 1986, two women are found raped and...   \n",
       "16513             0  In October 1986, two women are found raped and...   \n",
       "16514             0  In October 1986, two women are found raped and...   \n",
       "16520             0  In October 1986, two women are found raped and...   \n",
       "16533             0  In October 1986, two women are found raped and...   \n",
       "\n",
       "       Cosine_Similarity  \n",
       "2               0.450186  \n",
       "11              0.385156  \n",
       "13              0.468377  \n",
       "14              0.291248  \n",
       "15              0.677959  \n",
       "...                  ...  \n",
       "16509           0.371534  \n",
       "16513           0.337382  \n",
       "16514           0.301739  \n",
       "16520           0.355138  \n",
       "16533           0.425614  \n",
       "\n",
       "[4405 rows x 5 columns]"
      ]
     },
     "execution_count": 64,
     "metadata": {},
     "output_type": "execute_result"
    }
   ],
   "source": [
    "non_spoiler_synopsis[non_spoiler_synopsis.Cosine_Similarity>0.29]"
   ]
  },
  {
   "cell_type": "code",
   "execution_count": 65,
   "id": "bc9695e2",
   "metadata": {},
   "outputs": [
    {
     "data": {
      "text/plain": [
       "0.299406963279483"
      ]
     },
     "execution_count": 65,
     "metadata": {},
     "output_type": "execute_result"
    }
   ],
   "source": [
    "spoilers_synopsis.Cosine_Similarity.median()"
   ]
  },
  {
   "cell_type": "markdown",
   "id": "5007a4c7",
   "metadata": {},
   "source": [
    "Now what is the threshold value?\n",
    "\n",
    "We have decided to consider 30 as the threshold value. There are two reasons:\n",
    "1) a score of 30 represents 3rd quartile in the non spoiler dataset. Which means 75% of data in non spoiler has a similarity\n",
    "value less than 30 which makes sense as less value means less spoiler content. This constitutes to 4405 data points \n",
    "from a total of 16543\n",
    "\n",
    "2) The median value of cosine similarity in spoilers dataset is also around 30. Why spoilers dataset? because with this\n",
    "information we can say that on an average if a review is a spoiler then it has similarity score around 30."
   ]
  },
  {
   "cell_type": "markdown",
   "id": "e1716565",
   "metadata": {},
   "source": [
    "# Doc2Vec"
   ]
  },
  {
   "cell_type": "code",
   "execution_count": 66,
   "id": "d133b4c9",
   "metadata": {},
   "outputs": [],
   "source": [
    "#similarity score using Doc2vec model for better analyzing the relationship between review and plot synopsis"
   ]
  },
  {
   "cell_type": "code",
   "execution_count": 67,
   "id": "da9b4bbb",
   "metadata": {},
   "outputs": [],
   "source": [
    "#spoilers data"
   ]
  },
  {
   "cell_type": "code",
   "execution_count": 68,
   "id": "3faa0cc6",
   "metadata": {},
   "outputs": [],
   "source": [
    "texts = spoilers_synopsis[\"Review\"].tolist() + spoilers_synopsis[\"Synopsis\"].tolist()\n",
    "preprocessed_texts = [text.lower().split() for text in texts]"
   ]
  },
  {
   "cell_type": "code",
   "execution_count": 69,
   "id": "a172ac54",
   "metadata": {},
   "outputs": [],
   "source": [
    "documents = [TaggedDocument(doc, [i]) for i, doc in enumerate(preprocessed_texts)]\n",
    "model = Doc2Vec(documents, vector_size=100, window=5, min_count=1, epochs=50)"
   ]
  },
  {
   "cell_type": "code",
   "execution_count": 70,
   "id": "cf5c9083",
   "metadata": {},
   "outputs": [],
   "source": [
    "similarities = []\n",
    "for i in range(len(spoilers_synopsis)):\n",
    "    review_vec = model.infer_vector(preprocessed_texts[i])\n",
    "    synopsis_vec = model.infer_vector(preprocessed_texts[i + len(spoilers_synopsis)])\n",
    "    similarity = model.docvecs.similarity_unseen_docs(model, preprocessed_texts[i], preprocessed_texts[i + len(spoilers_synopsis)], alpha=1, min_alpha=0.0001, steps=5)\n",
    "    similarities.append(similarity)\n",
    "\n",
    "# Add similarity scores as a new column to the DataFrame\n",
    "spoilers_synopsis['doc_similarity'] = similarities"
   ]
  },
  {
   "cell_type": "code",
   "execution_count": 71,
   "id": "a0d8a06e",
   "metadata": {},
   "outputs": [
    {
     "data": {
      "text/html": [
       "<div>\n",
       "<style scoped>\n",
       "    .dataframe tbody tr th:only-of-type {\n",
       "        vertical-align: middle;\n",
       "    }\n",
       "\n",
       "    .dataframe tbody tr th {\n",
       "        vertical-align: top;\n",
       "    }\n",
       "\n",
       "    .dataframe thead th {\n",
       "        text-align: right;\n",
       "    }\n",
       "</style>\n",
       "<table border=\"1\" class=\"dataframe\">\n",
       "  <thead>\n",
       "    <tr style=\"text-align: right;\">\n",
       "      <th></th>\n",
       "      <th>Review</th>\n",
       "      <th>Title</th>\n",
       "      <th>Spoiler_flag</th>\n",
       "      <th>Synopsis</th>\n",
       "      <th>Cosine_Similarity</th>\n",
       "      <th>doc_similarity</th>\n",
       "    </tr>\n",
       "  </thead>\n",
       "  <tbody>\n",
       "    <tr>\n",
       "      <th>0</th>\n",
       "      <td>The Shawshank Redemption is written and direct...</td>\n",
       "      <td>/title/tt0111161/</td>\n",
       "      <td>1</td>\n",
       "      <td>In 1947, Andy Dufresne ( Tim Robbins ), a bank...</td>\n",
       "      <td>0.438682</td>\n",
       "      <td>0.430338</td>\n",
       "    </tr>\n",
       "    <tr>\n",
       "      <th>1</th>\n",
       "      <td>In its Oscar year, Shawshank Redemption (writt...</td>\n",
       "      <td>/title/tt0111161/</td>\n",
       "      <td>1</td>\n",
       "      <td>In 1947, Andy Dufresne ( Tim Robbins ), a bank...</td>\n",
       "      <td>0.429616</td>\n",
       "      <td>0.254802</td>\n",
       "    </tr>\n",
       "    <tr>\n",
       "      <th>2</th>\n",
       "      <td>Based on a novella by Stephen King, this is be...</td>\n",
       "      <td>/title/tt0111161/</td>\n",
       "      <td>1</td>\n",
       "      <td>In 1947, Andy Dufresne ( Tim Robbins ), a bank...</td>\n",
       "      <td>0.177022</td>\n",
       "      <td>0.440053</td>\n",
       "    </tr>\n",
       "    <tr>\n",
       "      <th>3</th>\n",
       "      <td>The Shawshank Redemption is without a doubt on...</td>\n",
       "      <td>/title/tt0111161/</td>\n",
       "      <td>1</td>\n",
       "      <td>In 1947, Andy Dufresne ( Tim Robbins ), a bank...</td>\n",
       "      <td>0.429847</td>\n",
       "      <td>0.332315</td>\n",
       "    </tr>\n",
       "    <tr>\n",
       "      <th>4</th>\n",
       "      <td>None of the usual otherworld creatures that po...</td>\n",
       "      <td>/title/tt0111161/</td>\n",
       "      <td>1</td>\n",
       "      <td>In 1947, Andy Dufresne ( Tim Robbins ), a bank...</td>\n",
       "      <td>0.308884</td>\n",
       "      <td>0.355151</td>\n",
       "    </tr>\n",
       "  </tbody>\n",
       "</table>\n",
       "</div>"
      ],
      "text/plain": [
       "                                              Review              Title  \\\n",
       "0  The Shawshank Redemption is written and direct...  /title/tt0111161/   \n",
       "1  In its Oscar year, Shawshank Redemption (writt...  /title/tt0111161/   \n",
       "2  Based on a novella by Stephen King, this is be...  /title/tt0111161/   \n",
       "3  The Shawshank Redemption is without a doubt on...  /title/tt0111161/   \n",
       "4  None of the usual otherworld creatures that po...  /title/tt0111161/   \n",
       "\n",
       "   Spoiler_flag                                           Synopsis  \\\n",
       "0             1  In 1947, Andy Dufresne ( Tim Robbins ), a bank...   \n",
       "1             1  In 1947, Andy Dufresne ( Tim Robbins ), a bank...   \n",
       "2             1  In 1947, Andy Dufresne ( Tim Robbins ), a bank...   \n",
       "3             1  In 1947, Andy Dufresne ( Tim Robbins ), a bank...   \n",
       "4             1  In 1947, Andy Dufresne ( Tim Robbins ), a bank...   \n",
       "\n",
       "   Cosine_Similarity  doc_similarity  \n",
       "0           0.438682        0.430338  \n",
       "1           0.429616        0.254802  \n",
       "2           0.177022        0.440053  \n",
       "3           0.429847        0.332315  \n",
       "4           0.308884        0.355151  "
      ]
     },
     "execution_count": 71,
     "metadata": {},
     "output_type": "execute_result"
    }
   ],
   "source": [
    "spoilers_synopsis.head()"
   ]
  },
  {
   "cell_type": "code",
   "execution_count": 72,
   "id": "9c4129e6",
   "metadata": {},
   "outputs": [],
   "source": [
    "spoilers_synopsis.to_excel(\"spoilers_synopsis_similarity.xlsx\")"
   ]
  },
  {
   "cell_type": "code",
   "execution_count": 73,
   "id": "5214f0b7",
   "metadata": {},
   "outputs": [
    {
     "data": {
      "text/plain": [
       "count    6336.000000\n",
       "mean        0.315443\n",
       "std         0.100368\n",
       "min        -0.086289\n",
       "25%         0.247151\n",
       "50%         0.318042\n",
       "75%         0.385660\n",
       "max         0.717725\n",
       "Name: doc_similarity, dtype: float64"
      ]
     },
     "execution_count": 73,
     "metadata": {},
     "output_type": "execute_result"
    }
   ],
   "source": [
    "spoilers_synopsis.doc_similarity.describe()"
   ]
  },
  {
   "cell_type": "code",
   "execution_count": 74,
   "id": "52947c42",
   "metadata": {},
   "outputs": [],
   "source": [
    "#non spoiler"
   ]
  },
  {
   "cell_type": "code",
   "execution_count": 75,
   "id": "5f374f0d",
   "metadata": {},
   "outputs": [],
   "source": [
    "texts = non_spoiler_synopsis[\"Review\"].tolist() + non_spoiler_synopsis[\"Synopsis\"].tolist()\n",
    "preprocessed_texts = [text.lower().split() for text in texts]"
   ]
  },
  {
   "cell_type": "code",
   "execution_count": 77,
   "id": "cfa5d00a",
   "metadata": {},
   "outputs": [],
   "source": [
    "#documents = [TaggedDocument(doc, [i]) for i, doc in enumerate(preprocessed_texts)]\n",
    "#model = Doc2Vec(documents, vector_size=100, window=5, min_count=1, epochs=50)"
   ]
  },
  {
   "cell_type": "code",
   "execution_count": null,
   "id": "7d5d5e92",
   "metadata": {},
   "outputs": [],
   "source": [
    "similarities = []\n",
    "for i in range(len(non_spoiler_synopsis)):\n",
    "    review_vec = model.infer_vector(preprocessed_texts[i])\n",
    "    synopsis_vec = model.infer_vector(preprocessed_texts[i + len(non_spoiler_synopsis)])\n",
    "    similarity = model.docvecs.similarity_unseen_docs(model, preprocessed_texts[i], preprocessed_texts[i + len(non_spoiler_synopsis)], alpha=1, min_alpha=0.0001, steps=5)\n",
    "    similarities.append(similarity)\n",
    "\n",
    "# Add similarity scores as a new column to the DataFrame\n",
    "non_spoiler_synopsis['doc_similarity'] = similarities"
   ]
  },
  {
   "cell_type": "code",
   "execution_count": null,
   "id": "74bc4027",
   "metadata": {},
   "outputs": [],
   "source": [
    "non_spoiler_synopsis.head()"
   ]
  },
  {
   "cell_type": "code",
   "execution_count": 92,
   "id": "96ca7a1e",
   "metadata": {},
   "outputs": [],
   "source": [
    "non_spoiler_synopsis.to_excel(\"non_spoiler_synopsis_similarity.xlsx\")"
   ]
  },
  {
   "cell_type": "code",
   "execution_count": 78,
   "id": "66fd4f3c",
   "metadata": {},
   "outputs": [],
   "source": [
    "spoilers_synopsis = pd.read_excel(\"spoilers_synopsis_similarity.xlsx\")\n",
    "non_spoiler_synopsis = pd.read_excel(\"non_spoiler_synopsis_similarity.xlsx\")"
   ]
  },
  {
   "cell_type": "code",
   "execution_count": 79,
   "id": "7410d60f",
   "metadata": {},
   "outputs": [
    {
     "data": {
      "text/plain": [
       "count    16543.000000\n",
       "mean         0.229422\n",
       "std          0.097675\n",
       "min         -0.187233\n",
       "25%          0.163865\n",
       "50%          0.230187\n",
       "75%          0.294684\n",
       "max          0.639787\n",
       "Name: doc_similarity, dtype: float64"
      ]
     },
     "execution_count": 79,
     "metadata": {},
     "output_type": "execute_result"
    }
   ],
   "source": [
    "non_spoiler_synopsis.doc_similarity.describe()"
   ]
  },
  {
   "cell_type": "code",
   "execution_count": 82,
   "id": "fb9bdf7f",
   "metadata": {},
   "outputs": [
    {
     "data": {
      "text/plain": [
       "Text(1, 0.23018699884414673, 'Median value = 0.23')"
      ]
     },
     "execution_count": 82,
     "metadata": {},
     "output_type": "execute_result"
    },
    {
     "data": {
      "image/png": "[encoded data removed]",
      "text/plain": [
       "<Figure size 1440x720 with 1 Axes>"
      ]
     },
     "metadata": {
      "needs_background": "light"
     },
     "output_type": "display_data"
    }
   ],
   "source": [
    "#non spoiler\n",
    "mediann = non_spoiler_synopsis.doc_similarity.median()\n",
    "plt.figure(figsize=(20,10))\n",
    "plt.plot(non_spoiler_synopsis.doc_similarity)\n",
    "plt.axhline(y=non_spoiler_synopsis.doc_similarity.median(),color=\"r\", linestyle='--',)\n",
    "plt.text(1,mediann, f\"Median value = {mediann:.2f}\", color='r',fontsize=20)"
   ]
  },
  {
   "cell_type": "code",
   "execution_count": 83,
   "id": "a4992be6",
   "metadata": {},
   "outputs": [
    {
     "data": {
      "text/plain": [
       "Text(1, 0.3162420392036438, 'Median value = 0.32')"
      ]
     },
     "execution_count": 83,
     "metadata": {},
     "output_type": "execute_result"
    },
    {
     "data": {
      "image/png": "[encoded data removed]",
      "text/plain": [
       "<Figure size 1440x720 with 1 Axes>"
      ]
     },
     "metadata": {
      "needs_background": "light"
     },
     "output_type": "display_data"
    }
   ],
   "source": [
    "#spoiler\n",
    "\n",
    "mediann = spoilers_synopsis.doc_similarity.median()\n",
    "plt.figure(figsize=(20,10))\n",
    "plt.plot(spoilers_synopsis.doc_similarity)\n",
    "plt.axhline(y=spoilers_synopsis.doc_similarity.median(),color=\"r\", linestyle='--',)\n",
    "plt.text(1,mediann, f\"Median value = {mediann:.2f}\", color='r',fontsize=20)"
   ]
  },
  {
   "cell_type": "markdown",
   "id": "ba95b215",
   "metadata": {},
   "source": [
    "From the above graphs we can see that for non spoilers data, the median cosine similarity value is around 0.23 and for spoilers\n",
    "data this value is around 0.31. But can we consider similarity as a feature to be included in identifying a review as\n",
    "a spoiler or not? To verify this we can perform Hypothesis testing. "
   ]
  },
  {
   "cell_type": "markdown",
   "id": "e563a340",
   "metadata": {},
   "source": [
    "# Hypothesis Testing"
   ]
  },
  {
   "cell_type": "markdown",
   "id": "dcbf9832",
   "metadata": {},
   "source": [
    "The above mentioned assumptions can be concluded using Hypothesis testing. \n",
    "\n",
    "lets verify whether similarity score can be considered as a feature to identify whether a review a spoiler or not. \n"
   ]
  },
  {
   "cell_type": "markdown",
   "id": "cd455066",
   "metadata": {},
   "source": [
    "Null hypothesis (H0): there is no significant difference between the text similarity scores of reviews that contain spoilers \n",
    "and those that do not.\n",
    "\n",
    "Alternative hypothesis (H1): there is a significant difference between the text similarity scores of reviews that contain \n",
    "spoilers and those that do not.\n",
    "\n",
    "Aplha: 0.05"
   ]
  },
  {
   "cell_type": "code",
   "execution_count": 80,
   "id": "0e6a29c5",
   "metadata": {},
   "outputs": [],
   "source": [
    "#Mann-Whitney U Test"
   ]
  },
  {
   "cell_type": "code",
   "execution_count": 81,
   "id": "3149432e",
   "metadata": {},
   "outputs": [
    {
     "data": {
      "text/plain": [
       "MannwhitneyuResult(statistic=76574246.0, pvalue=0.0)"
      ]
     },
     "execution_count": 81,
     "metadata": {},
     "output_type": "execute_result"
    }
   ],
   "source": [
    "mannwhitneyu(spoilers_synopsis.doc_similarity,non_spoiler_synopsis.doc_similarity,alternative=\"two-sided\")"
   ]
  },
  {
   "cell_type": "markdown",
   "id": "28877cb7",
   "metadata": {},
   "source": [
    "Since the p-value is less than 0.05, we can conclude that there is a significant difference in the similarity score between Spoilers dataset and non spoilers dataset allowing us to reject the null hypothesis. \n",
    "\n",
    "This means that the distribution of similarity score between spoilers dataset and non spoilers dataset are different and this feature can be used to identify whether a review is a spoiler or not"
   ]
  },
  {
   "cell_type": "markdown",
   "id": "5af3234f",
   "metadata": {},
   "source": [
    "# Data manupilation in Non spoiler dataset (Outlier Detection)"
   ]
  },
  {
   "cell_type": "markdown",
   "id": "3195e9b4",
   "metadata": {},
   "source": [
    "An Important factor to notice in non spoiler dataset is that, there are reviews in non spoiler dataset that has a high\n",
    "similarity score yet classified as non spoiler. Let's look at one of those reviews"
   ]
  },
  {
   "cell_type": "code",
   "execution_count": 82,
   "id": "abab09d7",
   "metadata": {},
   "outputs": [
    {
     "data": {
      "text/plain": [
       "3327"
      ]
     },
     "execution_count": 82,
     "metadata": {},
     "output_type": "execute_result"
    }
   ],
   "source": [
    "non_spoiler_synopsis.doc_similarity.argmax()"
   ]
  },
  {
   "cell_type": "code",
   "execution_count": 83,
   "id": "fdd5dae4",
   "metadata": {},
   "outputs": [
    {
     "name": "stdout",
     "output_type": "stream",
     "text": [
      "/title/tt0110413/ \n",
      "\n",
      "the Doc similarity of a review in non spoiler dataset is 0.6397867202758789 \n",
      "\n",
      "This is the first Jean Reno film I saw. After this one, I saw many of his other films as well. BUT THIS ONE IS MY FAVORITE! The role fits him like a glove, and it seems to me to be made only for him. He gives us his emotional best in the film. The other great star in this film that complements him is Natalie Portman who plays her film debut at 12 years of age. Natalie plays the role of Mathilda, Leon's (Jean Reno) neighbour. Her acting is simply phenomenal. But like most child stars (a good example is Macaulay Culkin (Home Alone)) she does not do well as an adult actress. Anyway this IS HER BEST FILM. Now we are going to say something about the super actor called Gary Oldman. He is SUPER! My god I haven't seen anyone act like this before. This guy really gets into the act! This is ALSO HIS BEST FILM. Now when the 3 actors above all give their best, enough is said. Full Plot: Leone \"Léon\" Montana (Jean Reno) is a hit-man (or \"cleaner,\" as he refers to himself) living a solitary life in New York City's Little Italy. His work comes from a mafioso named Tony (Danny Aiello), who operates from the \"Supreme Macaroni Company\" restaurant. Léon spends his idle time engaging in calisthenics, nurturing a houseplant that early on he describes as his \"best friend,\" and (in one scene) watching old Gene Kelly musicals. On a particular day, he meets Mathilda Lando (Natalie Portman), a twelve-year-old girl with a black eye and smoking a cigarette, living with her dysfunctional family in an apartment down the hallway. Her abusive father and self-involved mother aren't even aware that Mathilda has stopped attending class at her upscale school. Mathilda's father (Michael Badalucco) attracts the ire of corrupt DEA agents, who have been paying him to store cocaine in his residence, after they discover that he has been stealing some of the drugs for himself. A cadre of DEA agents storm the building, led by a sharp-suited and drug-addicted Norman \"Stan\" Stansfield (Gary Oldman), who murders Mathilda's entire family, missing her only because she was out shopping when they arrived. When she returns and notices the carnage, she calmly continues down the hallway and receives sanctuary from a reluctant Léon. Mathilda discovers that Léon is a hit-man. She begs him to become her caretaker and to teach her his skills as a \"cleaner;\" she wants to avenge the murder of her four-year-old brother, the only member of her family she loved. Léon shows her how to use firearms, including a scoped rifle. In return, she offers her services as a maid and teacher, remedying Léon's illiteracy. Mathilda admits to Léon several times that she is falling in love with him, but he says nothing back. After increasing her experience with firearms, Mathilda fills a shopping bag with guns from Léon's collection and sets out to kill Stansfield. She bluffs her way into the DEA office by posing as a delivery person, only to be ambushed by Stansfield in a bathroom. Léon, discovering her intentions in a note left for him, rushes to rescue Mathilda, shooting two of Stansfield's men in the process. Stansfield is enraged that what he calls the \"Italian hit-man\" has gone rogue. He threatens Tony, coercing him into surrendering Léon's whereabouts. As soon as Mathilda returns home from grocery shopping, an NYPD ESU team, sent by Stansfield, takes her hostage and attempts to infiltrate Léon's apartment. Léon ambushes the ESU team and barters one agent for Mathilda's freedom. In the apartment, Léon creates a quick escape for Matilda by chopping a hole in a slender air shaft. He reassures her and tells her that he loves her, moments before the police come for him. In the chaos that follows, Léon sneaks out of the apartment building disguised as a wounded ESU officer. He is unnoticed save for Stansfield, who recognizes the hit-man and shoots him. Stansfield jeers him haughtily. Léon places an object in Stansfield's hands, which he explains is \"from Mathilda,\" then he dies. Opening his hands, Stansfield recognizes it as the pin from a grenade. He rips open Léon's vest to discover several grenades on his chest, right before a massive explosion kills him. Mathilda heads to Tony's place as she was instructed to do by Léon. Tony will not give Mathilda more than a small amount of the fortune Léon had amassed, which Tony was holding for him. He offers a monthly allowance and says school should be her priority for now. Mathilda asks Tony to give her a job, insisting that she can \"clean\" as Léon had. Tony sternly informs her that he \"ain't got no work for a 12-year-old kid!\" Having nowhere else to go, Mathilda makes her way to New Jersey in an attempt to return to school. After telling her and Léon's story to the headmistress, and seemingly being readmitted, Mathilda walks into a field near the school with Léon's houseplant in hand. She digs a hole and plants it, as she had told Léon he should, \"to give it roots.\" Verdict: 10/10. Buy the FULL UNCUT EDITION on DVD\n"
     ]
    }
   ],
   "source": [
    "print(non_spoiler_synopsis.Title.iloc[3327],\"\\n\")\n",
    "print(\"the Doc similarity of a review in non spoiler dataset is\",non_spoiler_synopsis.doc_similarity.iloc[3327],\"\\n\")\n",
    "print(non_spoiler_synopsis.Review.iloc[3327])"
   ]
  },
  {
   "cell_type": "markdown",
   "id": "93df7b6c",
   "metadata": {},
   "source": [
    "From a user point of view and from a model point of view, It is important for the model to identify non spoilers\n",
    "as spoilers than classifying spoiler as non spoilers. If a review is classified as non spoiler but \n",
    "contains spoiler(false negative) is bigger problem than classifying a review as spoiler even if it is \n",
    "not a spoiler(false positive)"
   ]
  },
  {
   "cell_type": "markdown",
   "id": "ffc09193",
   "metadata": {},
   "source": [
    "So we are going to set a threshold on similarity score beyond which if there are any reviews, will classify them as\n",
    "spoilers as that is the priority of this model. "
   ]
  },
  {
   "cell_type": "code",
   "execution_count": 88,
   "id": "7ac6f32c",
   "metadata": {},
   "outputs": [
    {
     "data": {
      "text/plain": [
       "count    16543.000000\n",
       "mean         0.229422\n",
       "std          0.097675\n",
       "min         -0.187233\n",
       "25%          0.163865\n",
       "50%          0.230187\n",
       "75%          0.294684\n",
       "max          0.639787\n",
       "Name: doc_similarity, dtype: float64"
      ]
     },
     "execution_count": 88,
     "metadata": {},
     "output_type": "execute_result"
    }
   ],
   "source": [
    "non_spoiler_synopsis.doc_similarity.describe()"
   ]
  },
  {
   "cell_type": "code",
   "execution_count": 89,
   "id": "6b48ba8a",
   "metadata": {},
   "outputs": [
    {
     "data": {
      "text/html": [
       "<div>\n",
       "<style scoped>\n",
       "    .dataframe tbody tr th:only-of-type {\n",
       "        vertical-align: middle;\n",
       "    }\n",
       "\n",
       "    .dataframe tbody tr th {\n",
       "        vertical-align: top;\n",
       "    }\n",
       "\n",
       "    .dataframe thead th {\n",
       "        text-align: right;\n",
       "    }\n",
       "</style>\n",
       "<table border=\"1\" class=\"dataframe\">\n",
       "  <thead>\n",
       "    <tr style=\"text-align: right;\">\n",
       "      <th></th>\n",
       "      <th>Review</th>\n",
       "      <th>Title</th>\n",
       "      <th>Spoiler_flag</th>\n",
       "      <th>Synopsis</th>\n",
       "      <th>Cosine_Similarity</th>\n",
       "      <th>doc_similarity</th>\n",
       "    </tr>\n",
       "  </thead>\n",
       "  <tbody>\n",
       "    <tr>\n",
       "      <th>2</th>\n",
       "      <td>This movie is not your ordinary Hollywood flic...</td>\n",
       "      <td>/title/tt0111161/</td>\n",
       "      <td>0</td>\n",
       "      <td>In 1947, Andy Dufresne ( Tim Robbins ), a bank...</td>\n",
       "      <td>0.450186</td>\n",
       "      <td>0.399124</td>\n",
       "    </tr>\n",
       "    <tr>\n",
       "      <th>5</th>\n",
       "      <td>I've lost count of the number of times I have ...</td>\n",
       "      <td>/title/tt0111161/</td>\n",
       "      <td>0</td>\n",
       "      <td>In 1947, Andy Dufresne ( Tim Robbins ), a bank...</td>\n",
       "      <td>0.182805</td>\n",
       "      <td>0.337536</td>\n",
       "    </tr>\n",
       "    <tr>\n",
       "      <th>11</th>\n",
       "      <td>Can Hollywood, usually creating things for ent...</td>\n",
       "      <td>/title/tt0111161/</td>\n",
       "      <td>0</td>\n",
       "      <td>In 1947, Andy Dufresne ( Tim Robbins ), a bank...</td>\n",
       "      <td>0.385156</td>\n",
       "      <td>0.297641</td>\n",
       "    </tr>\n",
       "    <tr>\n",
       "      <th>13</th>\n",
       "      <td>\"The Shawshank Redemption\" should have won Bes...</td>\n",
       "      <td>/title/tt0111161/</td>\n",
       "      <td>0</td>\n",
       "      <td>In 1947, Andy Dufresne ( Tim Robbins ), a bank...</td>\n",
       "      <td>0.468377</td>\n",
       "      <td>0.429060</td>\n",
       "    </tr>\n",
       "    <tr>\n",
       "      <th>14</th>\n",
       "      <td>One of my favorite movies ever,The Shawshank R...</td>\n",
       "      <td>/title/tt0111161/</td>\n",
       "      <td>0</td>\n",
       "      <td>In 1947, Andy Dufresne ( Tim Robbins ), a bank...</td>\n",
       "      <td>0.291248</td>\n",
       "      <td>0.396765</td>\n",
       "    </tr>\n",
       "    <tr>\n",
       "      <th>...</th>\n",
       "      <td>...</td>\n",
       "      <td>...</td>\n",
       "      <td>...</td>\n",
       "      <td>...</td>\n",
       "      <td>...</td>\n",
       "      <td>...</td>\n",
       "    </tr>\n",
       "    <tr>\n",
       "      <th>16517</th>\n",
       "      <td>In every anime trio there's a serious one with...</td>\n",
       "      <td>/title/tt0353969/</td>\n",
       "      <td>0</td>\n",
       "      <td>In October 1986, two women are found raped and...</td>\n",
       "      <td>0.094035</td>\n",
       "      <td>0.322971</td>\n",
       "    </tr>\n",
       "    <tr>\n",
       "      <th>16518</th>\n",
       "      <td>A beautifully composed movie that sucks us int...</td>\n",
       "      <td>/title/tt0353969/</td>\n",
       "      <td>0</td>\n",
       "      <td>In October 1986, two women are found raped and...</td>\n",
       "      <td>0.172020</td>\n",
       "      <td>0.317878</td>\n",
       "    </tr>\n",
       "    <tr>\n",
       "      <th>16527</th>\n",
       "      <td>Writer/director Joon-ho Bong (The Host) presen...</td>\n",
       "      <td>/title/tt0353969/</td>\n",
       "      <td>0</td>\n",
       "      <td>In October 1986, two women are found raped and...</td>\n",
       "      <td>0.147464</td>\n",
       "      <td>0.311064</td>\n",
       "    </tr>\n",
       "    <tr>\n",
       "      <th>16533</th>\n",
       "      <td>Based on an actual series of murders in South ...</td>\n",
       "      <td>/title/tt0353969/</td>\n",
       "      <td>0</td>\n",
       "      <td>In October 1986, two women are found raped and...</td>\n",
       "      <td>0.425614</td>\n",
       "      <td>0.366091</td>\n",
       "    </tr>\n",
       "    <tr>\n",
       "      <th>16537</th>\n",
       "      <td>Having seen a lot of good films this year, I p...</td>\n",
       "      <td>/title/tt0353969/</td>\n",
       "      <td>0</td>\n",
       "      <td>In October 1986, two women are found raped and...</td>\n",
       "      <td>0.216524</td>\n",
       "      <td>0.344253</td>\n",
       "    </tr>\n",
       "  </tbody>\n",
       "</table>\n",
       "<p>4412 rows × 6 columns</p>\n",
       "</div>"
      ],
      "text/plain": [
       "                                                  Review              Title  \\\n",
       "2      This movie is not your ordinary Hollywood flic...  /title/tt0111161/   \n",
       "5      I've lost count of the number of times I have ...  /title/tt0111161/   \n",
       "11     Can Hollywood, usually creating things for ent...  /title/tt0111161/   \n",
       "13     \"The Shawshank Redemption\" should have won Bes...  /title/tt0111161/   \n",
       "14     One of my favorite movies ever,The Shawshank R...  /title/tt0111161/   \n",
       "...                                                  ...                ...   \n",
       "16517  In every anime trio there's a serious one with...  /title/tt0353969/   \n",
       "16518  A beautifully composed movie that sucks us int...  /title/tt0353969/   \n",
       "16527  Writer/director Joon-ho Bong (The Host) presen...  /title/tt0353969/   \n",
       "16533  Based on an actual series of murders in South ...  /title/tt0353969/   \n",
       "16537  Having seen a lot of good films this year, I p...  /title/tt0353969/   \n",
       "\n",
       "       Spoiler_flag                                           Synopsis  \\\n",
       "2                 0  In 1947, Andy Dufresne ( Tim Robbins ), a bank...   \n",
       "5                 0  In 1947, Andy Dufresne ( Tim Robbins ), a bank...   \n",
       "11                0  In 1947, Andy Dufresne ( Tim Robbins ), a bank...   \n",
       "13                0  In 1947, Andy Dufresne ( Tim Robbins ), a bank...   \n",
       "14                0  In 1947, Andy Dufresne ( Tim Robbins ), a bank...   \n",
       "...             ...                                                ...   \n",
       "16517             0  In October 1986, two women are found raped and...   \n",
       "16518             0  In October 1986, two women are found raped and...   \n",
       "16527             0  In October 1986, two women are found raped and...   \n",
       "16533             0  In October 1986, two women are found raped and...   \n",
       "16537             0  In October 1986, two women are found raped and...   \n",
       "\n",
       "       Cosine_Similarity  doc_similarity  \n",
       "2               0.450186        0.399124  \n",
       "5               0.182805        0.337536  \n",
       "11              0.385156        0.297641  \n",
       "13              0.468377        0.429060  \n",
       "14              0.291248        0.396765  \n",
       "...                  ...             ...  \n",
       "16517           0.094035        0.322971  \n",
       "16518           0.172020        0.317878  \n",
       "16527           0.147464        0.311064  \n",
       "16533           0.425614        0.366091  \n",
       "16537           0.216524        0.344253  \n",
       "\n",
       "[4412 rows x 6 columns]"
      ]
     },
     "execution_count": 89,
     "metadata": {},
     "output_type": "execute_result"
    }
   ],
   "source": [
    "non_spoiler_synopsis[non_spoiler_synopsis.doc_similarity>0.29]"
   ]
  },
  {
   "cell_type": "code",
   "execution_count": 90,
   "id": "de281dac",
   "metadata": {},
   "outputs": [
    {
     "data": {
      "text/plain": [
       "0.3162420392036438"
      ]
     },
     "execution_count": 90,
     "metadata": {},
     "output_type": "execute_result"
    }
   ],
   "source": [
    "spoilers_synopsis.doc_similarity.median()"
   ]
  },
  {
   "cell_type": "markdown",
   "id": "4eaa1b54",
   "metadata": {},
   "source": [
    "Now what is the threshold value?\n",
    "\n",
    "We have decided to consider 30 as the threshold value. There are two reasons:\n",
    "1) a score of 30 represents 3rd quartile in the non spoiler dataset. Which means 75% of data in non spoiler has a similarity\n",
    "value less than 30 which makes sense as less value means less spoiler content. This constitutes to 4405 data points \n",
    "from a total of 16543\n",
    "\n",
    "2) The median value of Doc similarity in spoilers dataset is also around 30. Why spoilers dataset? because with this\n",
    "information we can say that on an average if a review is a spoiler then it has similarity score around 30."
   ]
  },
  {
   "cell_type": "markdown",
   "id": "98a59b9b",
   "metadata": {},
   "source": [
    "# hypothesis testing to support the above statement"
   ]
  },
  {
   "cell_type": "markdown",
   "id": "c4eb5d8d",
   "metadata": {},
   "source": [
    "Null hypothesis (H0): The null hypothesis would be that there is \n",
    "no relationship between the similarity score of a movie review and whether it contains spoilers or not\n",
    "\n",
    "Alternative hypothesis (H1): The alternative hypothesis would be that there is a relationship, and specifically, that a similarity score of more than 30 indicates that the review is likely to contain spoilers.\n",
    "\n",
    "Alpha: 0.05"
   ]
  },
  {
   "cell_type": "code",
   "execution_count": 18,
   "id": "23268566",
   "metadata": {},
   "outputs": [],
   "source": [
    "import pandas as pd\n",
    "import numpy as np\n",
    "from scipy.stats import chi2_contingency"
   ]
  },
  {
   "cell_type": "code",
   "execution_count": 3,
   "id": "f712ab3b",
   "metadata": {},
   "outputs": [],
   "source": [
    "df1 = pd.read_excel(\"non_spoiler_synopsis_similarity.xlsx\")\n",
    "df2 = pd.read_excel(\"spoilers_synopsis_similarity.xlsx\")"
   ]
  },
  {
   "cell_type": "code",
   "execution_count": 4,
   "id": "33a446ba",
   "metadata": {},
   "outputs": [],
   "source": [
    "df = pd.concat([df1,df2])"
   ]
  },
  {
   "cell_type": "code",
   "execution_count": 7,
   "id": "5b0dec07",
   "metadata": {},
   "outputs": [],
   "source": [
    "df.drop(\"Unnamed: 0\",inplace=True,axis=1)"
   ]
  },
  {
   "cell_type": "code",
   "execution_count": 8,
   "id": "1e3b474c",
   "metadata": {},
   "outputs": [
    {
     "data": {
      "text/plain": [
       "(22879, 6)"
      ]
     },
     "execution_count": 8,
     "metadata": {},
     "output_type": "execute_result"
    }
   ],
   "source": [
    "df.shape"
   ]
  },
  {
   "cell_type": "code",
   "execution_count": 9,
   "id": "a9b467c4",
   "metadata": {},
   "outputs": [],
   "source": [
    "group_high = df[df['doc_similarity'] > 0.30]\n",
    "group_low = df[df['doc_similarity'] <= 0.30]"
   ]
  },
  {
   "cell_type": "code",
   "execution_count": 13,
   "id": "0f9b8465",
   "metadata": {},
   "outputs": [],
   "source": [
    "high_spoilers =len(group_high[group_high.Spoiler_flag==1])\n",
    "high_non_spoilers = len(group_high) - high_spoilers\n",
    "low_spoilers = len(group_low[group_low.Spoiler_flag==1])\n",
    "low_non_spoilers = len(group_low) - low_spoilers"
   ]
  },
  {
   "cell_type": "code",
   "execution_count": 16,
   "id": "62ac1571",
   "metadata": {},
   "outputs": [],
   "source": [
    "contingency_table = np.array([[high_spoilers, high_non_spoilers], [low_spoilers, low_non_spoilers]])\n"
   ]
  },
  {
   "cell_type": "code",
   "execution_count": 17,
   "id": "cb8ee5ad",
   "metadata": {},
   "outputs": [
    {
     "data": {
      "text/plain": [
       "array([[ 3568,  3880],\n",
       "       [ 2768, 12663]])"
      ]
     },
     "execution_count": 17,
     "metadata": {},
     "output_type": "execute_result"
    }
   ],
   "source": [
    "contingency_table"
   ]
  },
  {
   "cell_type": "code",
   "execution_count": 19,
   "id": "9623b3d1",
   "metadata": {},
   "outputs": [
    {
     "name": "stdout",
     "output_type": "stream",
     "text": [
      "Chi-Squared: 2251.4151695536643\n",
      "p-value: 0.0\n"
     ]
    }
   ],
   "source": [
    "chi2, p, dof, expected = chi2_contingency(contingency_table)\n",
    "\n",
    "# print the results\n",
    "print(f\"Chi-Squared: {chi2}\")\n",
    "print(f\"p-value: {p}\")"
   ]
  },
  {
   "cell_type": "code",
   "execution_count": 20,
   "id": "5e4be146",
   "metadata": {},
   "outputs": [],
   "source": [
    "#since the p-value is less than 0.05 we can reject the null hypothesis."
   ]
  },
  {
   "cell_type": "markdown",
   "id": "952f3055",
   "metadata": {},
   "source": [
    "# Building the Final Dataset"
   ]
  },
  {
   "cell_type": "markdown",
   "id": "26481271",
   "metadata": {},
   "source": [
    "Since we statistically proven that reviews with similarity score more than 30 can be considered as Spoilers, we will now\n",
    "add all the non spoilers with score more than 30 as a part of spoilers data"
   ]
  },
  {
   "cell_type": "code",
   "execution_count": 47,
   "id": "d49846d7",
   "metadata": {},
   "outputs": [],
   "source": [
    "new_spoilers = df1[df1.doc_similarity>0.30]"
   ]
  },
  {
   "cell_type": "code",
   "execution_count": 51,
   "id": "1447e2ea",
   "metadata": {},
   "outputs": [
    {
     "name": "stderr",
     "output_type": "stream",
     "text": [
      "C:\\Users\\noahr\\anaconda3\\lib\\site-packages\\pandas\\core\\generic.py:5516: SettingWithCopyWarning: \n",
      "A value is trying to be set on a copy of a slice from a DataFrame.\n",
      "Try using .loc[row_indexer,col_indexer] = value instead\n",
      "\n",
      "See the caveats in the documentation: https://pandas.pydata.org/pandas-docs/stable/user_guide/indexing.html#returning-a-view-versus-a-copy\n",
      "  self[name] = value\n"
     ]
    }
   ],
   "source": [
    "new_spoilers.Spoiler_flag=1"
   ]
  },
  {
   "cell_type": "code",
   "execution_count": 54,
   "id": "e06fc9b0",
   "metadata": {},
   "outputs": [],
   "source": [
    "final_spoilers = pd.concat([df2,new_spoilers])"
   ]
  },
  {
   "cell_type": "code",
   "execution_count": 55,
   "id": "eb2eef49",
   "metadata": {},
   "outputs": [
    {
     "data": {
      "text/plain": [
       "(10216, 7)"
      ]
     },
     "execution_count": 55,
     "metadata": {},
     "output_type": "execute_result"
    }
   ],
   "source": [
    "final_spoilers.shape"
   ]
  },
  {
   "cell_type": "code",
   "execution_count": 58,
   "id": "7d0bcc5f",
   "metadata": {},
   "outputs": [],
   "source": [
    "final_non_spoiler = df1[df1.doc_similarity<=0.30]"
   ]
  },
  {
   "cell_type": "code",
   "execution_count": 59,
   "id": "975fec81",
   "metadata": {},
   "outputs": [
    {
     "data": {
      "text/plain": [
       "(12663, 7)"
      ]
     },
     "execution_count": 59,
     "metadata": {},
     "output_type": "execute_result"
    }
   ],
   "source": [
    "final_non_spoiler.shape"
   ]
  },
  {
   "cell_type": "code",
   "execution_count": 60,
   "id": "a4fbdf68",
   "metadata": {},
   "outputs": [],
   "source": [
    "final_df = pd.concat([final_spoilers,final_non_spoiler], ignore_index=True).sample(frac=1)"
   ]
  },
  {
   "cell_type": "code",
   "execution_count": 61,
   "id": "a7ba41f9",
   "metadata": {},
   "outputs": [],
   "source": [
    "final_df.drop(\"Unnamed: 0\",inplace=True,axis=1)"
   ]
  },
  {
   "cell_type": "code",
   "execution_count": 62,
   "id": "ba050f31",
   "metadata": {
    "scrolled": false
   },
   "outputs": [
    {
     "data": {
      "text/html": [
       "<div>\n",
       "<style scoped>\n",
       "    .dataframe tbody tr th:only-of-type {\n",
       "        vertical-align: middle;\n",
       "    }\n",
       "\n",
       "    .dataframe tbody tr th {\n",
       "        vertical-align: top;\n",
       "    }\n",
       "\n",
       "    .dataframe thead th {\n",
       "        text-align: right;\n",
       "    }\n",
       "</style>\n",
       "<table border=\"1\" class=\"dataframe\">\n",
       "  <thead>\n",
       "    <tr style=\"text-align: right;\">\n",
       "      <th></th>\n",
       "      <th>Review</th>\n",
       "      <th>Title</th>\n",
       "      <th>Spoiler_flag</th>\n",
       "      <th>Synopsis</th>\n",
       "      <th>Cosine_Similarity</th>\n",
       "      <th>doc_similarity</th>\n",
       "    </tr>\n",
       "  </thead>\n",
       "  <tbody>\n",
       "    <tr>\n",
       "      <th>21866</th>\n",
       "      <td>The conclusion to the series hits some of the ...</td>\n",
       "      <td>/title/tt1201607/</td>\n",
       "      <td>0</td>\n",
       "      <td>After burying Dobby at the garden of the Shell...</td>\n",
       "      <td>0.158318</td>\n",
       "      <td>0.106248</td>\n",
       "    </tr>\n",
       "    <tr>\n",
       "      <th>7319</th>\n",
       "      <td>The Lion King was pretty much my favourite mov...</td>\n",
       "      <td>/title/tt0110357/</td>\n",
       "      <td>1</td>\n",
       "      <td>The Lion King takes place in the Pride Lands o...</td>\n",
       "      <td>0.197134</td>\n",
       "      <td>0.404854</td>\n",
       "    </tr>\n",
       "    <tr>\n",
       "      <th>15075</th>\n",
       "      <td>OK, perhaps there is truth in the saying \"lost...</td>\n",
       "      <td>/title/tt0364569/</td>\n",
       "      <td>0</td>\n",
       "      <td>The film begins in medias res, with the silhou...</td>\n",
       "      <td>0.115011</td>\n",
       "      <td>0.219557</td>\n",
       "    </tr>\n",
       "    <tr>\n",
       "      <th>3203</th>\n",
       "      <td>Top Gun has been an 80's staple since it first...</td>\n",
       "      <td>/title/tt1745960/</td>\n",
       "      <td>1</td>\n",
       "      <td>Over three decades after his time at TOPGUN, C...</td>\n",
       "      <td>0.423765</td>\n",
       "      <td>0.262304</td>\n",
       "    </tr>\n",
       "    <tr>\n",
       "      <th>10801</th>\n",
       "      <td>I'll keep this brief: This is simply one of th...</td>\n",
       "      <td>/title/tt0060196/</td>\n",
       "      <td>0</td>\n",
       "      <td>The film tells the story of three men who purs...</td>\n",
       "      <td>0.084172</td>\n",
       "      <td>0.156379</td>\n",
       "    </tr>\n",
       "    <tr>\n",
       "      <th>...</th>\n",
       "      <td>...</td>\n",
       "      <td>...</td>\n",
       "      <td>...</td>\n",
       "      <td>...</td>\n",
       "      <td>...</td>\n",
       "      <td>...</td>\n",
       "    </tr>\n",
       "    <tr>\n",
       "      <th>16050</th>\n",
       "      <td>Let's be honest: is this film really worthy of...</td>\n",
       "      <td>/title/tt0211915/</td>\n",
       "      <td>0</td>\n",
       "      <td>Amelie Poulain (Audrey Tautou) is the only chi...</td>\n",
       "      <td>0.112264</td>\n",
       "      <td>0.048846</td>\n",
       "    </tr>\n",
       "    <tr>\n",
       "      <th>12029</th>\n",
       "      <td>Paul Edgecomb (Tom Hanks) is the lead guard on...</td>\n",
       "      <td>/title/tt0120689/</td>\n",
       "      <td>0</td>\n",
       "      <td>The movie opens with a group of people running...</td>\n",
       "      <td>0.270954</td>\n",
       "      <td>0.230906</td>\n",
       "    </tr>\n",
       "    <tr>\n",
       "      <th>20358</th>\n",
       "      <td>This is undoubtedly the greatest film ever. Th...</td>\n",
       "      <td>/title/tt0031381/</td>\n",
       "      <td>0</td>\n",
       "      <td>The film opens in Tara, a cotton plantation ow...</td>\n",
       "      <td>0.106873</td>\n",
       "      <td>0.180562</td>\n",
       "    </tr>\n",
       "    <tr>\n",
       "      <th>22815</th>\n",
       "      <td>No, this is not an horrible movie and I did no...</td>\n",
       "      <td>/title/tt0046268/</td>\n",
       "      <td>0</td>\n",
       "      <td>1950, in the very isolated town of Las Piedras...</td>\n",
       "      <td>0.174709</td>\n",
       "      <td>0.272613</td>\n",
       "    </tr>\n",
       "    <tr>\n",
       "      <th>3745</th>\n",
       "      <td>I had heard so much of this film, and how posi...</td>\n",
       "      <td>/title/tt0120382/</td>\n",
       "      <td>1</td>\n",
       "      <td>Truman Burbank ( Jim Carrey ) is an insurance ...</td>\n",
       "      <td>0.120066</td>\n",
       "      <td>0.351032</td>\n",
       "    </tr>\n",
       "  </tbody>\n",
       "</table>\n",
       "<p>22879 rows × 6 columns</p>\n",
       "</div>"
      ],
      "text/plain": [
       "                                                  Review              Title  \\\n",
       "21866  The conclusion to the series hits some of the ...  /title/tt1201607/   \n",
       "7319   The Lion King was pretty much my favourite mov...  /title/tt0110357/   \n",
       "15075  OK, perhaps there is truth in the saying \"lost...  /title/tt0364569/   \n",
       "3203   Top Gun has been an 80's staple since it first...  /title/tt1745960/   \n",
       "10801  I'll keep this brief: This is simply one of th...  /title/tt0060196/   \n",
       "...                                                  ...                ...   \n",
       "16050  Let's be honest: is this film really worthy of...  /title/tt0211915/   \n",
       "12029  Paul Edgecomb (Tom Hanks) is the lead guard on...  /title/tt0120689/   \n",
       "20358  This is undoubtedly the greatest film ever. Th...  /title/tt0031381/   \n",
       "22815  No, this is not an horrible movie and I did no...  /title/tt0046268/   \n",
       "3745   I had heard so much of this film, and how posi...  /title/tt0120382/   \n",
       "\n",
       "       Spoiler_flag                                           Synopsis  \\\n",
       "21866             0  After burying Dobby at the garden of the Shell...   \n",
       "7319              1  The Lion King takes place in the Pride Lands o...   \n",
       "15075             0  The film begins in medias res, with the silhou...   \n",
       "3203              1  Over three decades after his time at TOPGUN, C...   \n",
       "10801             0  The film tells the story of three men who purs...   \n",
       "...             ...                                                ...   \n",
       "16050             0  Amelie Poulain (Audrey Tautou) is the only chi...   \n",
       "12029             0  The movie opens with a group of people running...   \n",
       "20358             0  The film opens in Tara, a cotton plantation ow...   \n",
       "22815             0  1950, in the very isolated town of Las Piedras...   \n",
       "3745              1  Truman Burbank ( Jim Carrey ) is an insurance ...   \n",
       "\n",
       "       Cosine_Similarity  doc_similarity  \n",
       "21866           0.158318        0.106248  \n",
       "7319            0.197134        0.404854  \n",
       "15075           0.115011        0.219557  \n",
       "3203            0.423765        0.262304  \n",
       "10801           0.084172        0.156379  \n",
       "...                  ...             ...  \n",
       "16050           0.112264        0.048846  \n",
       "12029           0.270954        0.230906  \n",
       "20358           0.106873        0.180562  \n",
       "22815           0.174709        0.272613  \n",
       "3745            0.120066        0.351032  \n",
       "\n",
       "[22879 rows x 6 columns]"
      ]
     },
     "execution_count": 62,
     "metadata": {},
     "output_type": "execute_result"
    }
   ],
   "source": [
    "final_df"
   ]
  },
  {
   "cell_type": "code",
   "execution_count": 63,
   "id": "eddf9a7a",
   "metadata": {},
   "outputs": [],
   "source": [
    "final_df.to_excel(\"final_df.xlsx\")"
   ]
  },
  {
   "cell_type": "code",
   "execution_count": null,
   "id": "39e28f73",
   "metadata": {},
   "outputs": [],
   "source": []
  }
 ],
 "metadata": {
  "kernelspec": {
   "display_name": "Python 3 (ipykernel)",
   "language": "python",
   "name": "python3"
  },
  "language_info": {
   "codemirror_mode": {
    "name": "ipython",
    "version": 3
   },
   "file_extension": ".py",
   "mimetype": "text/x-python",
   "name": "python",
   "nbconvert_exporter": "python",
   "pygments_lexer": "ipython3",
   "version": "3.9.7"
  }
 },
 "nbformat": 4,
 "nbformat_minor": 5
}
