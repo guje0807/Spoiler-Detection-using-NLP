{
 "cells": [
  {
   "cell_type": "code",
   "execution_count": 1,
   "id": "3f229932",
   "metadata": {},
   "outputs": [],
   "source": [
    "import pandas as pd\n",
    "from sklearn.feature_extraction.text import TfidfVectorizer\n",
    "from sklearn.metrics.pairwise import cosine_similarity"
   ]
  },
  {
   "cell_type": "code",
   "execution_count": 2,
   "id": "95709be4",
   "metadata": {},
   "outputs": [],
   "source": [
    "non_spoiler = pd.read_excel(\"Non_Spoiler_list_sample.xlsx\")\n",
    "plot = pd.read_excel(\"Plot_synopsis.xlsx\")\n",
    "spoiler = pd.read_excel(\"Spoiler_list_sample.xlsx\")"
   ]
  },
  {
   "cell_type": "code",
   "execution_count": 3,
   "id": "c279f021",
   "metadata": {},
   "outputs": [],
   "source": [
    "non_spoiler.drop(\"Unnamed: 0\",axis=1,inplace=True)"
   ]
  },
  {
   "cell_type": "code",
   "execution_count": 4,
   "id": "0129ac4e",
   "metadata": {},
   "outputs": [],
   "source": [
    "plot.drop(\"Unnamed: 0\",axis=1,inplace=True)"
   ]
  },
  {
   "cell_type": "code",
   "execution_count": 5,
   "id": "14fad62a",
   "metadata": {},
   "outputs": [],
   "source": [
    "spoiler.drop(\"Unnamed: 0\",axis=1,inplace=True)"
   ]
  },
  {
   "cell_type": "code",
   "execution_count": 6,
   "id": "71c36538",
   "metadata": {},
   "outputs": [],
   "source": [
    "non_spoiler = non_spoiler.rename(columns={0:'Reviews', 1:'Title'})"
   ]
  },
  {
   "cell_type": "code",
   "execution_count": 7,
   "id": "1cfe5f78",
   "metadata": {},
   "outputs": [],
   "source": [
    "spoiler = spoiler.rename(columns={0:'Reviews', 1:'Title'})"
   ]
  },
  {
   "cell_type": "code",
   "execution_count": 8,
   "id": "10a73a16",
   "metadata": {},
   "outputs": [],
   "source": [
    "plot = plot.rename(columns={\"titles\":'Title', \"plot_Synopsis\":'Synopsis'})"
   ]
  },
  {
   "cell_type": "code",
   "execution_count": 9,
   "id": "46061d28",
   "metadata": {},
   "outputs": [],
   "source": [
    "# Text Cleaning"
   ]
  },
  {
   "cell_type": "code",
   "execution_count": 10,
   "id": "a47ed9b6",
   "metadata": {},
   "outputs": [],
   "source": [
    "import re,html\n",
    "def clean(text):\n",
    "    #tags like <tag>\n",
    "    text = re.sub(r'<[^<>]*>', ' ',text)\n",
    "    #Markdown Urls\n",
    "    text = re.sub(r'\\[([^\\[\\]]*)\\]\\([^\\(\\)]*\\)',r'\\1',text)\n",
    "    #Remove Punctuation\n",
    "    text = re.sub(r'([!?,])\\1+', r'\\1', text)\n",
    "    #Remove all URL's\n",
    "    text = re.sub(r'http.*', ' ', text)\n",
    "    #Remove @\n",
    "    text = re.sub(r'@\\w*', ' ', text)\n",
    "    #text or code in brackets\n",
    "    text = re.sub(r'\\[[^\\[\\]]*\\]',' ',text)\n",
    "    # remove b\"\n",
    "    text = text.replace('b\\\"',' ') \n",
    "    # remove b'\n",
    "    text = text.replace(\"b\\'\",' ') \n",
    "    # remove \\\\n\n",
    "    text = text.replace('\\\\n',' ')\n",
    "    #Remove &amp\n",
    "    text = text.replace('&amp',' ') \n",
    "    # remove UTF-8 code like \\\\xe2\n",
    "    text = re.sub(r'(\\\\x(.){2})', ' ',text) \n",
    "    #Standalone sequences for specials\n",
    "    text = re.sub(r'(?:^|\\s)[;.\\'\\\"&#<>{}\\[\\]+|\\\\:-]{1,}(?:\\s|$)', ' ',text)\n",
    "    #stand alone sequence of hyphens \n",
    "    text= re.sub(r'(?:^|\\s)[\\-=\\+]{2,}(?:\\s|$)', ' ',text)\n",
    "    # Sequence of white spaces\n",
    "    text = re.sub(r'\\s+',' ',text)\n",
    "    return text.strip()"
   ]
  },
  {
   "cell_type": "code",
   "execution_count": 11,
   "id": "9d085745",
   "metadata": {},
   "outputs": [],
   "source": [
    "non_spoiler[\"Reviews\"] = non_spoiler[\"Reviews\"].map(clean)"
   ]
  },
  {
   "cell_type": "code",
   "execution_count": 12,
   "id": "0489c96c",
   "metadata": {},
   "outputs": [],
   "source": [
    "spoiler[\"Reviews\"] = spoiler[\"Reviews\"].map(clean)"
   ]
  },
  {
   "cell_type": "code",
   "execution_count": 13,
   "id": "3995da4e",
   "metadata": {},
   "outputs": [],
   "source": [
    "plot[\"Synopsis\"] = plot[\"Synopsis\"].map(clean)"
   ]
  },
  {
   "cell_type": "code",
   "execution_count": 14,
   "id": "d67d26fd",
   "metadata": {},
   "outputs": [
    {
     "data": {
      "text/html": [
       "<div>\n",
       "<style scoped>\n",
       "    .dataframe tbody tr th:only-of-type {\n",
       "        vertical-align: middle;\n",
       "    }\n",
       "\n",
       "    .dataframe tbody tr th {\n",
       "        vertical-align: top;\n",
       "    }\n",
       "\n",
       "    .dataframe thead th {\n",
       "        text-align: right;\n",
       "    }\n",
       "</style>\n",
       "<table border=\"1\" class=\"dataframe\">\n",
       "  <thead>\n",
       "    <tr style=\"text-align: right;\">\n",
       "      <th></th>\n",
       "      <th>Reviews</th>\n",
       "      <th>Title</th>\n",
       "    </tr>\n",
       "  </thead>\n",
       "  <tbody>\n",
       "    <tr>\n",
       "      <th>0</th>\n",
       "      <td>The Shawshank Redemption is written and direct...</td>\n",
       "      <td>/title/tt0111161/</td>\n",
       "    </tr>\n",
       "    <tr>\n",
       "      <th>1</th>\n",
       "      <td>In its Oscar year, Shawshank Redemption (writt...</td>\n",
       "      <td>/title/tt0111161/</td>\n",
       "    </tr>\n",
       "    <tr>\n",
       "      <th>2</th>\n",
       "      <td>Based on a novella by Stephen King, this is be...</td>\n",
       "      <td>/title/tt0111161/</td>\n",
       "    </tr>\n",
       "    <tr>\n",
       "      <th>3</th>\n",
       "      <td>The Shawshank Redemption is without a doubt on...</td>\n",
       "      <td>/title/tt0111161/</td>\n",
       "    </tr>\n",
       "    <tr>\n",
       "      <th>4</th>\n",
       "      <td>None of the usual otherworld creatures that po...</td>\n",
       "      <td>/title/tt0111161/</td>\n",
       "    </tr>\n",
       "  </tbody>\n",
       "</table>\n",
       "</div>"
      ],
      "text/plain": [
       "                                             Reviews              Title\n",
       "0  The Shawshank Redemption is written and direct...  /title/tt0111161/\n",
       "1  In its Oscar year, Shawshank Redemption (writt...  /title/tt0111161/\n",
       "2  Based on a novella by Stephen King, this is be...  /title/tt0111161/\n",
       "3  The Shawshank Redemption is without a doubt on...  /title/tt0111161/\n",
       "4  None of the usual otherworld creatures that po...  /title/tt0111161/"
      ]
     },
     "execution_count": 14,
     "metadata": {},
     "output_type": "execute_result"
    }
   ],
   "source": [
    "spoiler.head()"
   ]
  },
  {
   "cell_type": "code",
   "execution_count": 15,
   "id": "f30063a7",
   "metadata": {},
   "outputs": [
    {
     "data": {
      "text/html": [
       "<div>\n",
       "<style scoped>\n",
       "    .dataframe tbody tr th:only-of-type {\n",
       "        vertical-align: middle;\n",
       "    }\n",
       "\n",
       "    .dataframe tbody tr th {\n",
       "        vertical-align: top;\n",
       "    }\n",
       "\n",
       "    .dataframe thead th {\n",
       "        text-align: right;\n",
       "    }\n",
       "</style>\n",
       "<table border=\"1\" class=\"dataframe\">\n",
       "  <thead>\n",
       "    <tr style=\"text-align: right;\">\n",
       "      <th></th>\n",
       "      <th>Title</th>\n",
       "      <th>Synopsis</th>\n",
       "    </tr>\n",
       "  </thead>\n",
       "  <tbody>\n",
       "    <tr>\n",
       "      <th>0</th>\n",
       "      <td>/title/tt0111161/</td>\n",
       "      <td>In 1947, Andy Dufresne ( Tim Robbins ), a bank...</td>\n",
       "    </tr>\n",
       "    <tr>\n",
       "      <th>1</th>\n",
       "      <td>/title/tt0068646/</td>\n",
       "      <td>In late summer 1945, guests are gathered for t...</td>\n",
       "    </tr>\n",
       "    <tr>\n",
       "      <th>2</th>\n",
       "      <td>/title/tt0468569/</td>\n",
       "      <td>The movie begins with a gang of men with clown...</td>\n",
       "    </tr>\n",
       "    <tr>\n",
       "      <th>3</th>\n",
       "      <td>/title/tt0071562/</td>\n",
       "      <td>The Godfather Part II presents two parallel st...</td>\n",
       "    </tr>\n",
       "    <tr>\n",
       "      <th>4</th>\n",
       "      <td>/title/tt0050083/</td>\n",
       "      <td>In a New York City courthouse, an eighteen-yea...</td>\n",
       "    </tr>\n",
       "  </tbody>\n",
       "</table>\n",
       "</div>"
      ],
      "text/plain": [
       "               Title                                           Synopsis\n",
       "0  /title/tt0111161/  In 1947, Andy Dufresne ( Tim Robbins ), a bank...\n",
       "1  /title/tt0068646/  In late summer 1945, guests are gathered for t...\n",
       "2  /title/tt0468569/  The movie begins with a gang of men with clown...\n",
       "3  /title/tt0071562/  The Godfather Part II presents two parallel st...\n",
       "4  /title/tt0050083/  In a New York City courthouse, an eighteen-yea..."
      ]
     },
     "execution_count": 15,
     "metadata": {},
     "output_type": "execute_result"
    }
   ],
   "source": [
    "plot.head()"
   ]
  },
  {
   "cell_type": "code",
   "execution_count": 16,
   "id": "4d25a6f7",
   "metadata": {},
   "outputs": [
    {
     "data": {
      "text/html": [
       "<div>\n",
       "<style scoped>\n",
       "    .dataframe tbody tr th:only-of-type {\n",
       "        vertical-align: middle;\n",
       "    }\n",
       "\n",
       "    .dataframe tbody tr th {\n",
       "        vertical-align: top;\n",
       "    }\n",
       "\n",
       "    .dataframe thead th {\n",
       "        text-align: right;\n",
       "    }\n",
       "</style>\n",
       "<table border=\"1\" class=\"dataframe\">\n",
       "  <thead>\n",
       "    <tr style=\"text-align: right;\">\n",
       "      <th></th>\n",
       "      <th>Reviews</th>\n",
       "      <th>Title</th>\n",
       "    </tr>\n",
       "  </thead>\n",
       "  <tbody>\n",
       "    <tr>\n",
       "      <th>0</th>\n",
       "      <td>It is no wonder that the film has such a high ...</td>\n",
       "      <td>/title/tt0111161/</td>\n",
       "    </tr>\n",
       "    <tr>\n",
       "      <th>1</th>\n",
       "      <td>I'm trying to save you money; this is the last...</td>\n",
       "      <td>/title/tt0111161/</td>\n",
       "    </tr>\n",
       "    <tr>\n",
       "      <th>2</th>\n",
       "      <td>This movie is not your ordinary Hollywood flic...</td>\n",
       "      <td>/title/tt0111161/</td>\n",
       "    </tr>\n",
       "    <tr>\n",
       "      <th>3</th>\n",
       "      <td>One of the finest films made in recent years. ...</td>\n",
       "      <td>/title/tt0111161/</td>\n",
       "    </tr>\n",
       "    <tr>\n",
       "      <th>4</th>\n",
       "      <td>Misery and Stand By Me were the best adaptatio...</td>\n",
       "      <td>/title/tt0111161/</td>\n",
       "    </tr>\n",
       "  </tbody>\n",
       "</table>\n",
       "</div>"
      ],
      "text/plain": [
       "                                             Reviews              Title\n",
       "0  It is no wonder that the film has such a high ...  /title/tt0111161/\n",
       "1  I'm trying to save you money; this is the last...  /title/tt0111161/\n",
       "2  This movie is not your ordinary Hollywood flic...  /title/tt0111161/\n",
       "3  One of the finest films made in recent years. ...  /title/tt0111161/\n",
       "4  Misery and Stand By Me were the best adaptatio...  /title/tt0111161/"
      ]
     },
     "execution_count": 16,
     "metadata": {},
     "output_type": "execute_result"
    }
   ],
   "source": [
    "non_spoiler.head()"
   ]
  },
  {
   "cell_type": "code",
   "execution_count": 17,
   "id": "e4b06fdf",
   "metadata": {},
   "outputs": [],
   "source": [
    "spoilers_final = pd.merge(spoiler, plot, on=['Title','Title'])"
   ]
  },
  {
   "cell_type": "code",
   "execution_count": 18,
   "id": "5810bcaa",
   "metadata": {},
   "outputs": [
    {
     "data": {
      "text/html": [
       "<div>\n",
       "<style scoped>\n",
       "    .dataframe tbody tr th:only-of-type {\n",
       "        vertical-align: middle;\n",
       "    }\n",
       "\n",
       "    .dataframe tbody tr th {\n",
       "        vertical-align: top;\n",
       "    }\n",
       "\n",
       "    .dataframe thead th {\n",
       "        text-align: right;\n",
       "    }\n",
       "</style>\n",
       "<table border=\"1\" class=\"dataframe\">\n",
       "  <thead>\n",
       "    <tr style=\"text-align: right;\">\n",
       "      <th></th>\n",
       "      <th>Reviews</th>\n",
       "      <th>Title</th>\n",
       "      <th>Synopsis</th>\n",
       "    </tr>\n",
       "  </thead>\n",
       "  <tbody>\n",
       "    <tr>\n",
       "      <th>1202</th>\n",
       "      <td>Why don't we live in Westport!, My wife is the...</td>\n",
       "      <td>/title/tt0169547/</td>\n",
       "      <td>Lester Burnham (Kevin Spacey) is a 42-year-old...</td>\n",
       "    </tr>\n",
       "    <tr>\n",
       "      <th>1203</th>\n",
       "      <td>What I learned from American beauty: 1. Smokin...</td>\n",
       "      <td>/title/tt0169547/</td>\n",
       "      <td>Lester Burnham (Kevin Spacey) is a 42-year-old...</td>\n",
       "    </tr>\n",
       "    <tr>\n",
       "      <th>1204</th>\n",
       "      <td>Of the 250+ films I've seen and rated on IMDb,...</td>\n",
       "      <td>/title/tt0169547/</td>\n",
       "      <td>Lester Burnham (Kevin Spacey) is a 42-year-old...</td>\n",
       "    </tr>\n",
       "    <tr>\n",
       "      <th>1205</th>\n",
       "      <td>American Beauty is the greatest movie ever mad...</td>\n",
       "      <td>/title/tt0169547/</td>\n",
       "      <td>Lester Burnham (Kevin Spacey) is a 42-year-old...</td>\n",
       "    </tr>\n",
       "    <tr>\n",
       "      <th>1206</th>\n",
       "      <td>And there were a lot of great ones this year. ...</td>\n",
       "      <td>/title/tt0169547/</td>\n",
       "      <td>Lester Burnham (Kevin Spacey) is a 42-year-old...</td>\n",
       "    </tr>\n",
       "  </tbody>\n",
       "</table>\n",
       "</div>"
      ],
      "text/plain": [
       "                                                Reviews              Title  \\\n",
       "1202  Why don't we live in Westport!, My wife is the...  /title/tt0169547/   \n",
       "1203  What I learned from American beauty: 1. Smokin...  /title/tt0169547/   \n",
       "1204  Of the 250+ films I've seen and rated on IMDb,...  /title/tt0169547/   \n",
       "1205  American Beauty is the greatest movie ever mad...  /title/tt0169547/   \n",
       "1206  And there were a lot of great ones this year. ...  /title/tt0169547/   \n",
       "\n",
       "                                               Synopsis  \n",
       "1202  Lester Burnham (Kevin Spacey) is a 42-year-old...  \n",
       "1203  Lester Burnham (Kevin Spacey) is a 42-year-old...  \n",
       "1204  Lester Burnham (Kevin Spacey) is a 42-year-old...  \n",
       "1205  Lester Burnham (Kevin Spacey) is a 42-year-old...  \n",
       "1206  Lester Burnham (Kevin Spacey) is a 42-year-old...  "
      ]
     },
     "execution_count": 18,
     "metadata": {},
     "output_type": "execute_result"
    }
   ],
   "source": [
    "spoilers_final.tail()"
   ]
  },
  {
   "cell_type": "code",
   "execution_count": 19,
   "id": "1086ce5e",
   "metadata": {},
   "outputs": [
    {
     "data": {
      "text/plain": [
       "(1207, 3)"
      ]
     },
     "execution_count": 19,
     "metadata": {},
     "output_type": "execute_result"
    }
   ],
   "source": [
    "spoilers_final.shape"
   ]
  },
  {
   "cell_type": "code",
   "execution_count": 20,
   "id": "42f90ca6",
   "metadata": {},
   "outputs": [],
   "source": [
    "non_spoiler_final = pd.merge(non_spoiler, plot, on=['Title','Title'])"
   ]
  },
  {
   "cell_type": "code",
   "execution_count": 21,
   "id": "a6a32a81",
   "metadata": {},
   "outputs": [
    {
     "data": {
      "text/html": [
       "<div>\n",
       "<style scoped>\n",
       "    .dataframe tbody tr th:only-of-type {\n",
       "        vertical-align: middle;\n",
       "    }\n",
       "\n",
       "    .dataframe tbody tr th {\n",
       "        vertical-align: top;\n",
       "    }\n",
       "\n",
       "    .dataframe thead th {\n",
       "        text-align: right;\n",
       "    }\n",
       "</style>\n",
       "<table border=\"1\" class=\"dataframe\">\n",
       "  <thead>\n",
       "    <tr style=\"text-align: right;\">\n",
       "      <th></th>\n",
       "      <th>Reviews</th>\n",
       "      <th>Title</th>\n",
       "      <th>Synopsis</th>\n",
       "    </tr>\n",
       "  </thead>\n",
       "  <tbody>\n",
       "    <tr>\n",
       "      <th>3785</th>\n",
       "      <td>\"American Beauty\" is tour de force cinema. Sam...</td>\n",
       "      <td>/title/tt0169547/</td>\n",
       "      <td>Lester Burnham (Kevin Spacey) is a 42-year-old...</td>\n",
       "    </tr>\n",
       "    <tr>\n",
       "      <th>3786</th>\n",
       "      <td>Probably the best film of 1999. This dark come...</td>\n",
       "      <td>/title/tt0169547/</td>\n",
       "      <td>Lester Burnham (Kevin Spacey) is a 42-year-old...</td>\n",
       "    </tr>\n",
       "    <tr>\n",
       "      <th>3787</th>\n",
       "      <td>The intention is so clear that everything else...</td>\n",
       "      <td>/title/tt0169547/</td>\n",
       "      <td>Lester Burnham (Kevin Spacey) is a 42-year-old...</td>\n",
       "    </tr>\n",
       "    <tr>\n",
       "      <th>3788</th>\n",
       "      <td>This movie was a joy to watch. I didn't know w...</td>\n",
       "      <td>/title/tt0169547/</td>\n",
       "      <td>Lester Burnham (Kevin Spacey) is a 42-year-old...</td>\n",
       "    </tr>\n",
       "    <tr>\n",
       "      <th>3789</th>\n",
       "      <td>When I first saw this movie in theaters, I fou...</td>\n",
       "      <td>/title/tt0169547/</td>\n",
       "      <td>Lester Burnham (Kevin Spacey) is a 42-year-old...</td>\n",
       "    </tr>\n",
       "  </tbody>\n",
       "</table>\n",
       "</div>"
      ],
      "text/plain": [
       "                                                Reviews              Title  \\\n",
       "3785  \"American Beauty\" is tour de force cinema. Sam...  /title/tt0169547/   \n",
       "3786  Probably the best film of 1999. This dark come...  /title/tt0169547/   \n",
       "3787  The intention is so clear that everything else...  /title/tt0169547/   \n",
       "3788  This movie was a joy to watch. I didn't know w...  /title/tt0169547/   \n",
       "3789  When I first saw this movie in theaters, I fou...  /title/tt0169547/   \n",
       "\n",
       "                                               Synopsis  \n",
       "3785  Lester Burnham (Kevin Spacey) is a 42-year-old...  \n",
       "3786  Lester Burnham (Kevin Spacey) is a 42-year-old...  \n",
       "3787  Lester Burnham (Kevin Spacey) is a 42-year-old...  \n",
       "3788  Lester Burnham (Kevin Spacey) is a 42-year-old...  \n",
       "3789  Lester Burnham (Kevin Spacey) is a 42-year-old...  "
      ]
     },
     "execution_count": 21,
     "metadata": {},
     "output_type": "execute_result"
    }
   ],
   "source": [
    "non_spoiler_final.tail()"
   ]
  },
  {
   "cell_type": "code",
   "execution_count": 22,
   "id": "1f13113a",
   "metadata": {},
   "outputs": [
    {
     "data": {
      "text/plain": [
       "(3790, 3)"
      ]
     },
     "execution_count": 22,
     "metadata": {},
     "output_type": "execute_result"
    }
   ],
   "source": [
    "non_spoiler_final.shape"
   ]
  },
  {
   "cell_type": "code",
   "execution_count": 23,
   "id": "00fbce6a",
   "metadata": {},
   "outputs": [],
   "source": [
    "#cosine similarity"
   ]
  },
  {
   "cell_type": "code",
   "execution_count": 24,
   "id": "a6349cfa",
   "metadata": {},
   "outputs": [],
   "source": [
    "#spoiler"
   ]
  },
  {
   "cell_type": "code",
   "execution_count": 25,
   "id": "b1d18a01",
   "metadata": {},
   "outputs": [],
   "source": [
    "tfidf = TfidfVectorizer()"
   ]
  },
  {
   "cell_type": "code",
   "execution_count": 26,
   "id": "422282af",
   "metadata": {},
   "outputs": [],
   "source": [
    "text_matrix1 = tfidf.fit_transform(spoilers_final['Reviews'].values.astype('U'))\n",
    "text_matrix2 = tfidf.transform(spoilers_final['Synopsis'].values.astype('U'))\n"
   ]
  },
  {
   "cell_type": "code",
   "execution_count": 27,
   "id": "7c96a231",
   "metadata": {},
   "outputs": [],
   "source": [
    "similarity_matrix = cosine_similarity(text_matrix1, text_matrix2)\n"
   ]
  },
  {
   "cell_type": "code",
   "execution_count": 28,
   "id": "a4e811a3",
   "metadata": {},
   "outputs": [],
   "source": [
    "spoilers_final['Cosine_Similarity'] = similarity_matrix.diagonal()\n"
   ]
  },
  {
   "cell_type": "code",
   "execution_count": 29,
   "id": "23a91d3e",
   "metadata": {},
   "outputs": [
    {
     "data": {
      "text/plain": [
       "404"
      ]
     },
     "execution_count": 29,
     "metadata": {},
     "output_type": "execute_result"
    }
   ],
   "source": [
    "spoilers_final['Cosine_Similarity'].argmax()"
   ]
  },
  {
   "cell_type": "code",
   "execution_count": 30,
   "id": "84dc02aa",
   "metadata": {},
   "outputs": [
    {
     "data": {
      "text/plain": [
       "Reviews              Even though it is nowadays considered one of t...\n",
       "Title                                                /title/tt0038650/\n",
       "Synopsis             This movie is about a divine intervention by a...\n",
       "Cosine_Similarity                                             0.768337\n",
       "Name: 404, dtype: object"
      ]
     },
     "execution_count": 30,
     "metadata": {},
     "output_type": "execute_result"
    }
   ],
   "source": [
    "spoilers_final.iloc[404]"
   ]
  },
  {
   "cell_type": "code",
   "execution_count": 31,
   "id": "c4602c78",
   "metadata": {},
   "outputs": [
    {
     "data": {
      "text/plain": [
       "count    1207.000000\n",
       "mean        0.376269\n",
       "std         0.148885\n",
       "min         0.048705\n",
       "25%         0.266566\n",
       "50%         0.365304\n",
       "75%         0.475660\n",
       "max         0.768337\n",
       "Name: Cosine_Similarity, dtype: float64"
      ]
     },
     "execution_count": 31,
     "metadata": {},
     "output_type": "execute_result"
    }
   ],
   "source": [
    "spoilers_final['Cosine_Similarity'].describe()"
   ]
  },
  {
   "cell_type": "code",
   "execution_count": 33,
   "id": "b1c9f600",
   "metadata": {},
   "outputs": [
    {
     "data": {
      "text/plain": [
       "976"
      ]
     },
     "execution_count": 33,
     "metadata": {},
     "output_type": "execute_result"
    }
   ],
   "source": [
    "spoilers_final['Cosine_Similarity'].argmin()"
   ]
  },
  {
   "cell_type": "code",
   "execution_count": 34,
   "id": "b30675d1",
   "metadata": {},
   "outputs": [
    {
     "name": "stdout",
     "output_type": "stream",
     "text": [
      "Great direction, screenplay, performances, soundtrack, cinematography, costume design, production design, all the things you can expect from a Tarantino film. Also like others Tarantino films, only those who really have a extensive knowledge of films are going to really appreciate some things, like the Franco Nero scene.\n",
      "/title/tt1853728/\n",
      "In 1858, Django ( Jamie Foxx ), a slave, is chained to a bunch of other slaves and being marched to his new owner's estate in Texas by the Speck brothers. At nightfall, a German man in a dentist cart pulls up and hails the Speck brothers. He introduces himself as Dr. King Schultz ( Christoph Waltz ). Schultz is clearly more intelligent and enlightened than the Specks. He says he is looking for a slave who can identify a band of wanted fugitives known as the Brittle brothers. Django announces that he knows the Brittle brothers and can identify them. Schultz offers to buy Django, but his polite and educated manner rubs the ill-mannered Specks the wrong way, and Ace Speck threatens to shoot him with his shotgun. In response, Schultz lowers his lantern, whips out a revolver, and shoots Ace, then Dicky's horse, spilling its owner on the ground. The horse carcass then lands on and crushes Dicky's leg, leaving him screaming in pain. Despite Dicky's continued insults and condemnation, Schultz pays the man (for both Django, and the dead Speck's horse), gets an official title to Django. Free, Django approaches Ace's corpse, intending to take the man's clothes and boots. When Dicky berates Django, Django steps heavily on the dead horse, prompting Dicky to scream further. Django takes Ace's boots and clothes and mounts Ace's horse. Before Schultz and Django leave, he frees the remaining slaves (clearly, Schultz finds slavery abhorrent) and says that they may either carry the remaining Speck brother back to town, or shoot him and flee. As Django and Schultz ride off, we hear Speck pleading for his life. We hear a gunshot and can see blood splatter as Dicky's brains are blown out. Django and Schultz arrive in the small town of Daughtrey near El Paso. As they travel through the streets, townspeople stop to stare in disbelief at the sight of a black man on a horse, much to Schultz's confusion. As Schultz ties his cart down at a hitching post, he checks some papers to make sure he's in the right place. The two then walk into a saloon despite the fact that Django is forbidden from doing so. When Schultz insists on being served, the barkeep runs out of the saloon, Schultz calling after him to specifically bring the sheriff, not the town marshal. While they wait, Schultz pours beers for himself and Django and leaves money on the bar. He explains that he is no longer a dentist, but a bounty hunter in search of the Brittle brothers who are wanted dead or alive. He admits that although he knows the general location of the brothers, near Gatlinburg, they have adopted aliases, and he needs somebody who can identify them. Schultz tells Django that if he helps him bring in the Brittle brothers, Schultz will give him his freedom, pay him a $75 share of the reward, and let him keep his horse. Django immediately agrees, when, as if on cue, Schultz sees the sheriff coming down the sidewalk. The sheriff enters the saloon, shotgun in hand, and tells Schultz and Django to leave. The two comply, and exit out the swinging doors. We see that a number of townspeople are watching the spectacle unfolding as the sheriff asks them why they are coming into his town and showing themselves with the sole purpose of causing trouble. Schultz is silent, then steps forward. A spring-mounted Derringer pops up in his right hand, and he shoots the sheriff in the stomach. The townspeople are stunned as the sheriff stumbles to the ground, moaning in pain. Schultz walks around the wounded sheriff, aims his Derringer, and shoots him in the head, killing him. The townspeople immediately run for their lives. Schultz looks up and tells the bartender that now is the time to fetch the marshal. The bartender runs off while Schultz and Django go back into the saloon to wait. The town marshal and most of the town arrive and train rifles on the front door of the saloon. Schultz hears that he has 100 rifles aimed at his head, and gets the marshal to agree to not have him shot dead like a dog in the street when he comes out. Schultz then exits, hands raised over his head, and a paper in his hand. He announces to the marshal and to the assembled townsfolk what has really happened: that the dead man the people of Daughtrey elected their sheriff, who went by the name of 'Bill Sharpe', is a wanted cattle rustler named Willard Peck, with a $200 bounty on his head. Schultz says that the paper in his hand is an official document from a judge that charges King with finding and bringing Peck back to the proper jurisdiction dead or alive. Schultz then suggests that the marshal pay him the $200 fee. Later, while camping, Django admits to Schultz that what he wants to do once he is liberated is buy freedom for his wife, a slave girl named Broomhilda von Shaft ( Kerry Washington ) who had been a servant of a German mistress before being sold into slavery in the U.S. Their owner Carrucan ( Bruce Dern ) was a cruel old man who disapproved of their marriage, so the pair attempted escape. They were caught by the Brittle brothers, who tortured and branded them both with the mark of a runaway, a small \"R\" on their right cheeks. Carrucan then directed the Brittle brothers to sell the pair to separate owners, and to take the lowest price for Django. Django and Schultz eventually develop a plan to infiltrate an estate near Gatlinburg where they suspect that the Brittle brothers reside and for Django to identify them. Django is to play-act as a freed slave who has been hired as Schultz's valet. They arrive at the plantation owned by Spencer \"Big Daddy\" Bennett ( Don Johnson ). Schultz states he is looking to buy one of Bennett's slave girls for an exorbitant price. As he and Bennett talk business, Django is given free range to look around the estate. Django asks Betina, his escort, if she knows of the Brittles. Betina admits that she doesn't know them, leading Django to suspect that the Brittles are using a false name. At this, Betina reveals that three overseer brothers known as the Schaeffers did arrive in the past year. She points out the first one in the field. Django looks through his telescope and sees that it is Ellis. Seeing Ellis causes Django to have a lengthy flashback over running away with Broomhilda and pleading with Big John to spare Broomhilda from the whip, unsuccessfully. The flashback ends with Big John saying, \"I like the way you beg, boy.\" Snapping out of his flashback, Django learns that Big John and Little Raj are on a different part of the plantation, about to whip a young slave girl for breaking eggs. The two have tied her to a tree by the arms and Big John is about to use the whip on her when Django appears and shouts Big John's name. Big John turns, stunned to see Django, who suddenly produces a Derringer similar to Schultz's and shoots him through a Bible page glued to his shirt. He looks down at his bullet wound, stunned, as Django tells him, \"I like the way you die, boy,\" and Big John pitches forward, dead. Little Raj attempts to grab his revolver, but Django grabs Big John's whip and uses it to viciously flog him. He then takes the gun and unloads it into Little Raj, just as Schultz comes racing in. Django tells Schultz that Ellis is already galloping away across the cotton field. Schultz tracks Ellis through his sniper rifle, and once Django positively identifies the man, Schultz fires. Blood sprays the cotton flowers as Ellis falls off his horse. Though Bennett is incensed when he arrives, he is forced to let them go once Schultz explains they are legally authorized to kill and collect these men. Schultz and Django pack up quickly and leave. That night, out for revenge, Bennett calls out all the fellow white men of the plantation to kill Django and Schultz, spotting their dentist's cart camped outside of town. The men make their charge over the hill in KKK style hoods, and surround the small campsite. The scene then changes to earlier, when Bennett is giving instructions to the other Klansmen to not shoot Django or Schultz unless they are shot at. He puts his bag hood on, and a funny scene ensues as Bennett finds he is unable to see through the eye holes in his mask. Everyone else starts to bicker about how badly made their masks are, which ends with Willard, whose wife Jenny spent all afternoon making masks for them, giving up and riding away, furious. Eventually, the Klansmen get their act together. As they surround the cart, one of the men spots what he thinks is Django and Schultz hiding under the cart. He peeks under, only to find that the 'bodies' are actually bedrolls. Bennett wonders where the two bounty hunters actually are. In response, the scene cuts to Django and Schultz hiding in a tree a short distance away, Schultz carrying a rifle. Schultz says, \"auf wiedersehen,\" and fires at the cart, setting off a bundle of dynamite hidden in the tooth on the roof of his cart. It blows up and kills most of the Klansmen. Bennett manages to survive the detonation and begins riding away. Schultz sees this and hands the rifle over to Django, letting him do the honors. Django tracks, and then fires, hitting Bennett and shooting him off his horse. Schultz realizes that Django is a natural and formidable sharpshooter. King asks what Django will do now that he is officially free, and Django says he will locate his wife (believed to be in Mississippi) and try to purchase her freedom. King, who has bonded with Django and is impressed by both his intelligence and marksmanship, proposes to help Django rescue his wife if Django will work with him over the winter in collecting bounties. King is also impressed with Broomhilda's name (and her ability to speak German), telling Django the German legend of Siegfried and Brunhilde. In the legend, the beautiful Brunhilde is captured and imprisoned in a tower on a mountainside that is guarded by a dragon and surrounded by hell-fire. Her lover, Siegfried, rescues her, facing the mountain and dragon simply because he is brave, but also overcoming the hell-fire out of his love for Brunhilde. Django is quite taken with the tale. Django agrees to King's proposal, finding him to be a deeply honorable man in spite of his line of work. King trains Django to not only be an expert with a gun, but also how to read and present himself in public. On one mission, Django and King perch themselves on a hill overlooking a small farm where Django hesitates to kill a man who is now peacefully working on the farm and has a son. King explains that before the man owned this farm and started a family, he murdered several people while robbing stagecoaches, and that he has a $7,000 bounty on his head. King explains that it is this own man's actions in a dirty world that has brought the bounty hunters to his door. Hearing this, Django shoots and kills the man in front of his son. King tells him to keep the wanted poster, as a bounty hunter's first successful poster is good luck. Throughout the winter, Django imagines he and Broomhilda free and happy. Jumping forward to March 1859, once winter passes, the two head back to the South in search of Broomhilda. King discovers that she was sold to a man named Calvin Candie ( Leonardo DiCaprio ), the owner of a plantation known as 'Candie Land'. Candie is famous for breeding \"mandingos\"--slaves who are bred to fight each other to the death (bare-knuckle) for their owner's amusement (and for betting purposes). King says that he will pose as a wealthy European who seeks to purchase one of Candie's mandingos to take to fight in Europe, and that Django is his business partner and talent evaluator. That evening, Django and King arrive at a Candie's Cleopatra Club and they meet Candie's lawyer, Leonide Moguy ( Dennis Christopher ), who explains that Candie is obsessed with French culture (although Candie, unlike the actually cultured King, does not speak French). The two are brought upstairs where they watch a mandingo fight, which is very brutal and fatal for the loser, who gets his eyes gouged out by the winner and his head caved in with a ball peen hammer. As Candie congratulates his winning mandingo, the owner of the dead mandingo, an Italian businessman named Amerigo Vessepi (Franco Nero, the star of the original 'Django' in a surprise cameo) frets over the loss of his fighter and retires to the nearby bar for a drink. Django introduces himself to Vessepi before he walks out (a clear homage and wink-to-the-audience of the two Django actors in the same scene in the only time in this movie). It turns out that Candie is boorish and clearly arrogant and ignorant despite his wealth and high upbringing. Django is incredibly offensive to Candie and his guests, talking back to all the white men. Candie finds Django's rude and defensive behavior amusing and King to be charming. King and Django state that they are willing to pay an exorbitant amount ($12,000) for one of Candie's better mandingos and they arrange to return with him to his estate. The next morning, the group travels in a convoy to the Candieland ranch. Django continues to act defiantly, insulting both slave and white man alike, and displays his intelligence. When King asks Django why he is so belligerent, Django says he is playing his role in this dirty world. Candie states that he believes one in 10,000 black men are exceptional, and believes Django to be one of those rare few. At one point on the travel into Candieland, they see one of Candie's slaves chased up a tree by some of Candie's white trash work-men and their vicious hounds. It turns out the slave, D'Artagnan (named by Candie after the hero from The Three Musketeers, a book written by Frenchman Alexandre Dumas, whom Candie admires), is a mandingo who was caught running away. Candie convinces D'Artagnan to come down from the tree where D'Artagnan pleads he can't handle any other fights despite having won three in a row. Candie states that his slaves can't retire from fighting until they have won at least five matches in order for him to recoup his $500 investment in them, and that D'Artagnan must be killed. Schultz suddenly offers to pay Candie $500 to spare D'Artagnan's life, but Django, realizing such odd behavior would blow their cover, loudly declares that D'Artagnan isn't worth a single penny. Schultz, coming to his senses, agrees not to pay for D'Artagnan, and Candie has the slave ripped to pieces by the hounds as they all look on. Django glares at Candie, but imagines himself reunited with Broomhilda to keep his anger suppressed. A little later, they all arrive at Candie Land and meet Candie's widowed older sister Lara Lee (Laura Cayouette) and his loyal, 76-year-old house-slave and foreman trustee Stephen ( Samuel L. Jackson ). It is clear that Stephen is appalled that Django is free and riding on a horse into the estate along with his master and other white men and will be allowed to stay in Candie's house. Django also takes an instant disliking to Stephen. Stephen informs Candie that, while he was gone, Broomhilda also attempted to escape and is now locked in the Hot Box, a metal pit in Candie's field. Schultz says he wants to meet Broomhilda, saying he heard legend of her German-speaking abilities. Candie, wanting to please his guest, orders Broomhilda to be cleaned up and sent to Schultz's room. Though he's enraged at seeing his wife dragged from the hotbox, Django checks his temper. When Broomhilda is brought to Schultz' room, the doctor explains to Broomhilda (in German) that he and his \"friend\" are here to rescue her. He then signals Django to come into his room, and Broomhilda faints with happiness upon seeing her husband. Schultz, impressed with Broomhilda's intelligence, begins the next phase of his plan. That evening at dinner, Broomhilda serves Candie and his many guests including Schultz and Django. Lara notes that Broomhilda seems to be attracted to Django. This piques Stephen's curiosity (we see that Stephen is clearly invested in Candie's success, and forces the other slaves to call him \"Sir,\" or \"Mister Stephen\" as though he were their master) and he begins to interrogate Broomhilda in a back room. Broomhilda denies knowing Django, but Stephen knows that she is lying because she bears the same small 'r' brand (for \"runaway\") on the right side of her face as Django does. Meanwhile, Schultz, despite Django's \"objections,\" offers to buy Candie's third-best mandingo for $12,000. They agree that Schultz will return to the estate in five days with a lawyer to complete the transaction. Candie, clearly thrilled at this windfall, is then asked by King whether he can also purchase Broomhilda and take immediate possession of her (King claims he is interested in her ability to speak German, though Candie is convinced Schultz is simply sexually attracted to her). Before Candie can accept the deal, Stephen interrupts and asks to speak to his master in another room. Once there, Stephen (who is drinking brandy) tells Candie that he is convinced that Django and Broomhilda know each other and that Schultz and Django intend to buy her, leave the property, and never return for the mandingo. Candie is incensed and returns to the dining room with a small bag containing the skull of an old slave of his plantation, Ben. He then explains that he collects the skulls of his dead slaves and, invoking the pseudoscience of phrenology, has determined that the reason they don't rise up and kill their masters, despite easily outnumbering the whites, is that their brains are predisposed to subservience and civility whereas white brains are built for dominance and ingenuity. Candie suddenly drops his act, revealing he knows that they want Broomhilda, and unless they immediately pay him $12,000 for her, he will kill her with a ball peen hammer and examine her skull in front of them. King immediately agrees to these terms, and Candie tells Django that he is not exceptional after all. Schultz pays the $12,000 and Candie has his lawyer, Leonide Moguy, begin drawing up the papers transferring ownership of Broomhilda to King. Candie gloats about his victory and intelligence, and Schultz begins to think of D'Artagnan's brutal death. The papers are signed, but before they leave, King insults Candie's intelligence, noting how especially stupid Candie is, since he names his slaves after characters in novels written by Alexandre Dumas even though Dumas was a black man. Candie, seeking to humiliate Schultz and recognizing that Schultz finds him to be a disgusting human being, says he will not allow the travelers to leave with Broomhilda unless King shakes his hand, a Mississippi Southern tradition. This is more than Schultz can take. As he stretches out his hand to shake Candie's hand, his spring-loaded pistol pops into his right hand and fires through the flower on Candie's lapel. Candie looks down at the bullet wound, clutches his chest, staggers backwards and falls over, dead. Stephen screams, \"No!\" and rushes to Candie's side. Butch Pooch, Candie's bodyguard, turns around. Schultz apologizes to Django for being unable to resist temptation, and then Pooch fires his shotgun. The shot hits Schultz with enough force to throw him back into a bookcase, dead. Just as Schultz's body hits the ground, Stephen runs toward Candie's body. All hell breaks loose as Django grabs the distracted Pooch's revolver and shoots him. Moguy tries to run, screaming for help, but is shot multiple times as he tries to enter the foyer. Django then is thrown back into the foyer, and a shootout ensues as he trades fire with numerous white ranchers. Blood flies everywhere and bodies fall left, right and center. Despite taking several losses, several reinforcements of white ranchers arrive, armed with repeating rifles, where they use ladders to scale the second floor of the house to gain access and take position atop the second floor balcony where they open massive return fire against the lone Django who is forced to take cover under some furniture. The shootout ends when Django runs out of ammo while Stephen and Billy Crash capture Broomhilda and threaten to kill her unless Django agrees to Stephen's terms of surrender. Feeling that he has no other choice, Django acquiesces and is brutally beaten by Candie's crew. When Django awakens several hours later the next morning, he is naked and tied upside down in a shack. Billy Crash is preparing to castrate him with a red hot knife. Stephen enters and tells the man that the plans have changed, and Django is no longer slated for castration. After the man leaves, Stephen explains that Django would have died too quickly if he had been castrated. Stephen, wanting Django to suffer, has arranged to sell him to the LeQuint Dickey Mining Company as a slave, where Django will spend the rest of his days. En route to the mining company, Django is able to get the attention of one of the transporters (a group of Australians, including a cameo by director Quentin Tarantino). He tells them that he is a bounty hunter, not a slave, and that he was tracking a man worth $7,000 before he was captured. He promises that if they free and arm him, he will give them the lion's share of the reward. They find the bounty notice (from Django's first kill) on his person and also question the other slaves, who admit that Django is a bounty hunter and rode in to Candie Land with a white man on a horse. The transporters unwisely free Django, give him a pistol and he immediately kills them all and frees the other slaves bound for the mine. He takes a horse, guns, and dynamite and heads back to Candie Land. Django first stops and massacres the all of the surviving ranch hands (trackers) who had hunted down the escaped D'Artagnan with their hounds, killing them all in D'Artagnan's name (the masked female tracker is played by Zoe Bell, and another tracker is played by Tom Savini). He then finds King's dead body in a stable with the freedom papers for Broomhilda still on him. After he takes the papers, Django swears that his next act of vengeance will be in honor of King. Django sneaks back onto the estate and finds and frees Broomhilda. He has her wait outside Candie Land while he engages in further preparations. That evening, Candie's family and friends return from Candie's funeral, Django is there waiting at the top of the grand staircase and shoots Billy Crash and the last two white ranch hands dead. Django even shoots Lara, sending her sprawling backwards and out of sight.... despite that she is unarmed. Note: One can conclude that because Lara suggested (with the help of Stephen) that Django be sent to the LeQuint Dickey Mining Company, so Django eliminated her. After telling the two female house slaves to leave, Django then shoots Stephen in both of his kneecaps, stating that, in the 9,999 slaves Stephen has likely betrayed while working for Candie, he has never met one like Django. Wounded and laying on the floor, Stephen defiantly cries out that Django will be hunted down and killed by bounty hunters for his crimes, and that the South and slavery will never die. Without saying a word, Django lights a fuse, and walks out on Stephen. The explosion utterly destroys Candie's mansion as Stephen still threatens Django. Django meets his wife, who waits for him with two horses outside the estate. The two are finally reunited, and ride off into the night to face whatever destiny awaits them. Django is destined to become a legend, just as Siegfried before him did. After the end credits, we cut to the slaves Django freed from the mining company transporters. They remain seated where Django left them, still in awe of what they witnessed. Then, one asks what the name of that black man was (suggesting Django may not yet become a legend).\n",
      "0.04870456845337795\n"
     ]
    }
   ],
   "source": [
    "for i in spoilers_final.iloc[976]:\n",
    "    print(i)"
   ]
  },
  {
   "cell_type": "code",
   "execution_count": 35,
   "id": "f5f7f5c2",
   "metadata": {},
   "outputs": [
    {
     "data": {
      "text/plain": [
       "Reviews              Great direction, screenplay, performances, sou...\n",
       "Title                                                /title/tt1853728/\n",
       "Synopsis             In 1858, Django ( Jamie Foxx ), a slave, is ch...\n",
       "Cosine_Similarity                                             0.048705\n",
       "Name: 976, dtype: object"
      ]
     },
     "execution_count": 35,
     "metadata": {},
     "output_type": "execute_result"
    }
   ],
   "source": [
    "spoilers_final.iloc[976]"
   ]
  },
  {
   "cell_type": "code",
   "execution_count": 36,
   "id": "dc87c911",
   "metadata": {},
   "outputs": [
    {
     "data": {
      "text/plain": [
       "12"
      ]
     },
     "execution_count": 36,
     "metadata": {},
     "output_type": "execute_result"
    }
   ],
   "source": [
    "len(spoilers_final[spoilers_final['Cosine_Similarity']<0.10])\n"
   ]
  },
  {
   "cell_type": "code",
   "execution_count": 57,
   "id": "5cf8acfb",
   "metadata": {},
   "outputs": [
    {
     "data": {
      "text/html": [
       "<div>\n",
       "<style scoped>\n",
       "    .dataframe tbody tr th:only-of-type {\n",
       "        vertical-align: middle;\n",
       "    }\n",
       "\n",
       "    .dataframe tbody tr th {\n",
       "        vertical-align: top;\n",
       "    }\n",
       "\n",
       "    .dataframe thead th {\n",
       "        text-align: right;\n",
       "    }\n",
       "</style>\n",
       "<table border=\"1\" class=\"dataframe\">\n",
       "  <thead>\n",
       "    <tr style=\"text-align: right;\">\n",
       "      <th></th>\n",
       "      <th>Reviews</th>\n",
       "      <th>Title</th>\n",
       "      <th>Synopsis</th>\n",
       "      <th>Cosine_Similarity</th>\n",
       "      <th>doc_similarity</th>\n",
       "    </tr>\n",
       "  </thead>\n",
       "  <tbody>\n",
       "    <tr>\n",
       "      <th>0</th>\n",
       "      <td>The Shawshank Redemption is written and direct...</td>\n",
       "      <td>/title/tt0111161/</td>\n",
       "      <td>In 1947, Andy Dufresne ( Tim Robbins ), a bank...</td>\n",
       "      <td>0.452051</td>\n",
       "      <td>0.436470</td>\n",
       "    </tr>\n",
       "    <tr>\n",
       "      <th>1</th>\n",
       "      <td>In its Oscar year, Shawshank Redemption (writt...</td>\n",
       "      <td>/title/tt0111161/</td>\n",
       "      <td>In 1947, Andy Dufresne ( Tim Robbins ), a bank...</td>\n",
       "      <td>0.437792</td>\n",
       "      <td>0.355432</td>\n",
       "    </tr>\n",
       "    <tr>\n",
       "      <th>2</th>\n",
       "      <td>Based on a novella by Stephen King, this is be...</td>\n",
       "      <td>/title/tt0111161/</td>\n",
       "      <td>In 1947, Andy Dufresne ( Tim Robbins ), a bank...</td>\n",
       "      <td>0.205656</td>\n",
       "      <td>0.320277</td>\n",
       "    </tr>\n",
       "    <tr>\n",
       "      <th>3</th>\n",
       "      <td>The Shawshank Redemption is without a doubt on...</td>\n",
       "      <td>/title/tt0111161/</td>\n",
       "      <td>In 1947, Andy Dufresne ( Tim Robbins ), a bank...</td>\n",
       "      <td>0.431378</td>\n",
       "      <td>0.313466</td>\n",
       "    </tr>\n",
       "    <tr>\n",
       "      <th>4</th>\n",
       "      <td>None of the usual otherworld creatures that po...</td>\n",
       "      <td>/title/tt0111161/</td>\n",
       "      <td>In 1947, Andy Dufresne ( Tim Robbins ), a bank...</td>\n",
       "      <td>0.352788</td>\n",
       "      <td>0.464498</td>\n",
       "    </tr>\n",
       "    <tr>\n",
       "      <th>...</th>\n",
       "      <td>...</td>\n",
       "      <td>...</td>\n",
       "      <td>...</td>\n",
       "      <td>...</td>\n",
       "      <td>...</td>\n",
       "    </tr>\n",
       "    <tr>\n",
       "      <th>1202</th>\n",
       "      <td>Why don't we live in Westport!, My wife is the...</td>\n",
       "      <td>/title/tt0169547/</td>\n",
       "      <td>Lester Burnham (Kevin Spacey) is a 42-year-old...</td>\n",
       "      <td>0.112705</td>\n",
       "      <td>0.349289</td>\n",
       "    </tr>\n",
       "    <tr>\n",
       "      <th>1203</th>\n",
       "      <td>What I learned from American beauty: 1. Smokin...</td>\n",
       "      <td>/title/tt0169547/</td>\n",
       "      <td>Lester Burnham (Kevin Spacey) is a 42-year-old...</td>\n",
       "      <td>0.119354</td>\n",
       "      <td>0.337446</td>\n",
       "    </tr>\n",
       "    <tr>\n",
       "      <th>1204</th>\n",
       "      <td>Of the 250+ films I've seen and rated on IMDb,...</td>\n",
       "      <td>/title/tt0169547/</td>\n",
       "      <td>Lester Burnham (Kevin Spacey) is a 42-year-old...</td>\n",
       "      <td>0.267724</td>\n",
       "      <td>0.286844</td>\n",
       "    </tr>\n",
       "    <tr>\n",
       "      <th>1205</th>\n",
       "      <td>American Beauty is the greatest movie ever mad...</td>\n",
       "      <td>/title/tt0169547/</td>\n",
       "      <td>Lester Burnham (Kevin Spacey) is a 42-year-old...</td>\n",
       "      <td>0.379869</td>\n",
       "      <td>0.416507</td>\n",
       "    </tr>\n",
       "    <tr>\n",
       "      <th>1206</th>\n",
       "      <td>And there were a lot of great ones this year. ...</td>\n",
       "      <td>/title/tt0169547/</td>\n",
       "      <td>Lester Burnham (Kevin Spacey) is a 42-year-old...</td>\n",
       "      <td>0.190048</td>\n",
       "      <td>0.271394</td>\n",
       "    </tr>\n",
       "  </tbody>\n",
       "</table>\n",
       "<p>1207 rows × 5 columns</p>\n",
       "</div>"
      ],
      "text/plain": [
       "                                                Reviews              Title  \\\n",
       "0     The Shawshank Redemption is written and direct...  /title/tt0111161/   \n",
       "1     In its Oscar year, Shawshank Redemption (writt...  /title/tt0111161/   \n",
       "2     Based on a novella by Stephen King, this is be...  /title/tt0111161/   \n",
       "3     The Shawshank Redemption is without a doubt on...  /title/tt0111161/   \n",
       "4     None of the usual otherworld creatures that po...  /title/tt0111161/   \n",
       "...                                                 ...                ...   \n",
       "1202  Why don't we live in Westport!, My wife is the...  /title/tt0169547/   \n",
       "1203  What I learned from American beauty: 1. Smokin...  /title/tt0169547/   \n",
       "1204  Of the 250+ films I've seen and rated on IMDb,...  /title/tt0169547/   \n",
       "1205  American Beauty is the greatest movie ever mad...  /title/tt0169547/   \n",
       "1206  And there were a lot of great ones this year. ...  /title/tt0169547/   \n",
       "\n",
       "                                               Synopsis  Cosine_Similarity  \\\n",
       "0     In 1947, Andy Dufresne ( Tim Robbins ), a bank...           0.452051   \n",
       "1     In 1947, Andy Dufresne ( Tim Robbins ), a bank...           0.437792   \n",
       "2     In 1947, Andy Dufresne ( Tim Robbins ), a bank...           0.205656   \n",
       "3     In 1947, Andy Dufresne ( Tim Robbins ), a bank...           0.431378   \n",
       "4     In 1947, Andy Dufresne ( Tim Robbins ), a bank...           0.352788   \n",
       "...                                                 ...                ...   \n",
       "1202  Lester Burnham (Kevin Spacey) is a 42-year-old...           0.112705   \n",
       "1203  Lester Burnham (Kevin Spacey) is a 42-year-old...           0.119354   \n",
       "1204  Lester Burnham (Kevin Spacey) is a 42-year-old...           0.267724   \n",
       "1205  Lester Burnham (Kevin Spacey) is a 42-year-old...           0.379869   \n",
       "1206  Lester Burnham (Kevin Spacey) is a 42-year-old...           0.190048   \n",
       "\n",
       "      doc_similarity  \n",
       "0           0.436470  \n",
       "1           0.355432  \n",
       "2           0.320277  \n",
       "3           0.313466  \n",
       "4           0.464498  \n",
       "...              ...  \n",
       "1202        0.349289  \n",
       "1203        0.337446  \n",
       "1204        0.286844  \n",
       "1205        0.416507  \n",
       "1206        0.271394  \n",
       "\n",
       "[1207 rows x 5 columns]"
      ]
     },
     "execution_count": 57,
     "metadata": {},
     "output_type": "execute_result"
    }
   ],
   "source": [
    "spoilers_final"
   ]
  },
  {
   "cell_type": "code",
   "execution_count": 37,
   "id": "ec95a282",
   "metadata": {},
   "outputs": [],
   "source": [
    "#non spoiler"
   ]
  },
  {
   "cell_type": "code",
   "execution_count": 38,
   "id": "23001eec",
   "metadata": {},
   "outputs": [],
   "source": [
    "text_matrix3 = tfidf.fit_transform(non_spoiler_final['Reviews'].values.astype('U'))\n",
    "text_matrix4 = tfidf.transform(non_spoiler_final['Synopsis'].values.astype('U'))"
   ]
  },
  {
   "cell_type": "code",
   "execution_count": 39,
   "id": "da1a6d46",
   "metadata": {},
   "outputs": [],
   "source": [
    "similarity_matrix = cosine_similarity(text_matrix3, text_matrix4)\n"
   ]
  },
  {
   "cell_type": "code",
   "execution_count": 40,
   "id": "fde505ab",
   "metadata": {},
   "outputs": [],
   "source": [
    "non_spoiler_final['Cosine_Similarity'] = similarity_matrix.diagonal()\n"
   ]
  },
  {
   "cell_type": "code",
   "execution_count": 41,
   "id": "ac2ad427",
   "metadata": {},
   "outputs": [
    {
     "data": {
      "text/plain": [
       "count    3790.000000\n",
       "mean        0.253450\n",
       "std         0.134210\n",
       "min         0.000000\n",
       "25%         0.145328\n",
       "50%         0.230399\n",
       "75%         0.343198\n",
       "max         0.727958\n",
       "Name: Cosine_Similarity, dtype: float64"
      ]
     },
     "execution_count": 41,
     "metadata": {},
     "output_type": "execute_result"
    }
   ],
   "source": [
    "non_spoiler_final['Cosine_Similarity'].describe()"
   ]
  },
  {
   "cell_type": "code",
   "execution_count": 42,
   "id": "5e084857",
   "metadata": {
    "scrolled": true
   },
   "outputs": [
    {
     "data": {
      "text/plain": [
       "1559"
      ]
     },
     "execution_count": 42,
     "metadata": {},
     "output_type": "execute_result"
    }
   ],
   "source": [
    "non_spoiler_final['Cosine_Similarity'].argmax()"
   ]
  },
  {
   "cell_type": "code",
   "execution_count": 43,
   "id": "a751f26d",
   "metadata": {},
   "outputs": [
    {
     "name": "stdout",
     "output_type": "stream",
     "text": [
      "Normally when people tell you about a sequel that was better than the original or just as good, Terminator 2 is always guaranteed to be in their list; why? Because this is THE action movie of all action movies, next to Die Hard, this is the movie that isn't just about the action as well, but has an incredible story and message behind it that will always stay with you. Terminator 2 like the first Terminator film has memorable lines, moments, and incredible effects. This is the film that made you believe in \"liquid metal\" machines. Robert Patrick's performance is flawless, to be honest I found him a million times more terrifying than Arnold in the first Terminator, because Robert looks like this normal average guy, but he's not like Arnold where he gets shot and you can clearly see he's a terminator, Robert goes back to human looking and won't stop. Not only that you don't know how to stop him. Linda Hamilton returns and gives a great performance as Sarah Conor who is no longer a meek little girl, she has turned into a strong woman who will do anything to protect her son and the future. Arnold is back and he's better then ever! No wonder in the future they made several terminators that look like him, he's great entertainment. Eleven years after Sarah Connor destroyed the original Terminator that was programmed to kill her, two Terminators arrive in Los Angeles from the year 2029. The first is a Terminator identical to the one that Sarah first encountered, while the second is a new model which assumes the identity of a police officer. John Connor is now a 10 year old living with foster parents. Sarah's experiences have made her tougher and more vigilant, but also desperate to warn humanity about the coming apocalypse. After attempting to bomb a computer factory, Sarah is arrested and remanded to the Pescadero State Hospital for the Criminally Insane under the supervision of Dr. Silberman. Meanwhile, the Terminators locate John Connor in a mall. After John is rescued and a chase through the L.A. storm drain channels, the original Terminator escapes with John on his motorcycle. The Terminator explains that he is reprogrammed by the future John Connor to protect and obey John's younger self. The other Terminator is a T-1000, an advanced new prototype programmed to kill John. It is made of \"a mimetic polyalloy\", a liquid metal that allows it to take the shape and appearance of anything it touches. It can also form into knifes and stabbing weapons. Learning that the T-1000 will likely kill Sarah and then mimic her to lure John, John orders the Terminator to help free her. Initially, Sarah is terrified by the Terminator; but after seeing it fight off the T-1000, she accepts that they need its help. As they escape the city, the Terminator informs John and Sarah about Skynet, the sentient computer system that will nearly wipe out humanity in an apocalyptic nuclear attack on \"Judgment Day\". Terminator 2 is one of the best films of all time, this is a film that I absolutely adore and if someone hasn't seen it, there's something seriously wrong. This story is a special one: humans, are we our own worst enemy? Arnold's line \"It's in your nature to destroy yourselves\" is something that always sends chills down my spine because it's true. I loved the relationship between Arnold and Eddie Furlong, interesting to see a terminator take the place perfectly of a father and you see the pain in Eddie's eyes of never wanting to let go of the terminator. Like Sarah Conor said The terminator wouldn't stop, it would never leave him. It would never hurt him or shout at him or get drunk and hit him or say it was too busy to spend time with him. And it would die to protect him.\" meant a lot to me. Like I said, if for some odd reason you have seen this movie, do see it! I promise you that it's just an excellent film and one that will always stand out against cinematic history. 10/10\n"
     ]
    }
   ],
   "source": [
    "for i in non_spoiler_final.iloc[1559]:\n",
    "    print(i)\n",
    "    break\n",
    "    "
   ]
  },
  {
   "cell_type": "code",
   "execution_count": 44,
   "id": "b465f851",
   "metadata": {},
   "outputs": [],
   "source": [
    "#doc2vec"
   ]
  },
  {
   "cell_type": "code",
   "execution_count": 45,
   "id": "012740aa",
   "metadata": {},
   "outputs": [],
   "source": [
    "#spoilers data"
   ]
  },
  {
   "cell_type": "code",
   "execution_count": 46,
   "id": "5a1c3838",
   "metadata": {},
   "outputs": [],
   "source": [
    "from gensim.models.doc2vec import Doc2Vec, TaggedDocument"
   ]
  },
  {
   "cell_type": "code",
   "execution_count": 47,
   "id": "d459617a",
   "metadata": {},
   "outputs": [],
   "source": [
    "texts = spoilers_final[\"Reviews\"].tolist() + spoilers_final[\"Synopsis\"].tolist()\n",
    "preprocessed_texts = [text.lower().split() for text in texts]"
   ]
  },
  {
   "cell_type": "code",
   "execution_count": 48,
   "id": "68be94f7",
   "metadata": {},
   "outputs": [],
   "source": [
    "documents = [TaggedDocument(doc, [i]) for i, doc in enumerate(preprocessed_texts)]\n",
    "model = Doc2Vec(documents, vector_size=100, window=5, min_count=1, epochs=50)"
   ]
  },
  {
   "cell_type": "code",
   "execution_count": 49,
   "id": "3f647495",
   "metadata": {},
   "outputs": [],
   "source": [
    "similarities = []\n",
    "for i in range(len(spoilers_final)):\n",
    "    review_vec = model.infer_vector(preprocessed_texts[i])\n",
    "    synopsis_vec = model.infer_vector(preprocessed_texts[i + len(spoilers_final)])\n",
    "    similarity = model.docvecs.similarity_unseen_docs(model, preprocessed_texts[i], preprocessed_texts[i + len(spoilers_final)], alpha=1, min_alpha=0.0001, steps=5)\n",
    "    similarities.append(similarity)\n",
    "\n",
    "# Add similarity scores as a new column to the DataFrame\n",
    "spoilers_final['doc_similarity'] = similarities"
   ]
  },
  {
   "cell_type": "code",
   "execution_count": 58,
   "id": "4d74f505",
   "metadata": {},
   "outputs": [
    {
     "data": {
      "text/html": [
       "<div>\n",
       "<style scoped>\n",
       "    .dataframe tbody tr th:only-of-type {\n",
       "        vertical-align: middle;\n",
       "    }\n",
       "\n",
       "    .dataframe tbody tr th {\n",
       "        vertical-align: top;\n",
       "    }\n",
       "\n",
       "    .dataframe thead th {\n",
       "        text-align: right;\n",
       "    }\n",
       "</style>\n",
       "<table border=\"1\" class=\"dataframe\">\n",
       "  <thead>\n",
       "    <tr style=\"text-align: right;\">\n",
       "      <th></th>\n",
       "      <th>Reviews</th>\n",
       "      <th>Title</th>\n",
       "      <th>Synopsis</th>\n",
       "      <th>Cosine_Similarity</th>\n",
       "      <th>doc_similarity</th>\n",
       "    </tr>\n",
       "  </thead>\n",
       "  <tbody>\n",
       "    <tr>\n",
       "      <th>0</th>\n",
       "      <td>The Shawshank Redemption is written and direct...</td>\n",
       "      <td>/title/tt0111161/</td>\n",
       "      <td>In 1947, Andy Dufresne ( Tim Robbins ), a bank...</td>\n",
       "      <td>0.452051</td>\n",
       "      <td>0.436470</td>\n",
       "    </tr>\n",
       "    <tr>\n",
       "      <th>1</th>\n",
       "      <td>In its Oscar year, Shawshank Redemption (writt...</td>\n",
       "      <td>/title/tt0111161/</td>\n",
       "      <td>In 1947, Andy Dufresne ( Tim Robbins ), a bank...</td>\n",
       "      <td>0.437792</td>\n",
       "      <td>0.355432</td>\n",
       "    </tr>\n",
       "    <tr>\n",
       "      <th>2</th>\n",
       "      <td>Based on a novella by Stephen King, this is be...</td>\n",
       "      <td>/title/tt0111161/</td>\n",
       "      <td>In 1947, Andy Dufresne ( Tim Robbins ), a bank...</td>\n",
       "      <td>0.205656</td>\n",
       "      <td>0.320277</td>\n",
       "    </tr>\n",
       "    <tr>\n",
       "      <th>3</th>\n",
       "      <td>The Shawshank Redemption is without a doubt on...</td>\n",
       "      <td>/title/tt0111161/</td>\n",
       "      <td>In 1947, Andy Dufresne ( Tim Robbins ), a bank...</td>\n",
       "      <td>0.431378</td>\n",
       "      <td>0.313466</td>\n",
       "    </tr>\n",
       "    <tr>\n",
       "      <th>4</th>\n",
       "      <td>None of the usual otherworld creatures that po...</td>\n",
       "      <td>/title/tt0111161/</td>\n",
       "      <td>In 1947, Andy Dufresne ( Tim Robbins ), a bank...</td>\n",
       "      <td>0.352788</td>\n",
       "      <td>0.464498</td>\n",
       "    </tr>\n",
       "  </tbody>\n",
       "</table>\n",
       "</div>"
      ],
      "text/plain": [
       "                                             Reviews              Title  \\\n",
       "0  The Shawshank Redemption is written and direct...  /title/tt0111161/   \n",
       "1  In its Oscar year, Shawshank Redemption (writt...  /title/tt0111161/   \n",
       "2  Based on a novella by Stephen King, this is be...  /title/tt0111161/   \n",
       "3  The Shawshank Redemption is without a doubt on...  /title/tt0111161/   \n",
       "4  None of the usual otherworld creatures that po...  /title/tt0111161/   \n",
       "\n",
       "                                            Synopsis  Cosine_Similarity  \\\n",
       "0  In 1947, Andy Dufresne ( Tim Robbins ), a bank...           0.452051   \n",
       "1  In 1947, Andy Dufresne ( Tim Robbins ), a bank...           0.437792   \n",
       "2  In 1947, Andy Dufresne ( Tim Robbins ), a bank...           0.205656   \n",
       "3  In 1947, Andy Dufresne ( Tim Robbins ), a bank...           0.431378   \n",
       "4  In 1947, Andy Dufresne ( Tim Robbins ), a bank...           0.352788   \n",
       "\n",
       "   doc_similarity  \n",
       "0        0.436470  \n",
       "1        0.355432  \n",
       "2        0.320277  \n",
       "3        0.313466  \n",
       "4        0.464498  "
      ]
     },
     "execution_count": 58,
     "metadata": {},
     "output_type": "execute_result"
    }
   ],
   "source": [
    "spoilers_final.head()"
   ]
  },
  {
   "cell_type": "code",
   "execution_count": 59,
   "id": "5826c439",
   "metadata": {},
   "outputs": [
    {
     "data": {
      "text/plain": [
       "129"
      ]
     },
     "execution_count": 59,
     "metadata": {},
     "output_type": "execute_result"
    }
   ],
   "source": [
    "spoilers_final.doc_similarity.argmax()"
   ]
  },
  {
   "cell_type": "code",
   "execution_count": 60,
   "id": "fffcc76e",
   "metadata": {},
   "outputs": [
    {
     "data": {
      "text/plain": [
       "Reviews              The Lord of the Rings: The Return of the King ...\n",
       "Title                                                /title/tt0167260/\n",
       "Synopsis             In the opening scene: a flashback shows two ho...\n",
       "Cosine_Similarity                                             0.697823\n",
       "doc_similarity                                                0.684038\n",
       "Name: 129, dtype: object"
      ]
     },
     "execution_count": 60,
     "metadata": {},
     "output_type": "execute_result"
    }
   ],
   "source": [
    "spoilers_final.iloc[129]"
   ]
  },
  {
   "cell_type": "code",
   "execution_count": 61,
   "id": "ad66a6a7",
   "metadata": {},
   "outputs": [
    {
     "data": {
      "text/html": [
       "<div>\n",
       "<style scoped>\n",
       "    .dataframe tbody tr th:only-of-type {\n",
       "        vertical-align: middle;\n",
       "    }\n",
       "\n",
       "    .dataframe tbody tr th {\n",
       "        vertical-align: top;\n",
       "    }\n",
       "\n",
       "    .dataframe thead th {\n",
       "        text-align: right;\n",
       "    }\n",
       "</style>\n",
       "<table border=\"1\" class=\"dataframe\">\n",
       "  <thead>\n",
       "    <tr style=\"text-align: right;\">\n",
       "      <th></th>\n",
       "      <th>Reviews</th>\n",
       "      <th>Title</th>\n",
       "      <th>Synopsis</th>\n",
       "      <th>Cosine_Similarity</th>\n",
       "      <th>doc_similarity</th>\n",
       "    </tr>\n",
       "  </thead>\n",
       "  <tbody>\n",
       "    <tr>\n",
       "      <th>0</th>\n",
       "      <td>The Shawshank Redemption is written and direct...</td>\n",
       "      <td>/title/tt0111161/</td>\n",
       "      <td>In 1947, Andy Dufresne ( Tim Robbins ), a bank...</td>\n",
       "      <td>0.452051</td>\n",
       "      <td>0.436470</td>\n",
       "    </tr>\n",
       "    <tr>\n",
       "      <th>4</th>\n",
       "      <td>None of the usual otherworld creatures that po...</td>\n",
       "      <td>/title/tt0111161/</td>\n",
       "      <td>In 1947, Andy Dufresne ( Tim Robbins ), a bank...</td>\n",
       "      <td>0.352788</td>\n",
       "      <td>0.464498</td>\n",
       "    </tr>\n",
       "    <tr>\n",
       "      <th>9</th>\n",
       "      <td>The Shawshank Redemption is written and direct...</td>\n",
       "      <td>/title/tt0111161/</td>\n",
       "      <td>In 1947, Andy Dufresne ( Tim Robbins ), a bank...</td>\n",
       "      <td>0.452051</td>\n",
       "      <td>0.453468</td>\n",
       "    </tr>\n",
       "    <tr>\n",
       "      <th>12</th>\n",
       "      <td>The Shawshank Redemption is without a doubt on...</td>\n",
       "      <td>/title/tt0111161/</td>\n",
       "      <td>In 1947, Andy Dufresne ( Tim Robbins ), a bank...</td>\n",
       "      <td>0.431378</td>\n",
       "      <td>0.434219</td>\n",
       "    </tr>\n",
       "    <tr>\n",
       "      <th>13</th>\n",
       "      <td>None of the usual otherworld creatures that po...</td>\n",
       "      <td>/title/tt0111161/</td>\n",
       "      <td>In 1947, Andy Dufresne ( Tim Robbins ), a bank...</td>\n",
       "      <td>0.352788</td>\n",
       "      <td>0.569499</td>\n",
       "    </tr>\n",
       "    <tr>\n",
       "      <th>...</th>\n",
       "      <td>...</td>\n",
       "      <td>...</td>\n",
       "      <td>...</td>\n",
       "      <td>...</td>\n",
       "      <td>...</td>\n",
       "    </tr>\n",
       "    <tr>\n",
       "      <th>1180</th>\n",
       "      <td>As much as I enjoy this movie (and as an anima...</td>\n",
       "      <td>/title/tt4633694/</td>\n",
       "      <td>This animated film starts with Peter Parker (v...</td>\n",
       "      <td>0.512315</td>\n",
       "      <td>0.433225</td>\n",
       "    </tr>\n",
       "    <tr>\n",
       "      <th>1184</th>\n",
       "      <td>The thing I hate about superhero movies is the...</td>\n",
       "      <td>/title/tt4633694/</td>\n",
       "      <td>This animated film starts with Peter Parker (v...</td>\n",
       "      <td>0.516704</td>\n",
       "      <td>0.427425</td>\n",
       "    </tr>\n",
       "    <tr>\n",
       "      <th>1189</th>\n",
       "      <td>American Beauty is the greatest movie ever mad...</td>\n",
       "      <td>/title/tt0169547/</td>\n",
       "      <td>Lester Burnham (Kevin Spacey) is a 42-year-old...</td>\n",
       "      <td>0.379869</td>\n",
       "      <td>0.444918</td>\n",
       "    </tr>\n",
       "    <tr>\n",
       "      <th>1197</th>\n",
       "      <td>American Beauty is the greatest movie ever mad...</td>\n",
       "      <td>/title/tt0169547/</td>\n",
       "      <td>Lester Burnham (Kevin Spacey) is a 42-year-old...</td>\n",
       "      <td>0.379869</td>\n",
       "      <td>0.468264</td>\n",
       "    </tr>\n",
       "    <tr>\n",
       "      <th>1205</th>\n",
       "      <td>American Beauty is the greatest movie ever mad...</td>\n",
       "      <td>/title/tt0169547/</td>\n",
       "      <td>Lester Burnham (Kevin Spacey) is a 42-year-old...</td>\n",
       "      <td>0.379869</td>\n",
       "      <td>0.416507</td>\n",
       "    </tr>\n",
       "  </tbody>\n",
       "</table>\n",
       "<p>422 rows × 5 columns</p>\n",
       "</div>"
      ],
      "text/plain": [
       "                                                Reviews              Title  \\\n",
       "0     The Shawshank Redemption is written and direct...  /title/tt0111161/   \n",
       "4     None of the usual otherworld creatures that po...  /title/tt0111161/   \n",
       "9     The Shawshank Redemption is written and direct...  /title/tt0111161/   \n",
       "12    The Shawshank Redemption is without a doubt on...  /title/tt0111161/   \n",
       "13    None of the usual otherworld creatures that po...  /title/tt0111161/   \n",
       "...                                                 ...                ...   \n",
       "1180  As much as I enjoy this movie (and as an anima...  /title/tt4633694/   \n",
       "1184  The thing I hate about superhero movies is the...  /title/tt4633694/   \n",
       "1189  American Beauty is the greatest movie ever mad...  /title/tt0169547/   \n",
       "1197  American Beauty is the greatest movie ever mad...  /title/tt0169547/   \n",
       "1205  American Beauty is the greatest movie ever mad...  /title/tt0169547/   \n",
       "\n",
       "                                               Synopsis  Cosine_Similarity  \\\n",
       "0     In 1947, Andy Dufresne ( Tim Robbins ), a bank...           0.452051   \n",
       "4     In 1947, Andy Dufresne ( Tim Robbins ), a bank...           0.352788   \n",
       "9     In 1947, Andy Dufresne ( Tim Robbins ), a bank...           0.452051   \n",
       "12    In 1947, Andy Dufresne ( Tim Robbins ), a bank...           0.431378   \n",
       "13    In 1947, Andy Dufresne ( Tim Robbins ), a bank...           0.352788   \n",
       "...                                                 ...                ...   \n",
       "1180  This animated film starts with Peter Parker (v...           0.512315   \n",
       "1184  This animated film starts with Peter Parker (v...           0.516704   \n",
       "1189  Lester Burnham (Kevin Spacey) is a 42-year-old...           0.379869   \n",
       "1197  Lester Burnham (Kevin Spacey) is a 42-year-old...           0.379869   \n",
       "1205  Lester Burnham (Kevin Spacey) is a 42-year-old...           0.379869   \n",
       "\n",
       "      doc_similarity  \n",
       "0           0.436470  \n",
       "4           0.464498  \n",
       "9           0.453468  \n",
       "12          0.434219  \n",
       "13          0.569499  \n",
       "...              ...  \n",
       "1180        0.433225  \n",
       "1184        0.427425  \n",
       "1189        0.444918  \n",
       "1197        0.468264  \n",
       "1205        0.416507  \n",
       "\n",
       "[422 rows x 5 columns]"
      ]
     },
     "execution_count": 61,
     "metadata": {},
     "output_type": "execute_result"
    }
   ],
   "source": [
    "spoilers_final[spoilers_final.doc_similarity>0.40]"
   ]
  },
  {
   "cell_type": "code",
   "execution_count": 62,
   "id": "e9d113ce",
   "metadata": {},
   "outputs": [],
   "source": [
    "#non spoiler data"
   ]
  },
  {
   "cell_type": "code",
   "execution_count": 63,
   "id": "3a9551de",
   "metadata": {},
   "outputs": [],
   "source": [
    "texts = non_spoiler_final[\"Reviews\"].tolist() + non_spoiler_final[\"Synopsis\"].tolist()\n",
    "preprocessed_texts = [text.lower().split() for text in texts]"
   ]
  },
  {
   "cell_type": "code",
   "execution_count": 64,
   "id": "424ba0bd",
   "metadata": {},
   "outputs": [],
   "source": [
    "documents = [TaggedDocument(doc, [i]) for i, doc in enumerate(preprocessed_texts)]\n",
    "model = Doc2Vec(documents, vector_size=100, window=5, min_count=1, epochs=50)"
   ]
  },
  {
   "cell_type": "code",
   "execution_count": 65,
   "id": "54ac5779",
   "metadata": {},
   "outputs": [],
   "source": [
    "similarities = []\n",
    "for i in range(len(non_spoiler_final)):\n",
    "    review_vec = model.infer_vector(preprocessed_texts[i])\n",
    "    synopsis_vec = model.infer_vector(preprocessed_texts[i + len(non_spoiler_final)])\n",
    "    similarity = model.docvecs.similarity_unseen_docs(model, preprocessed_texts[i], preprocessed_texts[i + len(non_spoiler_final)], alpha=1, min_alpha=0.0001, steps=5)\n",
    "    similarities.append(similarity)\n",
    "\n",
    "# Add similarity scores as a new column to the DataFrame\n",
    "non_spoiler_final['doc_similarity'] = similarities"
   ]
  },
  {
   "cell_type": "code",
   "execution_count": 66,
   "id": "b73c86ce",
   "metadata": {},
   "outputs": [
    {
     "data": {
      "text/html": [
       "<div>\n",
       "<style scoped>\n",
       "    .dataframe tbody tr th:only-of-type {\n",
       "        vertical-align: middle;\n",
       "    }\n",
       "\n",
       "    .dataframe tbody tr th {\n",
       "        vertical-align: top;\n",
       "    }\n",
       "\n",
       "    .dataframe thead th {\n",
       "        text-align: right;\n",
       "    }\n",
       "</style>\n",
       "<table border=\"1\" class=\"dataframe\">\n",
       "  <thead>\n",
       "    <tr style=\"text-align: right;\">\n",
       "      <th></th>\n",
       "      <th>Reviews</th>\n",
       "      <th>Title</th>\n",
       "      <th>Synopsis</th>\n",
       "      <th>Cosine_Similarity</th>\n",
       "      <th>doc_similarity</th>\n",
       "    </tr>\n",
       "  </thead>\n",
       "  <tbody>\n",
       "    <tr>\n",
       "      <th>0</th>\n",
       "      <td>It is no wonder that the film has such a high ...</td>\n",
       "      <td>/title/tt0111161/</td>\n",
       "      <td>In 1947, Andy Dufresne ( Tim Robbins ), a bank...</td>\n",
       "      <td>0.139889</td>\n",
       "      <td>0.202139</td>\n",
       "    </tr>\n",
       "    <tr>\n",
       "      <th>1</th>\n",
       "      <td>I'm trying to save you money; this is the last...</td>\n",
       "      <td>/title/tt0111161/</td>\n",
       "      <td>In 1947, Andy Dufresne ( Tim Robbins ), a bank...</td>\n",
       "      <td>0.284965</td>\n",
       "      <td>0.372835</td>\n",
       "    </tr>\n",
       "    <tr>\n",
       "      <th>2</th>\n",
       "      <td>This movie is not your ordinary Hollywood flic...</td>\n",
       "      <td>/title/tt0111161/</td>\n",
       "      <td>In 1947, Andy Dufresne ( Tim Robbins ), a bank...</td>\n",
       "      <td>0.458681</td>\n",
       "      <td>0.321482</td>\n",
       "    </tr>\n",
       "    <tr>\n",
       "      <th>3</th>\n",
       "      <td>One of the finest films made in recent years. ...</td>\n",
       "      <td>/title/tt0111161/</td>\n",
       "      <td>In 1947, Andy Dufresne ( Tim Robbins ), a bank...</td>\n",
       "      <td>0.196977</td>\n",
       "      <td>0.108079</td>\n",
       "    </tr>\n",
       "    <tr>\n",
       "      <th>4</th>\n",
       "      <td>Misery and Stand By Me were the best adaptatio...</td>\n",
       "      <td>/title/tt0111161/</td>\n",
       "      <td>In 1947, Andy Dufresne ( Tim Robbins ), a bank...</td>\n",
       "      <td>0.305570</td>\n",
       "      <td>0.310521</td>\n",
       "    </tr>\n",
       "  </tbody>\n",
       "</table>\n",
       "</div>"
      ],
      "text/plain": [
       "                                             Reviews              Title  \\\n",
       "0  It is no wonder that the film has such a high ...  /title/tt0111161/   \n",
       "1  I'm trying to save you money; this is the last...  /title/tt0111161/   \n",
       "2  This movie is not your ordinary Hollywood flic...  /title/tt0111161/   \n",
       "3  One of the finest films made in recent years. ...  /title/tt0111161/   \n",
       "4  Misery and Stand By Me were the best adaptatio...  /title/tt0111161/   \n",
       "\n",
       "                                            Synopsis  Cosine_Similarity  \\\n",
       "0  In 1947, Andy Dufresne ( Tim Robbins ), a bank...           0.139889   \n",
       "1  In 1947, Andy Dufresne ( Tim Robbins ), a bank...           0.284965   \n",
       "2  In 1947, Andy Dufresne ( Tim Robbins ), a bank...           0.458681   \n",
       "3  In 1947, Andy Dufresne ( Tim Robbins ), a bank...           0.196977   \n",
       "4  In 1947, Andy Dufresne ( Tim Robbins ), a bank...           0.305570   \n",
       "\n",
       "   doc_similarity  \n",
       "0        0.202139  \n",
       "1        0.372835  \n",
       "2        0.321482  \n",
       "3        0.108079  \n",
       "4        0.310521  "
      ]
     },
     "execution_count": 66,
     "metadata": {},
     "output_type": "execute_result"
    }
   ],
   "source": [
    "non_spoiler_final.head()"
   ]
  },
  {
   "cell_type": "code",
   "execution_count": 67,
   "id": "ea20bd51",
   "metadata": {},
   "outputs": [
    {
     "data": {
      "text/html": [
       "<div>\n",
       "<style scoped>\n",
       "    .dataframe tbody tr th:only-of-type {\n",
       "        vertical-align: middle;\n",
       "    }\n",
       "\n",
       "    .dataframe tbody tr th {\n",
       "        vertical-align: top;\n",
       "    }\n",
       "\n",
       "    .dataframe thead th {\n",
       "        text-align: right;\n",
       "    }\n",
       "</style>\n",
       "<table border=\"1\" class=\"dataframe\">\n",
       "  <thead>\n",
       "    <tr style=\"text-align: right;\">\n",
       "      <th></th>\n",
       "      <th>Reviews</th>\n",
       "      <th>Title</th>\n",
       "      <th>Synopsis</th>\n",
       "      <th>Cosine_Similarity</th>\n",
       "      <th>doc_similarity</th>\n",
       "    </tr>\n",
       "  </thead>\n",
       "  <tbody>\n",
       "    <tr>\n",
       "      <th>13</th>\n",
       "      <td>\"The Shawshank Redemption\" should have won Bes...</td>\n",
       "      <td>/title/tt0111161/</td>\n",
       "      <td>In 1947, Andy Dufresne ( Tim Robbins ), a bank...</td>\n",
       "      <td>0.462606</td>\n",
       "      <td>0.423698</td>\n",
       "    </tr>\n",
       "    <tr>\n",
       "      <th>47</th>\n",
       "      <td>The story of this film takes place over a twen...</td>\n",
       "      <td>/title/tt0111161/</td>\n",
       "      <td>In 1947, Andy Dufresne ( Tim Robbins ), a bank...</td>\n",
       "      <td>0.680031</td>\n",
       "      <td>0.464823</td>\n",
       "    </tr>\n",
       "    <tr>\n",
       "      <th>48</th>\n",
       "      <td>It is now past 1 PM and I just finished watchi...</td>\n",
       "      <td>/title/tt0068646/</td>\n",
       "      <td>In late summer 1945, guests are gathered for t...</td>\n",
       "      <td>0.379326</td>\n",
       "      <td>0.418883</td>\n",
       "    </tr>\n",
       "    <tr>\n",
       "      <th>76</th>\n",
       "      <td>My nephew who is all of 17 told me in no uncer...</td>\n",
       "      <td>/title/tt0068646/</td>\n",
       "      <td>In late summer 1945, guests are gathered for t...</td>\n",
       "      <td>0.415246</td>\n",
       "      <td>0.417905</td>\n",
       "    </tr>\n",
       "    <tr>\n",
       "      <th>140</th>\n",
       "      <td>I used to leave a theatre after seeing a highl...</td>\n",
       "      <td>/title/tt0468569/</td>\n",
       "      <td>The movie begins with a gang of men with clown...</td>\n",
       "      <td>0.470816</td>\n",
       "      <td>0.405665</td>\n",
       "    </tr>\n",
       "    <tr>\n",
       "      <th>...</th>\n",
       "      <td>...</td>\n",
       "      <td>...</td>\n",
       "      <td>...</td>\n",
       "      <td>...</td>\n",
       "      <td>...</td>\n",
       "    </tr>\n",
       "    <tr>\n",
       "      <th>3649</th>\n",
       "      <td>Series note: It is strongly advised that you w...</td>\n",
       "      <td>/title/tt0090605/</td>\n",
       "      <td>After the opening credits, we see a spacecraft...</td>\n",
       "      <td>0.476635</td>\n",
       "      <td>0.442713</td>\n",
       "    </tr>\n",
       "    <tr>\n",
       "      <th>3656</th>\n",
       "      <td>What more can be said that hasn't been said be...</td>\n",
       "      <td>/title/tt0090605/</td>\n",
       "      <td>After the opening credits, we see a spacecraft...</td>\n",
       "      <td>0.355129</td>\n",
       "      <td>0.426704</td>\n",
       "    </tr>\n",
       "    <tr>\n",
       "      <th>3670</th>\n",
       "      <td>Series note: It is strongly advised that you w...</td>\n",
       "      <td>/title/tt0090605/</td>\n",
       "      <td>After the opening credits, we see a spacecraft...</td>\n",
       "      <td>0.476635</td>\n",
       "      <td>0.463593</td>\n",
       "    </tr>\n",
       "    <tr>\n",
       "      <th>3674</th>\n",
       "      <td>I first saw this in the late 80s on a vhs. Rev...</td>\n",
       "      <td>/title/tt0090605/</td>\n",
       "      <td>After the opening credits, we see a spacecraft...</td>\n",
       "      <td>0.089462</td>\n",
       "      <td>0.489831</td>\n",
       "    </tr>\n",
       "    <tr>\n",
       "      <th>3748</th>\n",
       "      <td>Amazing movie. Great animation, the best Spide...</td>\n",
       "      <td>/title/tt4633694/</td>\n",
       "      <td>This animated film starts with Peter Parker (v...</td>\n",
       "      <td>0.205503</td>\n",
       "      <td>0.425808</td>\n",
       "    </tr>\n",
       "  </tbody>\n",
       "</table>\n",
       "<p>154 rows × 5 columns</p>\n",
       "</div>"
      ],
      "text/plain": [
       "                                                Reviews              Title  \\\n",
       "13    \"The Shawshank Redemption\" should have won Bes...  /title/tt0111161/   \n",
       "47    The story of this film takes place over a twen...  /title/tt0111161/   \n",
       "48    It is now past 1 PM and I just finished watchi...  /title/tt0068646/   \n",
       "76    My nephew who is all of 17 told me in no uncer...  /title/tt0068646/   \n",
       "140   I used to leave a theatre after seeing a highl...  /title/tt0468569/   \n",
       "...                                                 ...                ...   \n",
       "3649  Series note: It is strongly advised that you w...  /title/tt0090605/   \n",
       "3656  What more can be said that hasn't been said be...  /title/tt0090605/   \n",
       "3670  Series note: It is strongly advised that you w...  /title/tt0090605/   \n",
       "3674  I first saw this in the late 80s on a vhs. Rev...  /title/tt0090605/   \n",
       "3748  Amazing movie. Great animation, the best Spide...  /title/tt4633694/   \n",
       "\n",
       "                                               Synopsis  Cosine_Similarity  \\\n",
       "13    In 1947, Andy Dufresne ( Tim Robbins ), a bank...           0.462606   \n",
       "47    In 1947, Andy Dufresne ( Tim Robbins ), a bank...           0.680031   \n",
       "48    In late summer 1945, guests are gathered for t...           0.379326   \n",
       "76    In late summer 1945, guests are gathered for t...           0.415246   \n",
       "140   The movie begins with a gang of men with clown...           0.470816   \n",
       "...                                                 ...                ...   \n",
       "3649  After the opening credits, we see a spacecraft...           0.476635   \n",
       "3656  After the opening credits, we see a spacecraft...           0.355129   \n",
       "3670  After the opening credits, we see a spacecraft...           0.476635   \n",
       "3674  After the opening credits, we see a spacecraft...           0.089462   \n",
       "3748  This animated film starts with Peter Parker (v...           0.205503   \n",
       "\n",
       "      doc_similarity  \n",
       "13          0.423698  \n",
       "47          0.464823  \n",
       "48          0.418883  \n",
       "76          0.417905  \n",
       "140         0.405665  \n",
       "...              ...  \n",
       "3649        0.442713  \n",
       "3656        0.426704  \n",
       "3670        0.463593  \n",
       "3674        0.489831  \n",
       "3748        0.425808  \n",
       "\n",
       "[154 rows x 5 columns]"
      ]
     },
     "execution_count": 67,
     "metadata": {},
     "output_type": "execute_result"
    }
   ],
   "source": [
    "non_spoiler_final[non_spoiler_final[\"doc_similarity\"]>0.40]"
   ]
  },
  {
   "cell_type": "code",
   "execution_count": 68,
   "id": "fee87f52",
   "metadata": {},
   "outputs": [
    {
     "data": {
      "text/plain": [
       "3079"
      ]
     },
     "execution_count": 68,
     "metadata": {},
     "output_type": "execute_result"
    }
   ],
   "source": [
    "non_spoiler_final.doc_similarity.argmax()"
   ]
  },
  {
   "cell_type": "code",
   "execution_count": 69,
   "id": "4b4e546c",
   "metadata": {},
   "outputs": [
    {
     "data": {
      "text/plain": [
       "Reviews              After a bloodbath and fire on a moored ship on...\n",
       "Title                                                /title/tt0114814/\n",
       "Synopsis             On the deck of a ship in San Pedro, California...\n",
       "Cosine_Similarity                                              0.58157\n",
       "doc_similarity                                                0.406586\n",
       "Name: 2212, dtype: object"
      ]
     },
     "execution_count": 69,
     "metadata": {},
     "output_type": "execute_result"
    }
   ],
   "source": [
    "non_spoiler_final.iloc[2212]"
   ]
  },
  {
   "cell_type": "code",
   "execution_count": 70,
   "id": "89469a22",
   "metadata": {},
   "outputs": [
    {
     "data": {
      "text/html": [
       "<div>\n",
       "<style scoped>\n",
       "    .dataframe tbody tr th:only-of-type {\n",
       "        vertical-align: middle;\n",
       "    }\n",
       "\n",
       "    .dataframe tbody tr th {\n",
       "        vertical-align: top;\n",
       "    }\n",
       "\n",
       "    .dataframe thead th {\n",
       "        text-align: right;\n",
       "    }\n",
       "</style>\n",
       "<table border=\"1\" class=\"dataframe\">\n",
       "  <thead>\n",
       "    <tr style=\"text-align: right;\">\n",
       "      <th></th>\n",
       "      <th>Reviews</th>\n",
       "      <th>Title</th>\n",
       "      <th>Synopsis</th>\n",
       "      <th>Cosine_Similarity</th>\n",
       "      <th>doc_similarity</th>\n",
       "    </tr>\n",
       "  </thead>\n",
       "  <tbody>\n",
       "    <tr>\n",
       "      <th>1</th>\n",
       "      <td>I'm trying to save you money; this is the last...</td>\n",
       "      <td>/title/tt0111161/</td>\n",
       "      <td>In 1947, Andy Dufresne ( Tim Robbins ), a bank...</td>\n",
       "      <td>0.284965</td>\n",
       "      <td>0.372835</td>\n",
       "    </tr>\n",
       "    <tr>\n",
       "      <th>2</th>\n",
       "      <td>This movie is not your ordinary Hollywood flic...</td>\n",
       "      <td>/title/tt0111161/</td>\n",
       "      <td>In 1947, Andy Dufresne ( Tim Robbins ), a bank...</td>\n",
       "      <td>0.458681</td>\n",
       "      <td>0.321482</td>\n",
       "    </tr>\n",
       "    <tr>\n",
       "      <th>4</th>\n",
       "      <td>Misery and Stand By Me were the best adaptatio...</td>\n",
       "      <td>/title/tt0111161/</td>\n",
       "      <td>In 1947, Andy Dufresne ( Tim Robbins ), a bank...</td>\n",
       "      <td>0.305570</td>\n",
       "      <td>0.310521</td>\n",
       "    </tr>\n",
       "    <tr>\n",
       "      <th>7</th>\n",
       "      <td>The best movie in history and the best ending ...</td>\n",
       "      <td>/title/tt0111161/</td>\n",
       "      <td>In 1947, Andy Dufresne ( Tim Robbins ), a bank...</td>\n",
       "      <td>0.088396</td>\n",
       "      <td>0.258090</td>\n",
       "    </tr>\n",
       "    <tr>\n",
       "      <th>11</th>\n",
       "      <td>Can Hollywood, usually creating things for ent...</td>\n",
       "      <td>/title/tt0111161/</td>\n",
       "      <td>In 1947, Andy Dufresne ( Tim Robbins ), a bank...</td>\n",
       "      <td>0.399542</td>\n",
       "      <td>0.257781</td>\n",
       "    </tr>\n",
       "    <tr>\n",
       "      <th>...</th>\n",
       "      <td>...</td>\n",
       "      <td>...</td>\n",
       "      <td>...</td>\n",
       "      <td>...</td>\n",
       "      <td>...</td>\n",
       "    </tr>\n",
       "    <tr>\n",
       "      <th>3778</th>\n",
       "      <td>I first saw this in theaters back in 1999. I l...</td>\n",
       "      <td>/title/tt0169547/</td>\n",
       "      <td>Lester Burnham (Kevin Spacey) is a 42-year-old...</td>\n",
       "      <td>0.563875</td>\n",
       "      <td>0.255717</td>\n",
       "    </tr>\n",
       "    <tr>\n",
       "      <th>3780</th>\n",
       "      <td>Lester Burnham (Kevin Spacey), 42, has spent y...</td>\n",
       "      <td>/title/tt0169547/</td>\n",
       "      <td>Lester Burnham (Kevin Spacey) is a 42-year-old...</td>\n",
       "      <td>0.348117</td>\n",
       "      <td>0.297677</td>\n",
       "    </tr>\n",
       "    <tr>\n",
       "      <th>3783</th>\n",
       "      <td>This is by far one of the best, if not THE, mo...</td>\n",
       "      <td>/title/tt0169547/</td>\n",
       "      <td>Lester Burnham (Kevin Spacey) is a 42-year-old...</td>\n",
       "      <td>0.502960</td>\n",
       "      <td>0.302877</td>\n",
       "    </tr>\n",
       "    <tr>\n",
       "      <th>3786</th>\n",
       "      <td>Probably the best film of 1999. This dark come...</td>\n",
       "      <td>/title/tt0169547/</td>\n",
       "      <td>Lester Burnham (Kevin Spacey) is a 42-year-old...</td>\n",
       "      <td>0.259557</td>\n",
       "      <td>0.387862</td>\n",
       "    </tr>\n",
       "    <tr>\n",
       "      <th>3788</th>\n",
       "      <td>This movie was a joy to watch. I didn't know w...</td>\n",
       "      <td>/title/tt0169547/</td>\n",
       "      <td>Lester Burnham (Kevin Spacey) is a 42-year-old...</td>\n",
       "      <td>0.205153</td>\n",
       "      <td>0.251880</td>\n",
       "    </tr>\n",
       "  </tbody>\n",
       "</table>\n",
       "<p>1768 rows × 5 columns</p>\n",
       "</div>"
      ],
      "text/plain": [
       "                                                Reviews              Title  \\\n",
       "1     I'm trying to save you money; this is the last...  /title/tt0111161/   \n",
       "2     This movie is not your ordinary Hollywood flic...  /title/tt0111161/   \n",
       "4     Misery and Stand By Me were the best adaptatio...  /title/tt0111161/   \n",
       "7     The best movie in history and the best ending ...  /title/tt0111161/   \n",
       "11    Can Hollywood, usually creating things for ent...  /title/tt0111161/   \n",
       "...                                                 ...                ...   \n",
       "3778  I first saw this in theaters back in 1999. I l...  /title/tt0169547/   \n",
       "3780  Lester Burnham (Kevin Spacey), 42, has spent y...  /title/tt0169547/   \n",
       "3783  This is by far one of the best, if not THE, mo...  /title/tt0169547/   \n",
       "3786  Probably the best film of 1999. This dark come...  /title/tt0169547/   \n",
       "3788  This movie was a joy to watch. I didn't know w...  /title/tt0169547/   \n",
       "\n",
       "                                               Synopsis  Cosine_Similarity  \\\n",
       "1     In 1947, Andy Dufresne ( Tim Robbins ), a bank...           0.284965   \n",
       "2     In 1947, Andy Dufresne ( Tim Robbins ), a bank...           0.458681   \n",
       "4     In 1947, Andy Dufresne ( Tim Robbins ), a bank...           0.305570   \n",
       "7     In 1947, Andy Dufresne ( Tim Robbins ), a bank...           0.088396   \n",
       "11    In 1947, Andy Dufresne ( Tim Robbins ), a bank...           0.399542   \n",
       "...                                                 ...                ...   \n",
       "3778  Lester Burnham (Kevin Spacey) is a 42-year-old...           0.563875   \n",
       "3780  Lester Burnham (Kevin Spacey) is a 42-year-old...           0.348117   \n",
       "3783  Lester Burnham (Kevin Spacey) is a 42-year-old...           0.502960   \n",
       "3786  Lester Burnham (Kevin Spacey) is a 42-year-old...           0.259557   \n",
       "3788  Lester Burnham (Kevin Spacey) is a 42-year-old...           0.205153   \n",
       "\n",
       "      doc_similarity  \n",
       "1           0.372835  \n",
       "2           0.321482  \n",
       "4           0.310521  \n",
       "7           0.258090  \n",
       "11          0.257781  \n",
       "...              ...  \n",
       "3778        0.255717  \n",
       "3780        0.297677  \n",
       "3783        0.302877  \n",
       "3786        0.387862  \n",
       "3788        0.251880  \n",
       "\n",
       "[1768 rows x 5 columns]"
      ]
     },
     "execution_count": 70,
     "metadata": {},
     "output_type": "execute_result"
    }
   ],
   "source": [
    "non_spoiler_final[non_spoiler_final.doc_similarity>0.25]"
   ]
  },
  {
   "cell_type": "code",
   "execution_count": 75,
   "id": "5f3e9ee9",
   "metadata": {},
   "outputs": [],
   "source": [
    "#outliers"
   ]
  },
  {
   "cell_type": "code",
   "execution_count": 77,
   "id": "f5bd04d7",
   "metadata": {},
   "outputs": [],
   "source": [
    "#spoiler"
   ]
  },
  {
   "cell_type": "code",
   "execution_count": 73,
   "id": "e2585258",
   "metadata": {},
   "outputs": [
    {
     "data": {
      "text/html": [
       "<div>\n",
       "<style scoped>\n",
       "    .dataframe tbody tr th:only-of-type {\n",
       "        vertical-align: middle;\n",
       "    }\n",
       "\n",
       "    .dataframe tbody tr th {\n",
       "        vertical-align: top;\n",
       "    }\n",
       "\n",
       "    .dataframe thead th {\n",
       "        text-align: right;\n",
       "    }\n",
       "</style>\n",
       "<table border=\"1\" class=\"dataframe\">\n",
       "  <thead>\n",
       "    <tr style=\"text-align: right;\">\n",
       "      <th></th>\n",
       "      <th>Reviews</th>\n",
       "      <th>Title</th>\n",
       "      <th>Synopsis</th>\n",
       "      <th>Cosine_Similarity</th>\n",
       "      <th>doc_similarity</th>\n",
       "    </tr>\n",
       "  </thead>\n",
       "  <tbody>\n",
       "    <tr>\n",
       "      <th>116</th>\n",
       "      <td>To all the ppl on the 1st four review pages, u...</td>\n",
       "      <td>/title/tt0108052/</td>\n",
       "      <td>The relocation of Polish Jews from surrounding...</td>\n",
       "      <td>0.221232</td>\n",
       "      <td>0.068011</td>\n",
       "    </tr>\n",
       "    <tr>\n",
       "      <th>344</th>\n",
       "      <td>Spoilers herein. Competent filmmakers are rare...</td>\n",
       "      <td>/title/tt0099685/</td>\n",
       "      <td>The film opens with three men driving in their...</td>\n",
       "      <td>0.220938</td>\n",
       "      <td>0.065175</td>\n",
       "    </tr>\n",
       "    <tr>\n",
       "      <th>854</th>\n",
       "      <td>There's two things that stand out to me always...</td>\n",
       "      <td>/title/tt0064116/</td>\n",
       "      <td>In the desert Southwest of America during the ...</td>\n",
       "      <td>0.261914</td>\n",
       "      <td>0.088917</td>\n",
       "    </tr>\n",
       "    <tr>\n",
       "      <th>1022</th>\n",
       "      <td>\"Wall-E\" along with \"Up\" must be one of the be...</td>\n",
       "      <td>/title/tt0910970/</td>\n",
       "      <td>A Dystopia in the Future Approximately seven h...</td>\n",
       "      <td>0.362451</td>\n",
       "      <td>0.092950</td>\n",
       "    </tr>\n",
       "    <tr>\n",
       "      <th>1158</th>\n",
       "      <td>It's hard to imagine how Dame Agatha could hav...</td>\n",
       "      <td>/title/tt0051201/</td>\n",
       "      <td>A few years after War War II, in London, Leona...</td>\n",
       "      <td>0.147858</td>\n",
       "      <td>0.073731</td>\n",
       "    </tr>\n",
       "  </tbody>\n",
       "</table>\n",
       "</div>"
      ],
      "text/plain": [
       "                                                Reviews              Title  \\\n",
       "116   To all the ppl on the 1st four review pages, u...  /title/tt0108052/   \n",
       "344   Spoilers herein. Competent filmmakers are rare...  /title/tt0099685/   \n",
       "854   There's two things that stand out to me always...  /title/tt0064116/   \n",
       "1022  \"Wall-E\" along with \"Up\" must be one of the be...  /title/tt0910970/   \n",
       "1158  It's hard to imagine how Dame Agatha could hav...  /title/tt0051201/   \n",
       "\n",
       "                                               Synopsis  Cosine_Similarity  \\\n",
       "116   The relocation of Polish Jews from surrounding...           0.221232   \n",
       "344   The film opens with three men driving in their...           0.220938   \n",
       "854   In the desert Southwest of America during the ...           0.261914   \n",
       "1022  A Dystopia in the Future Approximately seven h...           0.362451   \n",
       "1158  A few years after War War II, in London, Leona...           0.147858   \n",
       "\n",
       "      doc_similarity  \n",
       "116         0.068011  \n",
       "344         0.065175  \n",
       "854         0.088917  \n",
       "1022        0.092950  \n",
       "1158        0.073731  "
      ]
     },
     "execution_count": 73,
     "metadata": {},
     "output_type": "execute_result"
    }
   ],
   "source": [
    "spoilers_final[spoilers_final.doc_similarity<0.10]"
   ]
  },
  {
   "cell_type": "code",
   "execution_count": 78,
   "id": "05d7d0b7",
   "metadata": {},
   "outputs": [],
   "source": [
    "#non spoiler"
   ]
  },
  {
   "cell_type": "code",
   "execution_count": 76,
   "id": "f49e3f22",
   "metadata": {},
   "outputs": [
    {
     "data": {
      "text/plain": [
       "0.24081486463546753"
      ]
     },
     "execution_count": 76,
     "metadata": {},
     "output_type": "execute_result"
    }
   ],
   "source": [
    "non_spoiler_final.doc_similarity.mean()"
   ]
  },
  {
   "cell_type": "code",
   "execution_count": 80,
   "id": "108ab21b",
   "metadata": {},
   "outputs": [
    {
     "data": {
      "text/html": [
       "<div>\n",
       "<style scoped>\n",
       "    .dataframe tbody tr th:only-of-type {\n",
       "        vertical-align: middle;\n",
       "    }\n",
       "\n",
       "    .dataframe tbody tr th {\n",
       "        vertical-align: top;\n",
       "    }\n",
       "\n",
       "    .dataframe thead th {\n",
       "        text-align: right;\n",
       "    }\n",
       "</style>\n",
       "<table border=\"1\" class=\"dataframe\">\n",
       "  <thead>\n",
       "    <tr style=\"text-align: right;\">\n",
       "      <th></th>\n",
       "      <th>Reviews</th>\n",
       "      <th>Title</th>\n",
       "      <th>Synopsis</th>\n",
       "      <th>Cosine_Similarity</th>\n",
       "      <th>doc_similarity</th>\n",
       "    </tr>\n",
       "  </thead>\n",
       "  <tbody>\n",
       "    <tr>\n",
       "      <th>0</th>\n",
       "      <td>It is no wonder that the film has such a high ...</td>\n",
       "      <td>/title/tt0111161/</td>\n",
       "      <td>In 1947, Andy Dufresne ( Tim Robbins ), a bank...</td>\n",
       "      <td>0.139889</td>\n",
       "      <td>0.202139</td>\n",
       "    </tr>\n",
       "    <tr>\n",
       "      <th>3</th>\n",
       "      <td>One of the finest films made in recent years. ...</td>\n",
       "      <td>/title/tt0111161/</td>\n",
       "      <td>In 1947, Andy Dufresne ( Tim Robbins ), a bank...</td>\n",
       "      <td>0.196977</td>\n",
       "      <td>0.108079</td>\n",
       "    </tr>\n",
       "    <tr>\n",
       "      <th>5</th>\n",
       "      <td>I've lost count of the number of times I have ...</td>\n",
       "      <td>/title/tt0111161/</td>\n",
       "      <td>In 1947, Andy Dufresne ( Tim Robbins ), a bank...</td>\n",
       "      <td>0.204272</td>\n",
       "      <td>0.187180</td>\n",
       "    </tr>\n",
       "    <tr>\n",
       "      <th>6</th>\n",
       "      <td>Two imprisoned men (Tim Robbins and Morgan Fre...</td>\n",
       "      <td>/title/tt0111161/</td>\n",
       "      <td>In 1947, Andy Dufresne ( Tim Robbins ), a bank...</td>\n",
       "      <td>0.109267</td>\n",
       "      <td>0.200362</td>\n",
       "    </tr>\n",
       "    <tr>\n",
       "      <th>8</th>\n",
       "      <td>The Shawshank Redemption has great performance...</td>\n",
       "      <td>/title/tt0111161/</td>\n",
       "      <td>In 1947, Andy Dufresne ( Tim Robbins ), a bank...</td>\n",
       "      <td>0.089680</td>\n",
       "      <td>0.183197</td>\n",
       "    </tr>\n",
       "    <tr>\n",
       "      <th>...</th>\n",
       "      <td>...</td>\n",
       "      <td>...</td>\n",
       "      <td>...</td>\n",
       "      <td>...</td>\n",
       "      <td>...</td>\n",
       "    </tr>\n",
       "    <tr>\n",
       "      <th>3782</th>\n",
       "      <td>This film is one of a kind. After seeing this ...</td>\n",
       "      <td>/title/tt0169547/</td>\n",
       "      <td>Lester Burnham (Kevin Spacey) is a 42-year-old...</td>\n",
       "      <td>0.316232</td>\n",
       "      <td>0.100068</td>\n",
       "    </tr>\n",
       "    <tr>\n",
       "      <th>3784</th>\n",
       "      <td>I have come to see the movie with a certain pr...</td>\n",
       "      <td>/title/tt0169547/</td>\n",
       "      <td>Lester Burnham (Kevin Spacey) is a 42-year-old...</td>\n",
       "      <td>0.144238</td>\n",
       "      <td>0.138452</td>\n",
       "    </tr>\n",
       "    <tr>\n",
       "      <th>3785</th>\n",
       "      <td>\"American Beauty\" is tour de force cinema. Sam...</td>\n",
       "      <td>/title/tt0169547/</td>\n",
       "      <td>Lester Burnham (Kevin Spacey) is a 42-year-old...</td>\n",
       "      <td>0.368562</td>\n",
       "      <td>0.209948</td>\n",
       "    </tr>\n",
       "    <tr>\n",
       "      <th>3787</th>\n",
       "      <td>The intention is so clear that everything else...</td>\n",
       "      <td>/title/tt0169547/</td>\n",
       "      <td>Lester Burnham (Kevin Spacey) is a 42-year-old...</td>\n",
       "      <td>0.165112</td>\n",
       "      <td>0.005265</td>\n",
       "    </tr>\n",
       "    <tr>\n",
       "      <th>3789</th>\n",
       "      <td>When I first saw this movie in theaters, I fou...</td>\n",
       "      <td>/title/tt0169547/</td>\n",
       "      <td>Lester Burnham (Kevin Spacey) is a 42-year-old...</td>\n",
       "      <td>0.197961</td>\n",
       "      <td>0.188731</td>\n",
       "    </tr>\n",
       "  </tbody>\n",
       "</table>\n",
       "<p>2022 rows × 5 columns</p>\n",
       "</div>"
      ],
      "text/plain": [
       "                                                Reviews              Title  \\\n",
       "0     It is no wonder that the film has such a high ...  /title/tt0111161/   \n",
       "3     One of the finest films made in recent years. ...  /title/tt0111161/   \n",
       "5     I've lost count of the number of times I have ...  /title/tt0111161/   \n",
       "6     Two imprisoned men (Tim Robbins and Morgan Fre...  /title/tt0111161/   \n",
       "8     The Shawshank Redemption has great performance...  /title/tt0111161/   \n",
       "...                                                 ...                ...   \n",
       "3782  This film is one of a kind. After seeing this ...  /title/tt0169547/   \n",
       "3784  I have come to see the movie with a certain pr...  /title/tt0169547/   \n",
       "3785  \"American Beauty\" is tour de force cinema. Sam...  /title/tt0169547/   \n",
       "3787  The intention is so clear that everything else...  /title/tt0169547/   \n",
       "3789  When I first saw this movie in theaters, I fou...  /title/tt0169547/   \n",
       "\n",
       "                                               Synopsis  Cosine_Similarity  \\\n",
       "0     In 1947, Andy Dufresne ( Tim Robbins ), a bank...           0.139889   \n",
       "3     In 1947, Andy Dufresne ( Tim Robbins ), a bank...           0.196977   \n",
       "5     In 1947, Andy Dufresne ( Tim Robbins ), a bank...           0.204272   \n",
       "6     In 1947, Andy Dufresne ( Tim Robbins ), a bank...           0.109267   \n",
       "8     In 1947, Andy Dufresne ( Tim Robbins ), a bank...           0.089680   \n",
       "...                                                 ...                ...   \n",
       "3782  Lester Burnham (Kevin Spacey) is a 42-year-old...           0.316232   \n",
       "3784  Lester Burnham (Kevin Spacey) is a 42-year-old...           0.144238   \n",
       "3785  Lester Burnham (Kevin Spacey) is a 42-year-old...           0.368562   \n",
       "3787  Lester Burnham (Kevin Spacey) is a 42-year-old...           0.165112   \n",
       "3789  Lester Burnham (Kevin Spacey) is a 42-year-old...           0.197961   \n",
       "\n",
       "      doc_similarity  \n",
       "0           0.202139  \n",
       "3           0.108079  \n",
       "5           0.187180  \n",
       "6           0.200362  \n",
       "8           0.183197  \n",
       "...              ...  \n",
       "3782        0.100068  \n",
       "3784        0.138452  \n",
       "3785        0.209948  \n",
       "3787        0.005265  \n",
       "3789        0.188731  \n",
       "\n",
       "[2022 rows x 5 columns]"
      ]
     },
     "execution_count": 80,
     "metadata": {},
     "output_type": "execute_result"
    }
   ],
   "source": [
    "non_spoiler_final[non_spoiler_final.doc_similarity<0.25]"
   ]
  },
  {
   "cell_type": "code",
   "execution_count": 81,
   "id": "6b96f699",
   "metadata": {},
   "outputs": [
    {
     "data": {
      "text/plain": [
       "(3790, 5)"
      ]
     },
     "execution_count": 81,
     "metadata": {},
     "output_type": "execute_result"
    }
   ],
   "source": [
    "non_spoiler_final.shape"
   ]
  },
  {
   "cell_type": "code",
   "execution_count": null,
   "id": "02443470",
   "metadata": {},
   "outputs": [],
   "source": []
  },
  {
   "cell_type": "code",
   "execution_count": null,
   "id": "d3b99096",
   "metadata": {},
   "outputs": [],
   "source": []
  },
  {
   "cell_type": "code",
   "execution_count": 85,
   "id": "ccfc15e8",
   "metadata": {},
   "outputs": [],
   "source": [
    "import glob as g\n",
    "\n",
    "def read_datasets(filepath):\n",
    "    columns=['Index','Review','Title']\n",
    "    df_main = pd.DataFrame()\n",
    "    filenames = g.glob(filepath + '/*')\n",
    "    for name in filenames:\n",
    "        print(name)\n",
    "        df = pd.read_excel(name)\n",
    "        df_main = pd.concat([df_main,df])\n",
    "    df_main.columns = columns\n",
    "    return df_main"
   ]
  },
  {
   "cell_type": "code",
   "execution_count": 87,
   "id": "c3882101",
   "metadata": {},
   "outputs": [
    {
     "name": "stdout",
     "output_type": "stream",
     "text": [
      "D:/Lambton/Sem 3/Capstone project/Datasets/non spoiler\\Non_Spoiler_list_sect1.xlsx\n",
      "D:/Lambton/Sem 3/Capstone project/Datasets/non spoiler\\Non_Spoiler_list_sect2.xlsx\n",
      "D:/Lambton/Sem 3/Capstone project/Datasets/non spoiler\\Non_Spoiler_list_sect3.xlsx\n",
      "D:/Lambton/Sem 3/Capstone project/Datasets/non spoiler\\Non_Spoiler_list_sect4.xlsx\n"
     ]
    }
   ],
   "source": [
    "df_non_spoilers = read_datasets(\"D:/Lambton/Sem 3/Capstone project/Datasets/non spoiler\")"
   ]
  },
  {
   "cell_type": "code",
   "execution_count": 88,
   "id": "caacd3cd",
   "metadata": {},
   "outputs": [
    {
     "data": {
      "text/html": [
       "<div>\n",
       "<style scoped>\n",
       "    .dataframe tbody tr th:only-of-type {\n",
       "        vertical-align: middle;\n",
       "    }\n",
       "\n",
       "    .dataframe tbody tr th {\n",
       "        vertical-align: top;\n",
       "    }\n",
       "\n",
       "    .dataframe thead th {\n",
       "        text-align: right;\n",
       "    }\n",
       "</style>\n",
       "<table border=\"1\" class=\"dataframe\">\n",
       "  <thead>\n",
       "    <tr style=\"text-align: right;\">\n",
       "      <th></th>\n",
       "      <th>Index</th>\n",
       "      <th>Review</th>\n",
       "      <th>Title</th>\n",
       "    </tr>\n",
       "  </thead>\n",
       "  <tbody>\n",
       "    <tr>\n",
       "      <th>0</th>\n",
       "      <td>0</td>\n",
       "      <td>&lt;div class=\"text show-more__control\"&gt;It is no ...</td>\n",
       "      <td>/title/tt0111161/</td>\n",
       "    </tr>\n",
       "    <tr>\n",
       "      <th>1</th>\n",
       "      <td>1</td>\n",
       "      <td>&lt;div class=\"text show-more__control\"&gt;I'm tryin...</td>\n",
       "      <td>/title/tt0111161/</td>\n",
       "    </tr>\n",
       "    <tr>\n",
       "      <th>2</th>\n",
       "      <td>2</td>\n",
       "      <td>&lt;div class=\"text show-more__control\"&gt;This movi...</td>\n",
       "      <td>/title/tt0111161/</td>\n",
       "    </tr>\n",
       "    <tr>\n",
       "      <th>3</th>\n",
       "      <td>3</td>\n",
       "      <td>&lt;div class=\"text show-more__control\"&gt;One of th...</td>\n",
       "      <td>/title/tt0111161/</td>\n",
       "    </tr>\n",
       "    <tr>\n",
       "      <th>4</th>\n",
       "      <td>4</td>\n",
       "      <td>&lt;div class=\"text show-more__control\"&gt;Misery an...</td>\n",
       "      <td>/title/tt0111161/</td>\n",
       "    </tr>\n",
       "    <tr>\n",
       "      <th>...</th>\n",
       "      <td>...</td>\n",
       "      <td>...</td>\n",
       "      <td>...</td>\n",
       "    </tr>\n",
       "    <tr>\n",
       "      <th>2921</th>\n",
       "      <td>2921</td>\n",
       "      <td>&lt;div class=\"text show-more__control\"&gt;Like most...</td>\n",
       "      <td>/title/tt0099348/</td>\n",
       "    </tr>\n",
       "    <tr>\n",
       "      <th>2922</th>\n",
       "      <td>2922</td>\n",
       "      <td>&lt;div class=\"text show-more__control\"&gt;And he de...</td>\n",
       "      <td>/title/tt0099348/</td>\n",
       "    </tr>\n",
       "    <tr>\n",
       "      <th>2923</th>\n",
       "      <td>2923</td>\n",
       "      <td>&lt;div class=\"text show-more__control\"&gt;What the ...</td>\n",
       "      <td>/title/tt0099348/</td>\n",
       "    </tr>\n",
       "    <tr>\n",
       "      <th>2924</th>\n",
       "      <td>2924</td>\n",
       "      <td>&lt;div class=\"text show-more__control\"&gt;Let me pr...</td>\n",
       "      <td>/title/tt0099348/</td>\n",
       "    </tr>\n",
       "    <tr>\n",
       "      <th>2925</th>\n",
       "      <td>2925</td>\n",
       "      <td>&lt;div class=\"text show-more__control\"&gt;Dances wi...</td>\n",
       "      <td>/title/tt0099348/</td>\n",
       "    </tr>\n",
       "  </tbody>\n",
       "</table>\n",
       "<p>14329 rows × 3 columns</p>\n",
       "</div>"
      ],
      "text/plain": [
       "      Index                                             Review  \\\n",
       "0         0  <div class=\"text show-more__control\">It is no ...   \n",
       "1         1  <div class=\"text show-more__control\">I'm tryin...   \n",
       "2         2  <div class=\"text show-more__control\">This movi...   \n",
       "3         3  <div class=\"text show-more__control\">One of th...   \n",
       "4         4  <div class=\"text show-more__control\">Misery an...   \n",
       "...     ...                                                ...   \n",
       "2921   2921  <div class=\"text show-more__control\">Like most...   \n",
       "2922   2922  <div class=\"text show-more__control\">And he de...   \n",
       "2923   2923  <div class=\"text show-more__control\">What the ...   \n",
       "2924   2924  <div class=\"text show-more__control\">Let me pr...   \n",
       "2925   2925  <div class=\"text show-more__control\">Dances wi...   \n",
       "\n",
       "                  Title  \n",
       "0     /title/tt0111161/  \n",
       "1     /title/tt0111161/  \n",
       "2     /title/tt0111161/  \n",
       "3     /title/tt0111161/  \n",
       "4     /title/tt0111161/  \n",
       "...                 ...  \n",
       "2921  /title/tt0099348/  \n",
       "2922  /title/tt0099348/  \n",
       "2923  /title/tt0099348/  \n",
       "2924  /title/tt0099348/  \n",
       "2925  /title/tt0099348/  \n",
       "\n",
       "[14329 rows x 3 columns]"
      ]
     },
     "execution_count": 88,
     "metadata": {},
     "output_type": "execute_result"
    }
   ],
   "source": [
    "df_non_spoilers"
   ]
  },
  {
   "cell_type": "code",
   "execution_count": 89,
   "id": "c5505eb1",
   "metadata": {},
   "outputs": [
    {
     "name": "stdout",
     "output_type": "stream",
     "text": [
      "D:/Lambton/Sem 3/Capstone project/Datasets/spoilers\\Spoiler_list_sect1.xlsx\n",
      "D:/Lambton/Sem 3/Capstone project/Datasets/spoilers\\Spoiler_list_sect11.xlsx\n",
      "D:/Lambton/Sem 3/Capstone project/Datasets/spoilers\\Spoiler_list_sect12.xlsx\n",
      "D:/Lambton/Sem 3/Capstone project/Datasets/spoilers\\Spoiler_list_sect13.xlsx\n",
      "D:/Lambton/Sem 3/Capstone project/Datasets/spoilers\\Spoiler_list_sect14.xlsx\n",
      "D:/Lambton/Sem 3/Capstone project/Datasets/spoilers\\Spoiler_list_sect15.xlsx\n",
      "D:/Lambton/Sem 3/Capstone project/Datasets/spoilers\\Spoiler_list_sect16.xlsx\n",
      "D:/Lambton/Sem 3/Capstone project/Datasets/spoilers\\Spoiler_list_sect17.xlsx\n",
      "D:/Lambton/Sem 3/Capstone project/Datasets/spoilers\\Spoiler_list_sect18.xlsx\n",
      "D:/Lambton/Sem 3/Capstone project/Datasets/spoilers\\Spoiler_list_sect19.xlsx\n",
      "D:/Lambton/Sem 3/Capstone project/Datasets/spoilers\\Spoiler_list_sect2.xlsx\n",
      "D:/Lambton/Sem 3/Capstone project/Datasets/spoilers\\Spoiler_list_sect20.xlsx\n",
      "D:/Lambton/Sem 3/Capstone project/Datasets/spoilers\\Spoiler_list_sect21.xlsx\n",
      "D:/Lambton/Sem 3/Capstone project/Datasets/spoilers\\Spoiler_list_sect22.xlsx\n",
      "D:/Lambton/Sem 3/Capstone project/Datasets/spoilers\\Spoiler_list_sect3.xlsx\n",
      "D:/Lambton/Sem 3/Capstone project/Datasets/spoilers\\Spoiler_list_sect4.xlsx\n"
     ]
    }
   ],
   "source": [
    "df_spoilers = read_datasets(\"D:/Lambton/Sem 3/Capstone project/Datasets/spoilers\")"
   ]
  },
  {
   "cell_type": "code",
   "execution_count": 90,
   "id": "25aa75cd",
   "metadata": {},
   "outputs": [
    {
     "data": {
      "text/html": [
       "<div>\n",
       "<style scoped>\n",
       "    .dataframe tbody tr th:only-of-type {\n",
       "        vertical-align: middle;\n",
       "    }\n",
       "\n",
       "    .dataframe tbody tr th {\n",
       "        vertical-align: top;\n",
       "    }\n",
       "\n",
       "    .dataframe thead th {\n",
       "        text-align: right;\n",
       "    }\n",
       "</style>\n",
       "<table border=\"1\" class=\"dataframe\">\n",
       "  <thead>\n",
       "    <tr style=\"text-align: right;\">\n",
       "      <th></th>\n",
       "      <th>Index</th>\n",
       "      <th>Review</th>\n",
       "      <th>Title</th>\n",
       "    </tr>\n",
       "  </thead>\n",
       "  <tbody>\n",
       "    <tr>\n",
       "      <th>0</th>\n",
       "      <td>0</td>\n",
       "      <td>&lt;div class=\"text show-more__control\"&gt;The Shaws...</td>\n",
       "      <td>/title/tt0111161/</td>\n",
       "    </tr>\n",
       "    <tr>\n",
       "      <th>1</th>\n",
       "      <td>1</td>\n",
       "      <td>&lt;div class=\"text show-more__control\"&gt;In its Os...</td>\n",
       "      <td>/title/tt0111161/</td>\n",
       "    </tr>\n",
       "    <tr>\n",
       "      <th>2</th>\n",
       "      <td>2</td>\n",
       "      <td>&lt;div class=\"text show-more__control\"&gt;Based on ...</td>\n",
       "      <td>/title/tt0111161/</td>\n",
       "    </tr>\n",
       "    <tr>\n",
       "      <th>3</th>\n",
       "      <td>3</td>\n",
       "      <td>&lt;div class=\"text show-more__control\"&gt;The Shaws...</td>\n",
       "      <td>/title/tt0111161/</td>\n",
       "    </tr>\n",
       "    <tr>\n",
       "      <th>4</th>\n",
       "      <td>4</td>\n",
       "      <td>&lt;div class=\"text show-more__control\"&gt;None of t...</td>\n",
       "      <td>/title/tt0111161/</td>\n",
       "    </tr>\n",
       "    <tr>\n",
       "      <th>...</th>\n",
       "      <td>...</td>\n",
       "      <td>...</td>\n",
       "      <td>...</td>\n",
       "    </tr>\n",
       "    <tr>\n",
       "      <th>770</th>\n",
       "      <td>770</td>\n",
       "      <td>&lt;div class=\"text show-more__control\"&gt;It's hard...</td>\n",
       "      <td>/title/tt0099348/</td>\n",
       "    </tr>\n",
       "    <tr>\n",
       "      <th>771</th>\n",
       "      <td>771</td>\n",
       "      <td>&lt;div class=\"text show-more__control\"&gt;\"Dances W...</td>\n",
       "      <td>/title/tt0099348/</td>\n",
       "    </tr>\n",
       "    <tr>\n",
       "      <th>772</th>\n",
       "      <td>772</td>\n",
       "      <td>&lt;div class=\"text show-more__control\"&gt;\"Avatar\" ...</td>\n",
       "      <td>/title/tt0099348/</td>\n",
       "    </tr>\n",
       "    <tr>\n",
       "      <th>773</th>\n",
       "      <td>773</td>\n",
       "      <td>&lt;div class=\"text show-more__control\"&gt;\"Dances w...</td>\n",
       "      <td>/title/tt0099348/</td>\n",
       "    </tr>\n",
       "    <tr>\n",
       "      <th>774</th>\n",
       "      <td>774</td>\n",
       "      <td>&lt;div class=\"text show-more__control\"&gt;I have al...</td>\n",
       "      <td>/title/tt0099348/</td>\n",
       "    </tr>\n",
       "  </tbody>\n",
       "</table>\n",
       "<p>5816 rows × 3 columns</p>\n",
       "</div>"
      ],
      "text/plain": [
       "     Index                                             Review  \\\n",
       "0        0  <div class=\"text show-more__control\">The Shaws...   \n",
       "1        1  <div class=\"text show-more__control\">In its Os...   \n",
       "2        2  <div class=\"text show-more__control\">Based on ...   \n",
       "3        3  <div class=\"text show-more__control\">The Shaws...   \n",
       "4        4  <div class=\"text show-more__control\">None of t...   \n",
       "..     ...                                                ...   \n",
       "770    770  <div class=\"text show-more__control\">It's hard...   \n",
       "771    771  <div class=\"text show-more__control\">\"Dances W...   \n",
       "772    772  <div class=\"text show-more__control\">\"Avatar\" ...   \n",
       "773    773  <div class=\"text show-more__control\">\"Dances w...   \n",
       "774    774  <div class=\"text show-more__control\">I have al...   \n",
       "\n",
       "                 Title  \n",
       "0    /title/tt0111161/  \n",
       "1    /title/tt0111161/  \n",
       "2    /title/tt0111161/  \n",
       "3    /title/tt0111161/  \n",
       "4    /title/tt0111161/  \n",
       "..                 ...  \n",
       "770  /title/tt0099348/  \n",
       "771  /title/tt0099348/  \n",
       "772  /title/tt0099348/  \n",
       "773  /title/tt0099348/  \n",
       "774  /title/tt0099348/  \n",
       "\n",
       "[5816 rows x 3 columns]"
      ]
     },
     "execution_count": 90,
     "metadata": {},
     "output_type": "execute_result"
    }
   ],
   "source": [
    "df_spoilers"
   ]
  },
  {
   "cell_type": "code",
   "execution_count": 91,
   "id": "33de6055",
   "metadata": {},
   "outputs": [],
   "source": [
    "df_spoilers.drop(\"Index\",axis=1,inplace=True)"
   ]
  },
  {
   "cell_type": "code",
   "execution_count": 92,
   "id": "57c7e6ae",
   "metadata": {},
   "outputs": [],
   "source": [
    "df_non_spoilers.drop(\"Index\",axis=1,inplace=True)"
   ]
  },
  {
   "cell_type": "code",
   "execution_count": 93,
   "id": "71238d48",
   "metadata": {},
   "outputs": [
    {
     "data": {
      "text/html": [
       "<div>\n",
       "<style scoped>\n",
       "    .dataframe tbody tr th:only-of-type {\n",
       "        vertical-align: middle;\n",
       "    }\n",
       "\n",
       "    .dataframe tbody tr th {\n",
       "        vertical-align: top;\n",
       "    }\n",
       "\n",
       "    .dataframe thead th {\n",
       "        text-align: right;\n",
       "    }\n",
       "</style>\n",
       "<table border=\"1\" class=\"dataframe\">\n",
       "  <thead>\n",
       "    <tr style=\"text-align: right;\">\n",
       "      <th></th>\n",
       "      <th>Title</th>\n",
       "      <th>Synopsis</th>\n",
       "    </tr>\n",
       "  </thead>\n",
       "  <tbody>\n",
       "    <tr>\n",
       "      <th>0</th>\n",
       "      <td>/title/tt0111161/</td>\n",
       "      <td>In 1947, Andy Dufresne ( Tim Robbins ), a bank...</td>\n",
       "    </tr>\n",
       "    <tr>\n",
       "      <th>1</th>\n",
       "      <td>/title/tt0068646/</td>\n",
       "      <td>In late summer 1945, guests are gathered for t...</td>\n",
       "    </tr>\n",
       "    <tr>\n",
       "      <th>2</th>\n",
       "      <td>/title/tt0468569/</td>\n",
       "      <td>The movie begins with a gang of men with clown...</td>\n",
       "    </tr>\n",
       "    <tr>\n",
       "      <th>3</th>\n",
       "      <td>/title/tt0071562/</td>\n",
       "      <td>The Godfather Part II presents two parallel st...</td>\n",
       "    </tr>\n",
       "    <tr>\n",
       "      <th>4</th>\n",
       "      <td>/title/tt0050083/</td>\n",
       "      <td>In a New York City courthouse, an eighteen-yea...</td>\n",
       "    </tr>\n",
       "    <tr>\n",
       "      <th>...</th>\n",
       "      <td>...</td>\n",
       "      <td>...</td>\n",
       "    </tr>\n",
       "    <tr>\n",
       "      <th>245</th>\n",
       "      <td>/title/tt0071411/</td>\n",
       "      <td>Dersu Uzala is named after the character playe...</td>\n",
       "    </tr>\n",
       "    <tr>\n",
       "      <th>246</th>\n",
       "      <td>/title/tt1454029/</td>\n",
       "      <td>In civil-rights era Jackson, Mississippi, 23-y...</td>\n",
       "    </tr>\n",
       "    <tr>\n",
       "      <th>247</th>\n",
       "      <td>/title/tt0103639/</td>\n",
       "      <td>A street peddler (Robin Williams) is guiding t...</td>\n",
       "    </tr>\n",
       "    <tr>\n",
       "      <th>248</th>\n",
       "      <td>/title/tt0083987/</td>\n",
       "      <td>The story begins with the assassination of Moh...</td>\n",
       "    </tr>\n",
       "    <tr>\n",
       "      <th>249</th>\n",
       "      <td>/title/tt0099348/</td>\n",
       "      <td>During a US Civil War battle in Tennessee, Uni...</td>\n",
       "    </tr>\n",
       "  </tbody>\n",
       "</table>\n",
       "<p>250 rows × 2 columns</p>\n",
       "</div>"
      ],
      "text/plain": [
       "                 Title                                           Synopsis\n",
       "0    /title/tt0111161/  In 1947, Andy Dufresne ( Tim Robbins ), a bank...\n",
       "1    /title/tt0068646/  In late summer 1945, guests are gathered for t...\n",
       "2    /title/tt0468569/  The movie begins with a gang of men with clown...\n",
       "3    /title/tt0071562/  The Godfather Part II presents two parallel st...\n",
       "4    /title/tt0050083/  In a New York City courthouse, an eighteen-yea...\n",
       "..                 ...                                                ...\n",
       "245  /title/tt0071411/  Dersu Uzala is named after the character playe...\n",
       "246  /title/tt1454029/  In civil-rights era Jackson, Mississippi, 23-y...\n",
       "247  /title/tt0103639/  A street peddler (Robin Williams) is guiding t...\n",
       "248  /title/tt0083987/  The story begins with the assassination of Moh...\n",
       "249  /title/tt0099348/  During a US Civil War battle in Tennessee, Uni...\n",
       "\n",
       "[250 rows x 2 columns]"
      ]
     },
     "execution_count": 93,
     "metadata": {},
     "output_type": "execute_result"
    }
   ],
   "source": [
    "plot"
   ]
  },
  {
   "cell_type": "code",
   "execution_count": 101,
   "id": "9a11858a",
   "metadata": {},
   "outputs": [],
   "source": [
    "#data cleaning"
   ]
  },
  {
   "cell_type": "code",
   "execution_count": 95,
   "id": "f1943183",
   "metadata": {},
   "outputs": [],
   "source": [
    "df_spoilers[\"Review\"] = df_spoilers[\"Review\"].map(clean)"
   ]
  },
  {
   "cell_type": "code",
   "execution_count": 96,
   "id": "6b7e4d2c",
   "metadata": {},
   "outputs": [],
   "source": [
    "df_non_spoilers[\"Review\"] = df_non_spoilers[\"Review\"].map(clean)"
   ]
  },
  {
   "cell_type": "code",
   "execution_count": 97,
   "id": "4ea1909b",
   "metadata": {},
   "outputs": [],
   "source": [
    "#plot[\"Synopsis\"] = plot[\"Synopsis\"].map(clean)"
   ]
  },
  {
   "cell_type": "code",
   "execution_count": 98,
   "id": "6fbfa765",
   "metadata": {},
   "outputs": [],
   "source": [
    "#merging files"
   ]
  },
  {
   "cell_type": "code",
   "execution_count": 99,
   "id": "761804ac",
   "metadata": {},
   "outputs": [],
   "source": [
    "spoilers_final = pd.merge(df_spoilers, plot, on=['Title','Title'])"
   ]
  },
  {
   "cell_type": "code",
   "execution_count": 100,
   "id": "244f869f",
   "metadata": {},
   "outputs": [],
   "source": [
    "non_spoiler_final = pd.merge(df_non_spoilers, plot, on=['Title','Title'])"
   ]
  },
  {
   "cell_type": "code",
   "execution_count": 106,
   "id": "cf558260",
   "metadata": {},
   "outputs": [
    {
     "data": {
      "text/plain": [
       "(5816, 2)"
      ]
     },
     "execution_count": 106,
     "metadata": {},
     "output_type": "execute_result"
    }
   ],
   "source": [
    "df_spoilers.shape"
   ]
  },
  {
   "cell_type": "code",
   "execution_count": 104,
   "id": "c6223891",
   "metadata": {},
   "outputs": [
    {
     "data": {
      "text/plain": [
       "(4291, 3)"
      ]
     },
     "execution_count": 104,
     "metadata": {},
     "output_type": "execute_result"
    }
   ],
   "source": [
    "spoilers_final.shape"
   ]
  },
  {
   "cell_type": "code",
   "execution_count": 105,
   "id": "27d0a172",
   "metadata": {},
   "outputs": [
    {
     "data": {
      "text/plain": [
       "(14179, 3)"
      ]
     },
     "execution_count": 105,
     "metadata": {},
     "output_type": "execute_result"
    }
   ],
   "source": [
    "non_spoiler_final.shape"
   ]
  },
  {
   "cell_type": "code",
   "execution_count": 117,
   "id": "956c4c7c",
   "metadata": {},
   "outputs": [
    {
     "data": {
      "text/plain": [
       "Review      0\n",
       "Title       0\n",
       "Synopsis    0\n",
       "dtype: int64"
      ]
     },
     "execution_count": 117,
     "metadata": {},
     "output_type": "execute_result"
    }
   ],
   "source": [
    "spoilers_final.isna().sum()"
   ]
  },
  {
   "cell_type": "code",
   "execution_count": 118,
   "id": "d389260c",
   "metadata": {},
   "outputs": [
    {
     "data": {
      "text/plain": [
       "Review       0\n",
       "Title     1450\n",
       "dtype: int64"
      ]
     },
     "execution_count": 118,
     "metadata": {},
     "output_type": "execute_result"
    }
   ],
   "source": [
    "df_spoilers.isna().sum()"
   ]
  },
  {
   "cell_type": "code",
   "execution_count": 119,
   "id": "3b943e7f",
   "metadata": {},
   "outputs": [
    {
     "data": {
      "text/plain": [
       "(5816, 2)"
      ]
     },
     "execution_count": 119,
     "metadata": {},
     "output_type": "execute_result"
    }
   ],
   "source": [
    "df_spoilers.shape"
   ]
  },
  {
   "cell_type": "code",
   "execution_count": 126,
   "id": "b05017f7",
   "metadata": {},
   "outputs": [
    {
     "data": {
      "text/html": [
       "<div>\n",
       "<style scoped>\n",
       "    .dataframe tbody tr th:only-of-type {\n",
       "        vertical-align: middle;\n",
       "    }\n",
       "\n",
       "    .dataframe tbody tr th {\n",
       "        vertical-align: top;\n",
       "    }\n",
       "\n",
       "    .dataframe thead th {\n",
       "        text-align: right;\n",
       "    }\n",
       "</style>\n",
       "<table border=\"1\" class=\"dataframe\">\n",
       "  <thead>\n",
       "    <tr style=\"text-align: right;\">\n",
       "      <th></th>\n",
       "      <th>Review</th>\n",
       "      <th>Title</th>\n",
       "    </tr>\n",
       "  </thead>\n",
       "  <tbody>\n",
       "    <tr>\n",
       "      <th>0</th>\n",
       "      <td>The Shawshank Redemption is written and direct...</td>\n",
       "      <td>NaN</td>\n",
       "    </tr>\n",
       "    <tr>\n",
       "      <th>1</th>\n",
       "      <td>In its Oscar year, Shawshank Redemption (writt...</td>\n",
       "      <td>NaN</td>\n",
       "    </tr>\n",
       "    <tr>\n",
       "      <th>2</th>\n",
       "      <td>Based on a novella by Stephen King, this is be...</td>\n",
       "      <td>NaN</td>\n",
       "    </tr>\n",
       "    <tr>\n",
       "      <th>3</th>\n",
       "      <td>The Shawshank Redemption is without a doubt on...</td>\n",
       "      <td>NaN</td>\n",
       "    </tr>\n",
       "    <tr>\n",
       "      <th>4</th>\n",
       "      <td>None of the usual otherworld creatures that po...</td>\n",
       "      <td>NaN</td>\n",
       "    </tr>\n",
       "    <tr>\n",
       "      <th>...</th>\n",
       "      <td>...</td>\n",
       "      <td>...</td>\n",
       "    </tr>\n",
       "    <tr>\n",
       "      <th>80</th>\n",
       "      <td>I'm not at all an emotional person,but this mo...</td>\n",
       "      <td>NaN</td>\n",
       "    </tr>\n",
       "    <tr>\n",
       "      <th>81</th>\n",
       "      <td>Oh my, hold everything. You want to be prepare...</td>\n",
       "      <td>NaN</td>\n",
       "    </tr>\n",
       "    <tr>\n",
       "      <th>82</th>\n",
       "      <td>I don't think you find a better example of a d...</td>\n",
       "      <td>NaN</td>\n",
       "    </tr>\n",
       "    <tr>\n",
       "      <th>83</th>\n",
       "      <td>Well, I just came back from seeing this in Shi...</td>\n",
       "      <td>NaN</td>\n",
       "    </tr>\n",
       "    <tr>\n",
       "      <th>84</th>\n",
       "      <td>I have watched some touching and moving movies...</td>\n",
       "      <td>NaN</td>\n",
       "    </tr>\n",
       "  </tbody>\n",
       "</table>\n",
       "<p>1450 rows × 2 columns</p>\n",
       "</div>"
      ],
      "text/plain": [
       "                                               Review Title\n",
       "0   The Shawshank Redemption is written and direct...   NaN\n",
       "1   In its Oscar year, Shawshank Redemption (writt...   NaN\n",
       "2   Based on a novella by Stephen King, this is be...   NaN\n",
       "3   The Shawshank Redemption is without a doubt on...   NaN\n",
       "4   None of the usual otherworld creatures that po...   NaN\n",
       "..                                                ...   ...\n",
       "80  I'm not at all an emotional person,but this mo...   NaN\n",
       "81  Oh my, hold everything. You want to be prepare...   NaN\n",
       "82  I don't think you find a better example of a d...   NaN\n",
       "83  Well, I just came back from seeing this in Shi...   NaN\n",
       "84  I have watched some touching and moving movies...   NaN\n",
       "\n",
       "[1450 rows x 2 columns]"
      ]
     },
     "execution_count": 126,
     "metadata": {},
     "output_type": "execute_result"
    }
   ],
   "source": [
    "df_spoilers[df_spoilers.Title.isna()]\n"
   ]
  },
  {
   "cell_type": "code",
   "execution_count": 129,
   "id": "e463cd96",
   "metadata": {},
   "outputs": [
    {
     "data": {
      "text/html": [
       "<div>\n",
       "<style scoped>\n",
       "    .dataframe tbody tr th:only-of-type {\n",
       "        vertical-align: middle;\n",
       "    }\n",
       "\n",
       "    .dataframe tbody tr th {\n",
       "        vertical-align: top;\n",
       "    }\n",
       "\n",
       "    .dataframe thead th {\n",
       "        text-align: right;\n",
       "    }\n",
       "</style>\n",
       "<table border=\"1\" class=\"dataframe\">\n",
       "  <thead>\n",
       "    <tr style=\"text-align: right;\">\n",
       "      <th></th>\n",
       "      <th>Review</th>\n",
       "      <th>Title</th>\n",
       "      <th>Synopsis</th>\n",
       "    </tr>\n",
       "  </thead>\n",
       "  <tbody>\n",
       "  </tbody>\n",
       "</table>\n",
       "</div>"
      ],
      "text/plain": [
       "Empty DataFrame\n",
       "Columns: [Review, Title, Synopsis]\n",
       "Index: []"
      ]
     },
     "execution_count": 129,
     "metadata": {},
     "output_type": "execute_result"
    }
   ],
   "source": [
    "spoilers_final[spoilers_final.Title.isna()]\n"
   ]
  },
  {
   "cell_type": "code",
   "execution_count": 130,
   "id": "1c8bcf6e",
   "metadata": {},
   "outputs": [
    {
     "data": {
      "text/html": [
       "<div>\n",
       "<style scoped>\n",
       "    .dataframe tbody tr th:only-of-type {\n",
       "        vertical-align: middle;\n",
       "    }\n",
       "\n",
       "    .dataframe tbody tr th {\n",
       "        vertical-align: top;\n",
       "    }\n",
       "\n",
       "    .dataframe thead th {\n",
       "        text-align: right;\n",
       "    }\n",
       "</style>\n",
       "<table border=\"1\" class=\"dataframe\">\n",
       "  <thead>\n",
       "    <tr style=\"text-align: right;\">\n",
       "      <th></th>\n",
       "      <th>Review</th>\n",
       "      <th>Title</th>\n",
       "      <th>Synopsis</th>\n",
       "    </tr>\n",
       "  </thead>\n",
       "  <tbody>\n",
       "    <tr>\n",
       "      <th>0</th>\n",
       "      <td>The Shawshank Redemption is written and direct...</td>\n",
       "      <td>/title/tt0111161/</td>\n",
       "      <td>In 1947, Andy Dufresne ( Tim Robbins ), a bank...</td>\n",
       "    </tr>\n",
       "    <tr>\n",
       "      <th>1</th>\n",
       "      <td>In its Oscar year, Shawshank Redemption (writt...</td>\n",
       "      <td>/title/tt0111161/</td>\n",
       "      <td>In 1947, Andy Dufresne ( Tim Robbins ), a bank...</td>\n",
       "    </tr>\n",
       "    <tr>\n",
       "      <th>2</th>\n",
       "      <td>Based on a novella by Stephen King, this is be...</td>\n",
       "      <td>/title/tt0111161/</td>\n",
       "      <td>In 1947, Andy Dufresne ( Tim Robbins ), a bank...</td>\n",
       "    </tr>\n",
       "    <tr>\n",
       "      <th>3</th>\n",
       "      <td>The Shawshank Redemption is without a doubt on...</td>\n",
       "      <td>/title/tt0111161/</td>\n",
       "      <td>In 1947, Andy Dufresne ( Tim Robbins ), a bank...</td>\n",
       "    </tr>\n",
       "    <tr>\n",
       "      <th>4</th>\n",
       "      <td>None of the usual otherworld creatures that po...</td>\n",
       "      <td>/title/tt0111161/</td>\n",
       "      <td>In 1947, Andy Dufresne ( Tim Robbins ), a bank...</td>\n",
       "    </tr>\n",
       "    <tr>\n",
       "      <th>...</th>\n",
       "      <td>...</td>\n",
       "      <td>...</td>\n",
       "      <td>...</td>\n",
       "    </tr>\n",
       "    <tr>\n",
       "      <th>4286</th>\n",
       "      <td>It's hard for me to believe that fourteen year...</td>\n",
       "      <td>/title/tt0099348/</td>\n",
       "      <td>During a US Civil War battle in Tennessee, Uni...</td>\n",
       "    </tr>\n",
       "    <tr>\n",
       "      <th>4287</th>\n",
       "      <td>\"Dances With Wolves\" is another great period p...</td>\n",
       "      <td>/title/tt0099348/</td>\n",
       "      <td>During a US Civil War battle in Tennessee, Uni...</td>\n",
       "    </tr>\n",
       "    <tr>\n",
       "      <th>4288</th>\n",
       "      <td>\"Avatar\" vs \"Dances With Wolves\". Round One. F...</td>\n",
       "      <td>/title/tt0099348/</td>\n",
       "      <td>During a US Civil War battle in Tennessee, Uni...</td>\n",
       "    </tr>\n",
       "    <tr>\n",
       "      <th>4289</th>\n",
       "      <td>\"Dances with Wolves\" is hated by quite a lot o...</td>\n",
       "      <td>/title/tt0099348/</td>\n",
       "      <td>During a US Civil War battle in Tennessee, Uni...</td>\n",
       "    </tr>\n",
       "    <tr>\n",
       "      <th>4290</th>\n",
       "      <td>I have always been fascinated about Native Ame...</td>\n",
       "      <td>/title/tt0099348/</td>\n",
       "      <td>During a US Civil War battle in Tennessee, Uni...</td>\n",
       "    </tr>\n",
       "  </tbody>\n",
       "</table>\n",
       "<p>4291 rows × 3 columns</p>\n",
       "</div>"
      ],
      "text/plain": [
       "                                                 Review              Title  \\\n",
       "0     The Shawshank Redemption is written and direct...  /title/tt0111161/   \n",
       "1     In its Oscar year, Shawshank Redemption (writt...  /title/tt0111161/   \n",
       "2     Based on a novella by Stephen King, this is be...  /title/tt0111161/   \n",
       "3     The Shawshank Redemption is without a doubt on...  /title/tt0111161/   \n",
       "4     None of the usual otherworld creatures that po...  /title/tt0111161/   \n",
       "...                                                 ...                ...   \n",
       "4286  It's hard for me to believe that fourteen year...  /title/tt0099348/   \n",
       "4287  \"Dances With Wolves\" is another great period p...  /title/tt0099348/   \n",
       "4288  \"Avatar\" vs \"Dances With Wolves\". Round One. F...  /title/tt0099348/   \n",
       "4289  \"Dances with Wolves\" is hated by quite a lot o...  /title/tt0099348/   \n",
       "4290  I have always been fascinated about Native Ame...  /title/tt0099348/   \n",
       "\n",
       "                                               Synopsis  \n",
       "0     In 1947, Andy Dufresne ( Tim Robbins ), a bank...  \n",
       "1     In 1947, Andy Dufresne ( Tim Robbins ), a bank...  \n",
       "2     In 1947, Andy Dufresne ( Tim Robbins ), a bank...  \n",
       "3     In 1947, Andy Dufresne ( Tim Robbins ), a bank...  \n",
       "4     In 1947, Andy Dufresne ( Tim Robbins ), a bank...  \n",
       "...                                                 ...  \n",
       "4286  During a US Civil War battle in Tennessee, Uni...  \n",
       "4287  During a US Civil War battle in Tennessee, Uni...  \n",
       "4288  During a US Civil War battle in Tennessee, Uni...  \n",
       "4289  During a US Civil War battle in Tennessee, Uni...  \n",
       "4290  During a US Civil War battle in Tennessee, Uni...  \n",
       "\n",
       "[4291 rows x 3 columns]"
      ]
     },
     "execution_count": 130,
     "metadata": {},
     "output_type": "execute_result"
    }
   ],
   "source": [
    "spoilers_final"
   ]
  },
  {
   "cell_type": "code",
   "execution_count": null,
   "id": "6d41c6ff",
   "metadata": {},
   "outputs": [],
   "source": []
  },
  {
   "cell_type": "code",
   "execution_count": null,
   "id": "04fc15ca",
   "metadata": {},
   "outputs": [],
   "source": []
  },
  {
   "cell_type": "code",
   "execution_count": null,
   "id": "c8803404",
   "metadata": {},
   "outputs": [],
   "source": []
  },
  {
   "cell_type": "code",
   "execution_count": null,
   "id": "2db79b24",
   "metadata": {},
   "outputs": [],
   "source": []
  },
  {
   "cell_type": "code",
   "execution_count": null,
   "id": "238938eb",
   "metadata": {},
   "outputs": [],
   "source": []
  },
  {
   "cell_type": "code",
   "execution_count": null,
   "id": "b93433de",
   "metadata": {},
   "outputs": [],
   "source": []
  },
  {
   "cell_type": "code",
   "execution_count": 4,
   "id": "1e04f7dd",
   "metadata": {},
   "outputs": [],
   "source": [
    "# importing the required modules\n",
    "import glob\n",
    "import pandas as pd\n",
    " \n",
    "# specifying the path to csv files\n",
    "path = \"D:/Lambton/Sem 3/Capstone project/Datasets/spoilers\"\n",
    " \n",
    "# csv files in the path\n",
    "file_list = glob.glob(path + \"/*.xlsx\")\n",
    " \n",
    "# list of excel files we want to merge.\n",
    "# pd.read_excel(file_path) reads the excel\n",
    "# data into pandas dataframe.\n",
    "excl_list = []\n",
    " \n",
    "for file in file_list:\n",
    "    excl_list.append(pd.read_excel(file))\n",
    " \n",
    "# create a new dataframe to store the\n",
    "# merged excel file.\n",
    "excl_merged = pd.DataFrame()\n",
    " \n",
    "for excl_file in excl_list:\n",
    "     \n",
    "    # appends the data into the excl_merged\n",
    "    # dataframe.\n",
    "    excl_merged = excl_merged.append(\n",
    "      excl_file, ignore_index=True)\n",
    " \n",
    "# exports the dataframe into excel file with\n",
    "# specified name.\n",
    "excl_merged.to_excel('Spoilers_final.xlsx', index=False)"
   ]
  },
  {
   "cell_type": "code",
   "execution_count": 3,
   "id": "c4f9ff2e",
   "metadata": {},
   "outputs": [],
   "source": [
    "# importing the required modules\n",
    "import glob\n",
    "import pandas as pd\n",
    " \n",
    "# specifying the path to csv files\n",
    "path = \"D:/Lambton/Sem 3/Capstone project/Datasets/non spoiler\"\n",
    " \n",
    "# csv files in the path\n",
    "file_list = glob.glob(path + \"/*.xlsx\")\n",
    " \n",
    "# list of excel files we want to merge.\n",
    "# pd.read_excel(file_path) reads the excel\n",
    "# data into pandas dataframe.\n",
    "excl_list = []\n",
    " \n",
    "for file in file_list:\n",
    "    excl_list.append(pd.read_excel(file))\n",
    " \n",
    "# create a new dataframe to store the\n",
    "# merged excel file.\n",
    "excl_merged = pd.DataFrame()\n",
    " \n",
    "for excl_file in excl_list:\n",
    "     \n",
    "    # appends the data into the excl_merged\n",
    "    # dataframe.\n",
    "    excl_merged = excl_merged.append(\n",
    "      excl_file, ignore_index=True)\n",
    " \n",
    "# exports the dataframe into excel file with\n",
    "# specified name.\n",
    "excl_merged.to_excel('Non_Spoilers_final.xlsx', index=False)"
   ]
  },
  {
   "cell_type": "code",
   "execution_count": 133,
   "id": "65ccaeaf",
   "metadata": {},
   "outputs": [],
   "source": [
    "Spoiler_final = pd.read_excel(\"S_final.xlsx\")"
   ]
  },
  {
   "cell_type": "code",
   "execution_count": 137,
   "id": "304ded2e",
   "metadata": {},
   "outputs": [],
   "source": [
    "Spoiler_final = Spoiler_final.rename(columns={0:'Reviews', 1:'Title'})"
   ]
  },
  {
   "cell_type": "code",
   "execution_count": 139,
   "id": "d772d906",
   "metadata": {},
   "outputs": [
    {
     "data": {
      "text/plain": [
       "1450"
      ]
     },
     "execution_count": 139,
     "metadata": {},
     "output_type": "execute_result"
    }
   ],
   "source": [
    "Spoiler_final"
   ]
  },
  {
   "cell_type": "code",
   "execution_count": null,
   "id": "df120dae",
   "metadata": {},
   "outputs": [],
   "source": []
  }
 ],
 "metadata": {
  "kernelspec": {
   "display_name": "Python 3 (ipykernel)",
   "language": "python",
   "name": "python3"
  },
  "language_info": {
   "codemirror_mode": {
    "name": "ipython",
    "version": 3
   },
   "file_extension": ".py",
   "mimetype": "text/x-python",
   "name": "python",
   "nbconvert_exporter": "python",
   "pygments_lexer": "ipython3",
   "version": "3.9.7"
  }
 },
 "nbformat": 4,
 "nbformat_minor": 5
}
